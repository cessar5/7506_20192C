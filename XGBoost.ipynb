{
 "cells": [
  {
   "cell_type": "code",
   "execution_count": 1,
   "metadata": {},
   "outputs": [],
   "source": [
    "import pandas as pd\n",
    "import numpy as np"
   ]
  },
  {
   "cell_type": "markdown",
   "metadata": {},
   "source": [
    "### XGBOOST"
   ]
  },
  {
   "cell_type": "code",
   "execution_count": 2,
   "metadata": {},
   "outputs": [
    {
     "data": {
      "text/html": [
       "<div>\n",
       "<style scoped>\n",
       "    .dataframe tbody tr th:only-of-type {\n",
       "        vertical-align: middle;\n",
       "    }\n",
       "\n",
       "    .dataframe tbody tr th {\n",
       "        vertical-align: top;\n",
       "    }\n",
       "\n",
       "    .dataframe thead th {\n",
       "        text-align: right;\n",
       "    }\n",
       "</style>\n",
       "<table border=\"1\" class=\"dataframe\">\n",
       "  <thead>\n",
       "    <tr style=\"text-align: right;\">\n",
       "      <th></th>\n",
       "      <th>id</th>\n",
       "      <th>titulo</th>\n",
       "      <th>descripcion</th>\n",
       "      <th>tipodepropiedad</th>\n",
       "      <th>direccion</th>\n",
       "      <th>ciudad</th>\n",
       "      <th>provincia</th>\n",
       "      <th>antiguedad</th>\n",
       "      <th>habitaciones</th>\n",
       "      <th>garages</th>\n",
       "      <th>...</th>\n",
       "      <th>es_Duplex</th>\n",
       "      <th>es_Inmuebles_productivos_urbanos</th>\n",
       "      <th>es_Departamento_Compartido</th>\n",
       "      <th>es_Nave_industrial</th>\n",
       "      <th>es_Rancho</th>\n",
       "      <th>es_Terreno_industrial</th>\n",
       "      <th>es_Huerta</th>\n",
       "      <th>es_Lote</th>\n",
       "      <th>es_Hospedaje</th>\n",
       "      <th>es_Garage</th>\n",
       "    </tr>\n",
       "  </thead>\n",
       "  <tbody>\n",
       "    <tr>\n",
       "      <th>0</th>\n",
       "      <td>254099</td>\n",
       "      <td>depto. tipo a-402</td>\n",
       "      <td>depto. interior de 80.15m2, consta de sala com...</td>\n",
       "      <td>Apartamento</td>\n",
       "      <td>Avenida Division del Norte 2005</td>\n",
       "      <td>Benito Juárez</td>\n",
       "      <td>Distrito Federal</td>\n",
       "      <td>8.116114</td>\n",
       "      <td>2.0</td>\n",
       "      <td>1.0</td>\n",
       "      <td>...</td>\n",
       "      <td>0</td>\n",
       "      <td>0</td>\n",
       "      <td>0</td>\n",
       "      <td>0</td>\n",
       "      <td>0</td>\n",
       "      <td>0</td>\n",
       "      <td>0</td>\n",
       "      <td>0</td>\n",
       "      <td>0</td>\n",
       "      <td>0</td>\n",
       "    </tr>\n",
       "    <tr>\n",
       "      <th>1</th>\n",
       "      <td>53461</td>\n",
       "      <td>condominio horizontal en venta</td>\n",
       "      <td>&lt;p&gt;entre sonora y guerrero, atr&amp;aacute;s del h...</td>\n",
       "      <td>Casa en condominio</td>\n",
       "      <td>AV. MEXICO</td>\n",
       "      <td>La Magdalena Contreras</td>\n",
       "      <td>Distrito Federal</td>\n",
       "      <td>10.000000</td>\n",
       "      <td>3.0</td>\n",
       "      <td>2.0</td>\n",
       "      <td>...</td>\n",
       "      <td>0</td>\n",
       "      <td>0</td>\n",
       "      <td>0</td>\n",
       "      <td>0</td>\n",
       "      <td>0</td>\n",
       "      <td>0</td>\n",
       "      <td>0</td>\n",
       "      <td>0</td>\n",
       "      <td>0</td>\n",
       "      <td>0</td>\n",
       "    </tr>\n",
       "    <tr>\n",
       "      <th>2</th>\n",
       "      <td>247984</td>\n",
       "      <td>casa en venta urbi 3 recamaras tonala</td>\n",
       "      <td>descripcion \\nla mejor ubicacion residencial e...</td>\n",
       "      <td>Casa</td>\n",
       "      <td>Urbi Tonala</td>\n",
       "      <td>Tonalá</td>\n",
       "      <td>Jalisco</td>\n",
       "      <td>5.000000</td>\n",
       "      <td>3.0</td>\n",
       "      <td>2.0</td>\n",
       "      <td>...</td>\n",
       "      <td>0</td>\n",
       "      <td>0</td>\n",
       "      <td>0</td>\n",
       "      <td>0</td>\n",
       "      <td>0</td>\n",
       "      <td>0</td>\n",
       "      <td>0</td>\n",
       "      <td>0</td>\n",
       "      <td>0</td>\n",
       "      <td>0</td>\n",
       "    </tr>\n",
       "    <tr>\n",
       "      <th>3</th>\n",
       "      <td>209067</td>\n",
       "      <td>casa sola en toluca zinacantepec con credito i...</td>\n",
       "      <td>casa en privada con caseta de vigilancia casas...</td>\n",
       "      <td>Casa</td>\n",
       "      <td>IGNACIO MANUEL ALTAMIRANO 128</td>\n",
       "      <td>Zinacantepec</td>\n",
       "      <td>Edo. de México</td>\n",
       "      <td>1.000000</td>\n",
       "      <td>2.0</td>\n",
       "      <td>1.0</td>\n",
       "      <td>...</td>\n",
       "      <td>0</td>\n",
       "      <td>0</td>\n",
       "      <td>0</td>\n",
       "      <td>0</td>\n",
       "      <td>0</td>\n",
       "      <td>0</td>\n",
       "      <td>0</td>\n",
       "      <td>0</td>\n",
       "      <td>0</td>\n",
       "      <td>0</td>\n",
       "    </tr>\n",
       "    <tr>\n",
       "      <th>4</th>\n",
       "      <td>185997</td>\n",
       "      <td>paseos del sol</td>\n",
       "      <td>bonito departamento en excelentes condiciones ...</td>\n",
       "      <td>Apartamento</td>\n",
       "      <td>PASEOS DEL SOL</td>\n",
       "      <td>Zapopan</td>\n",
       "      <td>Jalisco</td>\n",
       "      <td>10.000000</td>\n",
       "      <td>2.0</td>\n",
       "      <td>1.0</td>\n",
       "      <td>...</td>\n",
       "      <td>0</td>\n",
       "      <td>0</td>\n",
       "      <td>0</td>\n",
       "      <td>0</td>\n",
       "      <td>0</td>\n",
       "      <td>0</td>\n",
       "      <td>0</td>\n",
       "      <td>0</td>\n",
       "      <td>0</td>\n",
       "      <td>0</td>\n",
       "    </tr>\n",
       "  </tbody>\n",
       "</table>\n",
       "<p>5 rows × 54 columns</p>\n",
       "</div>"
      ],
      "text/plain": [
       "       id                                             titulo  \\\n",
       "0  254099                                  depto. tipo a-402   \n",
       "1   53461                     condominio horizontal en venta   \n",
       "2  247984              casa en venta urbi 3 recamaras tonala   \n",
       "3  209067  casa sola en toluca zinacantepec con credito i...   \n",
       "4  185997                                     paseos del sol   \n",
       "\n",
       "                                         descripcion     tipodepropiedad  \\\n",
       "0  depto. interior de 80.15m2, consta de sala com...         Apartamento   \n",
       "1  <p>entre sonora y guerrero, atr&aacute;s del h...  Casa en condominio   \n",
       "2  descripcion \\nla mejor ubicacion residencial e...                Casa   \n",
       "3  casa en privada con caseta de vigilancia casas...                Casa   \n",
       "4  bonito departamento en excelentes condiciones ...         Apartamento   \n",
       "\n",
       "                         direccion                  ciudad         provincia  \\\n",
       "0  Avenida Division del Norte 2005           Benito Juárez  Distrito Federal   \n",
       "1                       AV. MEXICO  La Magdalena Contreras  Distrito Federal   \n",
       "2                      Urbi Tonala                  Tonalá           Jalisco   \n",
       "3    IGNACIO MANUEL ALTAMIRANO 128            Zinacantepec    Edo. de México   \n",
       "4                  PASEOS DEL SOL                  Zapopan           Jalisco   \n",
       "\n",
       "   antiguedad  habitaciones  garages  ...  es_Duplex  \\\n",
       "0    8.116114           2.0      1.0  ...          0   \n",
       "1   10.000000           3.0      2.0  ...          0   \n",
       "2    5.000000           3.0      2.0  ...          0   \n",
       "3    1.000000           2.0      1.0  ...          0   \n",
       "4   10.000000           2.0      1.0  ...          0   \n",
       "\n",
       "   es_Inmuebles_productivos_urbanos  es_Departamento_Compartido  \\\n",
       "0                                 0                           0   \n",
       "1                                 0                           0   \n",
       "2                                 0                           0   \n",
       "3                                 0                           0   \n",
       "4                                 0                           0   \n",
       "\n",
       "   es_Nave_industrial  es_Rancho  es_Terreno_industrial es_Huerta  es_Lote  \\\n",
       "0                   0          0                      0         0        0   \n",
       "1                   0          0                      0         0        0   \n",
       "2                   0          0                      0         0        0   \n",
       "3                   0          0                      0         0        0   \n",
       "4                   0          0                      0         0        0   \n",
       "\n",
       "   es_Hospedaje  es_Garage  \n",
       "0             0          0  \n",
       "1             0          0  \n",
       "2             0          0  \n",
       "3             0          0  \n",
       "4             0          0  \n",
       "\n",
       "[5 rows x 54 columns]"
      ]
     },
     "metadata": {},
     "output_type": "display_data"
    }
   ],
   "source": [
    "df_train = pd.read_csv('../data/train_con_features.csv', index_col='Unnamed: 0')\n",
    "df_test = pd.read_csv('../data/test_con_features.csv', index_col='Unnamed: 0')\n",
    "display(df_train.head())"
   ]
  },
  {
   "cell_type": "code",
   "execution_count": 19,
   "metadata": {},
   "outputs": [],
   "source": [
    "#columnas_numericas = ['antiguedad', 'habitaciones', 'garages', 'gimnasio', 'usosmultiples', 'piscina', \n",
    "#                      'escuelascercanas', 'centroscomercialescercanos', 'cantidad_amenities', 'cantidad_servicios', \n",
    "#                      'relacion_metros', 'metros_por_amenities', 'metros_por_bano', 'metros_por_habitacion', \n",
    "#                      'provincia_top5']\n",
    "\n",
    "#columnas_numericas_y_precio = ['antiguedad', 'habitaciones', 'garages', 'gimnasio', 'usosmultiples', 'piscina', \n",
    "#                               'escuelascercanas', 'centroscomercialescercanos', 'cantidad_amenities', 'cantidad_servicios', \n",
    "#                               'relacion_metros', 'metros_por_amenities', 'metros_por_bano', 'metros_por_habitacion',\n",
    "#                               'provincia_top5']\n",
    "\n",
    "lst_tipos_propiedades = ['es_Apartamento', 'es_Casa_en_condominio', 'es_Casa', 'es_Terreno', 'es_Terreno_comercial', 'es_Local_Comercial', \n",
    "                         'es_Quinta_Vacacional', 'es_Oficina_comercial', 'es_Edificio', 'es_Casa_uso_de_suelo', \n",
    "                         'es_Local_en_centro_comercial', 'es_Bodega_comercial', 'es_Otros', 'es_Villa', 'es_Duplex', \n",
    "                         'es_Inmuebles_productivos_urbanos', 'es_Departamento_Compartido', 'es_Nave_industrial', 'es_Rancho', \n",
    "                         'es_Terreno_industrial', 'es_Huerta', 'es_Lote', 'es_Hospedaje', 'es_Garage']\n",
    "\n",
    "#'metros_por_bano', 'metros_por_habitacion'\n",
    "#'relacion_metros', 'metros_por_amenities'\n",
    "\n",
    "columnas_numericas = ['provincia_top5']\n",
    "columnas_numericas_y_precio = ['provincia_top5']\n",
    "\n",
    "columnas_numericas = columnas_numericas + lst_tipos_propiedades\n",
    "columnas_numericas_y_precio = columnas_numericas_y_precio + lst_tipos_propiedades\n",
    "columnas_numericas_y_precio.append('precio')"
   ]
  },
  {
   "cell_type": "code",
   "execution_count": 20,
   "metadata": {},
   "outputs": [],
   "source": [
    "X = df_train[columnas_numericas_y_precio].drop(columns=['precio']).values\n",
    "y = df_train['precio'].values"
   ]
  },
  {
   "cell_type": "code",
   "execution_count": 21,
   "metadata": {},
   "outputs": [],
   "source": [
    "# Métrica de evaluación\n",
    "def RMSLE(actual, pred):\n",
    "    return (np.mean((np.log(actual + 1) - np.log(pred + 1)) ** 2)) **.5"
   ]
  },
  {
   "cell_type": "code",
   "execution_count": 38,
   "metadata": {},
   "outputs": [
    {
     "name": "stdout",
     "output_type": "stream",
     "text": [
      "(156000, 25) (156000,)\n",
      "(84000, 25) (84000,)\n"
     ]
    }
   ],
   "source": [
    "from sklearn.model_selection import train_test_split\n",
    "\n",
    "X_train, X_test, y_train, y_test = train_test_split(X,y, test_size=0.35, random_state=0)\n",
    "\n",
    "print(X_train.shape, y_train.shape)\n",
    "print(X_test.shape, y_test.shape)"
   ]
  },
  {
   "cell_type": "code",
   "execution_count": 39,
   "metadata": {},
   "outputs": [],
   "source": [
    "import xgboost as xgb\n",
    "XGBoost = xgb.XGBRegressor(objective='reg:squarederror', colsample_bytree = 0.3, learning_rate = 0.05, \n",
    "                           max_depth = 5, alpha = 10, n_estimators = 100)\n",
    "\n",
    "XGBoost_fit = XGBoost.fit(X_train, y_train)"
   ]
  },
  {
   "cell_type": "code",
   "execution_count": 40,
   "metadata": {},
   "outputs": [],
   "source": [
    "XGBoost_pred = XGBoost_fit.predict(X_test)"
   ]
  },
  {
   "cell_type": "code",
   "execution_count": 41,
   "metadata": {},
   "outputs": [
    {
     "name": "stdout",
     "output_type": "stream",
     "text": [
      "RMSLE XGBoost (train): 0.86206\n",
      "RMSLE XGBoost: 0.86702\n",
      "------------------------------\n"
     ]
    }
   ],
   "source": [
    "XGBoost_rmsle = RMSLE(y_test, XGBoost_pred)\n",
    "XGBoost_rmsle_train = RMSLE(y_train, XGBoost_fit.predict(X_train))\n",
    "print(f\"RMSLE XGBoost (train): {XGBoost_rmsle_train:.5f}\")\n",
    "print(f\"RMSLE XGBoost: {XGBoost_rmsle:.5f}\")\n",
    "print(\"------------------------------\")"
   ]
  },
  {
   "cell_type": "code",
   "execution_count": 43,
   "metadata": {},
   "outputs": [
    {
     "name": "stdout",
     "output_type": "stream",
     "text": [
      "MAE XGBoost (train): 1526871.03649\n",
      "MAE XGBoost: 1539488.04228\n",
      "------------------------------\n"
     ]
    }
   ],
   "source": [
    "from sklearn.metrics import mean_absolute_error\n",
    "\n",
    "XGBoost_mae = mean_absolute_error(y_test, XGBoost_pred)\n",
    "XGBoost_mae_train = mean_absolute_error(y_train, XGBoost_fit.predict(X_train))\n",
    "print(f\"MAE XGBoost (train): {XGBoost_mae_train:.5f}\")\n",
    "print(f\"MAE XGBoost: {XGBoost_mae:.5f}\")\n",
    "print(\"------------------------------\")"
   ]
  },
  {
   "cell_type": "code",
   "execution_count": 29,
   "metadata": {},
   "outputs": [],
   "source": [
    "df_train_sumbit = df_train[columnas_numericas_y_precio]\n",
    "df_test_submit = df_test[columnas_numericas]\n",
    "XGBoost_pred_sumbit = xgb.XGBRegressor(objective='reg:squarederror', colsample_bytree = 0.3, learning_rate = 0.05, \n",
    "                           max_depth = 5, alpha = 10, n_estimators = 100)\\\n",
    "                        .fit(df_train_sumbit[columnas_numericas], df_train_sumbit['precio'])\\\n",
    "                        .predict(df_test_submit[columnas_numericas])"
   ]
  },
  {
   "cell_type": "code",
   "execution_count": 30,
   "metadata": {},
   "outputs": [
    {
     "data": {
      "text/html": [
       "<div>\n",
       "<style scoped>\n",
       "    .dataframe tbody tr th:only-of-type {\n",
       "        vertical-align: middle;\n",
       "    }\n",
       "\n",
       "    .dataframe tbody tr th {\n",
       "        vertical-align: top;\n",
       "    }\n",
       "\n",
       "    .dataframe thead th {\n",
       "        text-align: right;\n",
       "    }\n",
       "</style>\n",
       "<table border=\"1\" class=\"dataframe\">\n",
       "  <thead>\n",
       "    <tr style=\"text-align: right;\">\n",
       "      <th></th>\n",
       "      <th>id</th>\n",
       "      <th>target</th>\n",
       "    </tr>\n",
       "  </thead>\n",
       "  <tbody>\n",
       "    <tr>\n",
       "      <th>0</th>\n",
       "      <td>4941</td>\n",
       "      <td>2874470.75</td>\n",
       "    </tr>\n",
       "    <tr>\n",
       "      <th>1</th>\n",
       "      <td>51775</td>\n",
       "      <td>2148799.50</td>\n",
       "    </tr>\n",
       "    <tr>\n",
       "      <th>2</th>\n",
       "      <td>115253</td>\n",
       "      <td>2916303.75</td>\n",
       "    </tr>\n",
       "    <tr>\n",
       "      <th>3</th>\n",
       "      <td>299321</td>\n",
       "      <td>2916303.75</td>\n",
       "    </tr>\n",
       "    <tr>\n",
       "      <th>4</th>\n",
       "      <td>173570</td>\n",
       "      <td>2874470.75</td>\n",
       "    </tr>\n",
       "  </tbody>\n",
       "</table>\n",
       "</div>"
      ],
      "text/plain": [
       "       id      target\n",
       "0    4941  2874470.75\n",
       "1   51775  2148799.50\n",
       "2  115253  2916303.75\n",
       "3  299321  2916303.75\n",
       "4  173570  2874470.75"
      ]
     },
     "metadata": {},
     "output_type": "display_data"
    }
   ],
   "source": [
    "resultado_submit = pd.DataFrame(index=df_test.index)\n",
    "resultado_submit['id'] = df_test['id']\n",
    "resultado_submit['target'] = XGBoost_pred_sumbit\n",
    "display(resultado_submit.head())\n",
    "resultado_submit.to_csv('../data/sumbitXGBoost.csv',index=False)"
   ]
  },
  {
   "cell_type": "markdown",
   "metadata": {},
   "source": [
    "#### Score en Kaggle (features => score):\n",
    " **1.** *['antiguedad', 'habitaciones', 'garages', 'gimnasio', 'usosmultiples', 'piscina', 'escuelascercanas', 'centroscomercialescercanos', 'cantidad_amenities', 'cantidad_servicios'] =>* ***1310457.48052*** con objective='reg:squarederror', n_estimators=100, learning_rate=0.1, max_depth=3\n",
    " \n",
    " **2.** *['antiguedad', 'habitaciones', 'garages', 'gimnasio', 'usosmultiples', 'piscina', 'escuelascercanas', 'centroscomercialescercanos', 'cantidad_amenities', 'cantidad_servicios'] =>* ***1332492.86254*** con objective='reg:squarederror', colsample_bytree = 0.3, learning_rate = 0.05, max_depth = 5, alpha = 10, n_estimators = 100"
   ]
  },
  {
   "cell_type": "code",
   "execution_count": null,
   "metadata": {},
   "outputs": [],
   "source": []
  }
 ],
 "metadata": {
  "kernelspec": {
   "display_name": "Python 3",
   "language": "python",
   "name": "python3"
  },
  "language_info": {
   "codemirror_mode": {
    "name": "ipython",
    "version": 3
   },
   "file_extension": ".py",
   "mimetype": "text/x-python",
   "name": "python",
   "nbconvert_exporter": "python",
   "pygments_lexer": "ipython3",
   "version": "3.7.3"
  }
 },
 "nbformat": 4,
 "nbformat_minor": 2
}
