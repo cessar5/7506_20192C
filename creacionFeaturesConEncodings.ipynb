{
 "cells": [
  {
   "cell_type": "code",
   "execution_count": 1,
   "metadata": {},
   "outputs": [],
   "source": [
    "import pandas as pd\n",
    "from sklearn.preprocessing import LabelEncoder"
   ]
  },
  {
   "cell_type": "markdown",
   "metadata": {},
   "source": [
    "## Partimos de los datos genereados por Notebook creacionFeatures"
   ]
  },
  {
   "cell_type": "code",
   "execution_count": 2,
   "metadata": {},
   "outputs": [],
   "source": [
    "df_train = pd.read_csv('../data/train_con_features.csv', index_col='Unnamed: 0')\n",
    "df_test = pd.read_csv('../data/test_con_features.csv', index_col='Unnamed: 0')"
   ]
  },
  {
   "cell_type": "code",
   "execution_count": 3,
   "metadata": {},
   "outputs": [
    {
     "data": {
      "text/plain": [
       "Index(['id', 'titulo', 'descripcion', 'tipodepropiedad', 'direccion', 'ciudad',\n",
       "       'provincia', 'antiguedad', 'habitaciones', 'garages', 'banos',\n",
       "       'metroscubiertos', 'metrostotales', 'idzona', 'lat', 'lng', 'fecha',\n",
       "       'gimnasio', 'usosmultiples', 'piscina', 'escuelascercanas',\n",
       "       'centroscomercialescercanos', 'precio', 'cantidad_amenities',\n",
       "       'cantidad_servicios', 'relacion_metros', 'metros_por_habitacion',\n",
       "       'metros_por_bano', 'metros_por_amenities', 'bano_por_habitacion',\n",
       "       'garages_por_habitacion', 'precio_prom_ciudad', 'precio_prom_propiedad',\n",
       "       'provincia_top5', 'es_Apartamento', 'es_Casa_en_condominio', 'es_Casa',\n",
       "       'es_Terreno', 'es_Terreno_comercial', 'es_Local_Comercial',\n",
       "       'es_Quinta_Vacacional', 'es_Oficina_comercial', 'es_Edificio',\n",
       "       'es_Casa_uso_de_suelo', 'es_Local_en_centro_comercial',\n",
       "       'es_Bodega_comercial', 'es_Otros', 'es_Villa', 'es_Duplex',\n",
       "       'es_Inmuebles_productivos_urbanos', 'es_Departamento_Compartido',\n",
       "       'es_Nave_industrial', 'es_Rancho', 'es_Terreno_industrial', 'es_Huerta',\n",
       "       'es_Lote', 'es_Hospedaje', 'es_Garage', 'seguridad_descripcion',\n",
       "       'moderno_descripcion', 'hermoso_descripcion', 'estado_descripcion',\n",
       "       'seguridad_titulo', 'moderno_titulo', 'hermoso_titulo', 'estado_titulo',\n",
       "       'cantidad_palabras_descripcion', 'relacion_palabras_descripcion',\n",
       "       'es_avenida', 'es_ciudad_capital', 'ciudad_turistica_top15', 'anio',\n",
       "       'mes'],\n",
       "      dtype='object')"
      ]
     },
     "execution_count": 3,
     "metadata": {},
     "output_type": "execute_result"
    }
   ],
   "source": [
    "df_train.columns"
   ]
  },
  {
   "cell_type": "markdown",
   "metadata": {},
   "source": [
    "### Eliminamos los features generados relacionados con TipoPropiedad"
   ]
  },
  {
   "cell_type": "code",
   "execution_count": 4,
   "metadata": {},
   "outputs": [
    {
     "data": {
      "text/plain": [
       "Index(['id', 'titulo', 'descripcion', 'tipodepropiedad', 'direccion', 'ciudad',\n",
       "       'provincia', 'antiguedad', 'habitaciones', 'garages', 'banos',\n",
       "       'metroscubiertos', 'metrostotales', 'idzona', 'lat', 'lng', 'fecha',\n",
       "       'gimnasio', 'usosmultiples', 'piscina', 'escuelascercanas',\n",
       "       'centroscomercialescercanos', 'precio', 'cantidad_amenities',\n",
       "       'cantidad_servicios', 'relacion_metros', 'metros_por_habitacion',\n",
       "       'metros_por_bano', 'metros_por_amenities', 'bano_por_habitacion',\n",
       "       'garages_por_habitacion', 'precio_prom_ciudad', 'precio_prom_propiedad',\n",
       "       'provincia_top5', 'seguridad_descripcion', 'moderno_descripcion',\n",
       "       'hermoso_descripcion', 'estado_descripcion', 'seguridad_titulo',\n",
       "       'moderno_titulo', 'hermoso_titulo', 'estado_titulo',\n",
       "       'cantidad_palabras_descripcion', 'relacion_palabras_descripcion',\n",
       "       'es_avenida', 'es_ciudad_capital', 'ciudad_turistica_top15', 'anio',\n",
       "       'mes'],\n",
       "      dtype='object')"
      ]
     },
     "execution_count": 4,
     "metadata": {},
     "output_type": "execute_result"
    }
   ],
   "source": [
    "lst_tipos_propiedades = ['es_Apartamento', 'es_Casa_en_condominio', 'es_Casa', 'es_Terreno',\n",
    "                         'es_Terreno_comercial', 'es_Local_Comercial', 'es_Quinta_Vacacional',\n",
    "                         'es_Oficina_comercial', 'es_Edificio', 'es_Casa_uso_de_suelo',\n",
    "                         'es_Local_en_centro_comercial', 'es_Bodega_comercial', 'es_Otros',\n",
    "                         'es_Villa', 'es_Duplex', 'es_Inmuebles_productivos_urbanos',\n",
    "                         'es_Departamento_Compartido', 'es_Nave_industrial', 'es_Rancho',\n",
    "                         'es_Terreno_industrial', 'es_Huerta', 'es_Lote', 'es_Hospedaje', 'es_Garage']\n",
    "\n",
    "df_train = df_train.drop(lst_tipos_propiedades, axis=1)\n",
    "df_test = df_test.drop(lst_tipos_propiedades, axis=1)\n",
    "df_train.columns"
   ]
  },
  {
   "cell_type": "markdown",
   "metadata": {},
   "source": [
    "### Eliminamos features repetidos y complejos"
   ]
  },
  {
   "cell_type": "code",
   "execution_count": 5,
   "metadata": {},
   "outputs": [
    {
     "data": {
      "text/html": [
       "<div>\n",
       "<style scoped>\n",
       "    .dataframe tbody tr th:only-of-type {\n",
       "        vertical-align: middle;\n",
       "    }\n",
       "\n",
       "    .dataframe tbody tr th {\n",
       "        vertical-align: top;\n",
       "    }\n",
       "\n",
       "    .dataframe thead th {\n",
       "        text-align: right;\n",
       "    }\n",
       "</style>\n",
       "<table border=\"1\" class=\"dataframe\">\n",
       "  <thead>\n",
       "    <tr style=\"text-align: right;\">\n",
       "      <th></th>\n",
       "      <th>id</th>\n",
       "      <th>tipodepropiedad</th>\n",
       "      <th>ciudad</th>\n",
       "      <th>provincia</th>\n",
       "      <th>antiguedad</th>\n",
       "      <th>habitaciones</th>\n",
       "      <th>garages</th>\n",
       "      <th>banos</th>\n",
       "      <th>metroscubiertos</th>\n",
       "      <th>metrostotales</th>\n",
       "      <th>...</th>\n",
       "      <th>moderno_titulo</th>\n",
       "      <th>hermoso_titulo</th>\n",
       "      <th>estado_titulo</th>\n",
       "      <th>cantidad_palabras_descripcion</th>\n",
       "      <th>relacion_palabras_descripcion</th>\n",
       "      <th>es_avenida</th>\n",
       "      <th>es_ciudad_capital</th>\n",
       "      <th>ciudad_turistica_top15</th>\n",
       "      <th>anio</th>\n",
       "      <th>mes</th>\n",
       "    </tr>\n",
       "  </thead>\n",
       "  <tbody>\n",
       "    <tr>\n",
       "      <td>0</td>\n",
       "      <td>254099</td>\n",
       "      <td>Apartamento</td>\n",
       "      <td>Benito Juárez</td>\n",
       "      <td>Distrito Federal</td>\n",
       "      <td>8.116114</td>\n",
       "      <td>2.0</td>\n",
       "      <td>1.0</td>\n",
       "      <td>2.0</td>\n",
       "      <td>80.0</td>\n",
       "      <td>80.0</td>\n",
       "      <td>...</td>\n",
       "      <td>0</td>\n",
       "      <td>0</td>\n",
       "      <td>0</td>\n",
       "      <td>0</td>\n",
       "      <td>0.000000</td>\n",
       "      <td>1</td>\n",
       "      <td>0</td>\n",
       "      <td>0</td>\n",
       "      <td>2015</td>\n",
       "      <td>8</td>\n",
       "    </tr>\n",
       "    <tr>\n",
       "      <td>1</td>\n",
       "      <td>53461</td>\n",
       "      <td>Casa en condominio</td>\n",
       "      <td>La Magdalena Contreras</td>\n",
       "      <td>Distrito Federal</td>\n",
       "      <td>10.000000</td>\n",
       "      <td>3.0</td>\n",
       "      <td>2.0</td>\n",
       "      <td>2.0</td>\n",
       "      <td>268.0</td>\n",
       "      <td>180.0</td>\n",
       "      <td>...</td>\n",
       "      <td>0</td>\n",
       "      <td>0</td>\n",
       "      <td>0</td>\n",
       "      <td>1</td>\n",
       "      <td>0.007968</td>\n",
       "      <td>1</td>\n",
       "      <td>0</td>\n",
       "      <td>0</td>\n",
       "      <td>2013</td>\n",
       "      <td>6</td>\n",
       "    </tr>\n",
       "    <tr>\n",
       "      <td>2</td>\n",
       "      <td>247984</td>\n",
       "      <td>Casa</td>\n",
       "      <td>Tonalá</td>\n",
       "      <td>Jalisco</td>\n",
       "      <td>5.000000</td>\n",
       "      <td>3.0</td>\n",
       "      <td>2.0</td>\n",
       "      <td>2.0</td>\n",
       "      <td>144.0</td>\n",
       "      <td>166.0</td>\n",
       "      <td>...</td>\n",
       "      <td>0</td>\n",
       "      <td>0</td>\n",
       "      <td>0</td>\n",
       "      <td>10</td>\n",
       "      <td>0.046957</td>\n",
       "      <td>0</td>\n",
       "      <td>0</td>\n",
       "      <td>0</td>\n",
       "      <td>2015</td>\n",
       "      <td>10</td>\n",
       "    </tr>\n",
       "    <tr>\n",
       "      <td>3</td>\n",
       "      <td>209067</td>\n",
       "      <td>Casa</td>\n",
       "      <td>Zinacantepec</td>\n",
       "      <td>Edo. de México</td>\n",
       "      <td>1.000000</td>\n",
       "      <td>2.0</td>\n",
       "      <td>1.0</td>\n",
       "      <td>1.0</td>\n",
       "      <td>63.0</td>\n",
       "      <td>67.0</td>\n",
       "      <td>...</td>\n",
       "      <td>0</td>\n",
       "      <td>0</td>\n",
       "      <td>0</td>\n",
       "      <td>0</td>\n",
       "      <td>0.000000</td>\n",
       "      <td>0</td>\n",
       "      <td>0</td>\n",
       "      <td>0</td>\n",
       "      <td>2012</td>\n",
       "      <td>3</td>\n",
       "    </tr>\n",
       "    <tr>\n",
       "      <td>4</td>\n",
       "      <td>185997</td>\n",
       "      <td>Apartamento</td>\n",
       "      <td>Zapopan</td>\n",
       "      <td>Jalisco</td>\n",
       "      <td>10.000000</td>\n",
       "      <td>2.0</td>\n",
       "      <td>1.0</td>\n",
       "      <td>1.0</td>\n",
       "      <td>95.0</td>\n",
       "      <td>95.0</td>\n",
       "      <td>...</td>\n",
       "      <td>0</td>\n",
       "      <td>0</td>\n",
       "      <td>0</td>\n",
       "      <td>1</td>\n",
       "      <td>0.074108</td>\n",
       "      <td>0</td>\n",
       "      <td>0</td>\n",
       "      <td>0</td>\n",
       "      <td>2016</td>\n",
       "      <td>6</td>\n",
       "    </tr>\n",
       "  </tbody>\n",
       "</table>\n",
       "<p>5 rows × 42 columns</p>\n",
       "</div>"
      ],
      "text/plain": [
       "       id     tipodepropiedad                  ciudad         provincia  \\\n",
       "0  254099         Apartamento           Benito Juárez  Distrito Federal   \n",
       "1   53461  Casa en condominio  La Magdalena Contreras  Distrito Federal   \n",
       "2  247984                Casa                  Tonalá           Jalisco   \n",
       "3  209067                Casa            Zinacantepec    Edo. de México   \n",
       "4  185997         Apartamento                 Zapopan           Jalisco   \n",
       "\n",
       "   antiguedad  habitaciones  garages  banos  metroscubiertos  metrostotales  \\\n",
       "0    8.116114           2.0      1.0    2.0             80.0           80.0   \n",
       "1   10.000000           3.0      2.0    2.0            268.0          180.0   \n",
       "2    5.000000           3.0      2.0    2.0            144.0          166.0   \n",
       "3    1.000000           2.0      1.0    1.0             63.0           67.0   \n",
       "4   10.000000           2.0      1.0    1.0             95.0           95.0   \n",
       "\n",
       "   ...  moderno_titulo  hermoso_titulo  estado_titulo  \\\n",
       "0  ...               0               0              0   \n",
       "1  ...               0               0              0   \n",
       "2  ...               0               0              0   \n",
       "3  ...               0               0              0   \n",
       "4  ...               0               0              0   \n",
       "\n",
       "   cantidad_palabras_descripcion  relacion_palabras_descripcion  es_avenida  \\\n",
       "0                              0                       0.000000           1   \n",
       "1                              1                       0.007968           1   \n",
       "2                             10                       0.046957           0   \n",
       "3                              0                       0.000000           0   \n",
       "4                              1                       0.074108           0   \n",
       "\n",
       "   es_ciudad_capital  ciudad_turistica_top15  anio  mes  \n",
       "0                  0                       0  2015    8  \n",
       "1                  0                       0  2013    6  \n",
       "2                  0                       0  2015   10  \n",
       "3                  0                       0  2012    3  \n",
       "4                  0                       0  2016    6  \n",
       "\n",
       "[5 rows x 42 columns]"
      ]
     },
     "execution_count": 5,
     "metadata": {},
     "output_type": "execute_result"
    }
   ],
   "source": [
    "drop = ['titulo', 'descripcion', 'direccion', 'idzona', 'lat', 'lng', 'fecha']\n",
    "\n",
    "df_train = df_train.drop(drop, axis=1)\n",
    "df_test = df_test.drop(drop, axis=1)\n",
    "df_train.head()"
   ]
  },
  {
   "cell_type": "code",
   "execution_count": 6,
   "metadata": {},
   "outputs": [
    {
     "data": {
      "text/plain": [
       "(240000, 42)"
      ]
     },
     "execution_count": 6,
     "metadata": {},
     "output_type": "execute_result"
    }
   ],
   "source": [
    "df_train.shape"
   ]
  },
  {
   "cell_type": "markdown",
   "metadata": {},
   "source": [
    "## Aplicamos encodings a los features categoricos"
   ]
  },
  {
   "cell_type": "code",
   "execution_count": 7,
   "metadata": {},
   "outputs": [],
   "source": [
    "import category_encoders as ce\n",
    "\n",
    "cat_features = ['tipodepropiedad', 'ciudad', 'provincia']\n",
    "#Elejimos un metodo de encode para estos features, y comentamos el resto de los metodos"
   ]
  },
  {
   "cell_type": "markdown",
   "metadata": {},
   "source": [
    "### CatBoost Encoding"
   ]
  },
  {
   "cell_type": "code",
   "execution_count": 8,
   "metadata": {},
   "outputs": [],
   "source": [
    "catb_enc = ce.CatBoostEncoder(cols=cat_features)\n",
    "catb_enc.fit(df_train[cat_features], df_train['precio'])\n",
    "\n",
    "df_train = df_train.join(catb_enc.transform(df_train[cat_features]).add_suffix('_cb'))\n",
    "df_test = df_test.join(catb_enc.transform(df_test[cat_features]).add_suffix('_cb'))"
   ]
  },
  {
   "cell_type": "markdown",
   "metadata": {},
   "source": [
    "### Target Encoding"
   ]
  },
  {
   "cell_type": "code",
   "execution_count": 9,
   "metadata": {},
   "outputs": [
    {
     "data": {
      "text/plain": [
       "\"target_enc = ce.TargetEncoder(cols=cat_features)\\ntarget_enc.fit(df_train[cat_features], df_train['precio'])\\n\\ndf_train = df_train.join(target_enc.transform(df_train[cat_features]).add_suffix('_target'))\\ndf_test = df_test.join(target_enc.transform(df_test[cat_features]).add_suffix('_target'))\""
      ]
     },
     "execution_count": 9,
     "metadata": {},
     "output_type": "execute_result"
    }
   ],
   "source": [
    "'''target_enc = ce.TargetEncoder(cols=cat_features)\n",
    "target_enc.fit(df_train[cat_features], df_train['precio'])\n",
    "\n",
    "df_train = df_train.join(target_enc.transform(df_train[cat_features]).add_suffix('_target'))\n",
    "df_test = df_test.join(target_enc.transform(df_test[cat_features]).add_suffix('_target'))'''"
   ]
  },
  {
   "cell_type": "markdown",
   "metadata": {},
   "source": [
    "### Count Encoding"
   ]
  },
  {
   "cell_type": "code",
   "execution_count": 10,
   "metadata": {},
   "outputs": [
    {
     "data": {
      "text/plain": [
       "'count_enc = ce.CountEncoder()\\ncount_encoded = count_enc.fit_transform(df_train[cat_features])\\n\\ndf_train = df_train.join(count_encoded.add_suffix(\"_count\"))\\ndf_test = df_test.join(count_encoded.add_suffix(\"_count\"))'"
      ]
     },
     "execution_count": 10,
     "metadata": {},
     "output_type": "execute_result"
    }
   ],
   "source": [
    "'''count_enc = ce.CountEncoder()\n",
    "count_encoded = count_enc.fit_transform(df_train[cat_features])\n",
    "\n",
    "df_train = df_train.join(count_encoded.add_suffix(\"_count\"))\n",
    "df_test = df_test.join(count_encoded.add_suffix(\"_count\"))'''"
   ]
  },
  {
   "cell_type": "markdown",
   "metadata": {},
   "source": [
    "### Binary Encoding"
   ]
  },
  {
   "cell_type": "code",
   "execution_count": 11,
   "metadata": {},
   "outputs": [
    {
     "data": {
      "text/plain": [
       "'binary_enc = ce.BinaryEncoder()\\nbinary_encoded = binary_enc.fit_transform(df_train[cat_features])\\n\\ndf_train = df_train.join(binary_encoded.add_suffix(\"_binary\"))\\ndf_test = df_test.join(binary_encoded.add_suffix(\"_binary\"))'"
      ]
     },
     "execution_count": 11,
     "metadata": {},
     "output_type": "execute_result"
    }
   ],
   "source": [
    "'''binary_enc = ce.BinaryEncoder()\n",
    "binary_encoded = binary_enc.fit_transform(df_train[cat_features])\n",
    "\n",
    "df_train = df_train.join(binary_encoded.add_suffix(\"_binary\"))\n",
    "df_test = df_test.join(binary_encoded.add_suffix(\"_binary\"))'''"
   ]
  },
  {
   "cell_type": "code",
   "execution_count": 12,
   "metadata": {},
   "outputs": [
    {
     "data": {
      "text/plain": [
       "(240000, 45)"
      ]
     },
     "execution_count": 12,
     "metadata": {},
     "output_type": "execute_result"
    }
   ],
   "source": [
    "df_train.shape"
   ]
  },
  {
   "cell_type": "code",
   "execution_count": 13,
   "metadata": {},
   "outputs": [
    {
     "data": {
      "text/plain": [
       "(60000, 44)"
      ]
     },
     "execution_count": 13,
     "metadata": {},
     "output_type": "execute_result"
    }
   ],
   "source": [
    "df_test.shape"
   ]
  },
  {
   "cell_type": "code",
   "execution_count": 14,
   "metadata": {},
   "outputs": [],
   "source": [
    "#Dropeamos los features con strings ya encodeados\n",
    "#Dejamos los dataset listos para modelar\n",
    "df_train = df_train.drop(cat_features, axis=1)\n",
    "df_test = df_test.drop(cat_features, axis=1)"
   ]
  },
  {
   "cell_type": "code",
   "execution_count": 15,
   "metadata": {},
   "outputs": [],
   "source": [
    "#Pendiente: analisis feature selection"
   ]
  },
  {
   "cell_type": "markdown",
   "metadata": {},
   "source": [
    "## Guardamos features"
   ]
  },
  {
   "cell_type": "code",
   "execution_count": 16,
   "metadata": {},
   "outputs": [],
   "source": [
    "df_train.to_csv('../data/train_con_features_encoded.csv')\n",
    "df_test.to_csv('../data/test_con_features_encoded.csv')"
   ]
  }
 ],
 "metadata": {
  "kernelspec": {
   "display_name": "Python 3",
   "language": "python",
   "name": "python3"
  },
  "language_info": {
   "codemirror_mode": {
    "name": "ipython",
    "version": 3
   },
   "file_extension": ".py",
   "mimetype": "text/x-python",
   "name": "python",
   "nbconvert_exporter": "python",
   "pygments_lexer": "ipython3",
   "version": "3.7.4"
  },
  "toc": {
   "base_numbering": 1,
   "nav_menu": {},
   "number_sections": true,
   "sideBar": true,
   "skip_h1_title": false,
   "title_cell": "Table of Contents",
   "title_sidebar": "Contents",
   "toc_cell": false,
   "toc_position": {},
   "toc_section_display": true,
   "toc_window_display": false
  }
 },
 "nbformat": 4,
 "nbformat_minor": 2
}
