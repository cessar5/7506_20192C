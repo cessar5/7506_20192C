{
 "cells": [
  {
   "cell_type": "code",
   "execution_count": 1,
   "metadata": {},
   "outputs": [],
   "source": [
    "import pandas as pd\n",
    "import numpy as np\n",
    "\n",
    "# plots\n",
    "import matplotlib.pyplot as plt\n",
    "import matplotlib.colors as mcolors\n",
    "import seaborn as sns\n",
    "%matplotlib inline\n",
    "\n",
    "import calendar\n",
    "from datetime import datetime\n",
    "\n",
    "from mpl_toolkits.basemap import Basemap"
   ]
  },
  {
   "cell_type": "code",
   "execution_count": 2,
   "metadata": {},
   "outputs": [],
   "source": [
    "dfZP = pd.read_csv('../data/train.csv')"
   ]
  },
  {
   "cell_type": "code",
   "execution_count": 3,
   "metadata": {},
   "outputs": [
    {
     "data": {
      "text/html": [
       "<div>\n",
       "<style scoped>\n",
       "    .dataframe tbody tr th:only-of-type {\n",
       "        vertical-align: middle;\n",
       "    }\n",
       "\n",
       "    .dataframe tbody tr th {\n",
       "        vertical-align: top;\n",
       "    }\n",
       "\n",
       "    .dataframe thead th {\n",
       "        text-align: right;\n",
       "    }\n",
       "</style>\n",
       "<table border=\"1\" class=\"dataframe\">\n",
       "  <thead>\n",
       "    <tr style=\"text-align: right;\">\n",
       "      <th></th>\n",
       "      <th>id</th>\n",
       "      <th>titulo</th>\n",
       "      <th>descripcion</th>\n",
       "      <th>tipodepropiedad</th>\n",
       "      <th>direccion</th>\n",
       "      <th>ciudad</th>\n",
       "      <th>provincia</th>\n",
       "      <th>antiguedad</th>\n",
       "      <th>habitaciones</th>\n",
       "      <th>garages</th>\n",
       "      <th>...</th>\n",
       "      <th>idzona</th>\n",
       "      <th>lat</th>\n",
       "      <th>lng</th>\n",
       "      <th>fecha</th>\n",
       "      <th>gimnasio</th>\n",
       "      <th>usosmultiples</th>\n",
       "      <th>piscina</th>\n",
       "      <th>escuelascercanas</th>\n",
       "      <th>centroscomercialescercanos</th>\n",
       "      <th>precio</th>\n",
       "    </tr>\n",
       "  </thead>\n",
       "  <tbody>\n",
       "    <tr>\n",
       "      <td>0</td>\n",
       "      <td>254099</td>\n",
       "      <td>depto. tipo a-402</td>\n",
       "      <td>depto. interior de 80.15m2, consta de sala com...</td>\n",
       "      <td>Apartamento</td>\n",
       "      <td>Avenida Division del Norte 2005</td>\n",
       "      <td>Benito Juárez</td>\n",
       "      <td>Distrito Federal</td>\n",
       "      <td>NaN</td>\n",
       "      <td>2.0</td>\n",
       "      <td>1.0</td>\n",
       "      <td>...</td>\n",
       "      <td>23533.0</td>\n",
       "      <td>NaN</td>\n",
       "      <td>NaN</td>\n",
       "      <td>2015-08-23 00:00:00</td>\n",
       "      <td>0.0</td>\n",
       "      <td>0.0</td>\n",
       "      <td>0.0</td>\n",
       "      <td>0.0</td>\n",
       "      <td>0.0</td>\n",
       "      <td>2273000.0</td>\n",
       "    </tr>\n",
       "    <tr>\n",
       "      <td>1</td>\n",
       "      <td>53461</td>\n",
       "      <td>condominio horizontal en venta</td>\n",
       "      <td>&lt;p&gt;entre sonora y guerrero, atr&amp;aacute;s del h...</td>\n",
       "      <td>Casa en condominio</td>\n",
       "      <td>AV. MEXICO</td>\n",
       "      <td>La Magdalena Contreras</td>\n",
       "      <td>Distrito Federal</td>\n",
       "      <td>10.0</td>\n",
       "      <td>3.0</td>\n",
       "      <td>2.0</td>\n",
       "      <td>...</td>\n",
       "      <td>24514.0</td>\n",
       "      <td>19.310205</td>\n",
       "      <td>-99.227655</td>\n",
       "      <td>2013-06-28 00:00:00</td>\n",
       "      <td>0.0</td>\n",
       "      <td>0.0</td>\n",
       "      <td>0.0</td>\n",
       "      <td>1.0</td>\n",
       "      <td>1.0</td>\n",
       "      <td>3600000.0</td>\n",
       "    </tr>\n",
       "    <tr>\n",
       "      <td>2</td>\n",
       "      <td>247984</td>\n",
       "      <td>casa en venta urbi 3 recamaras tonala</td>\n",
       "      <td>descripcion \\nla mejor ubicacion residencial e...</td>\n",
       "      <td>Casa</td>\n",
       "      <td>Urbi Tonala</td>\n",
       "      <td>Tonalá</td>\n",
       "      <td>Jalisco</td>\n",
       "      <td>5.0</td>\n",
       "      <td>3.0</td>\n",
       "      <td>2.0</td>\n",
       "      <td>...</td>\n",
       "      <td>48551.0</td>\n",
       "      <td>NaN</td>\n",
       "      <td>NaN</td>\n",
       "      <td>2015-10-17 00:00:00</td>\n",
       "      <td>0.0</td>\n",
       "      <td>0.0</td>\n",
       "      <td>0.0</td>\n",
       "      <td>0.0</td>\n",
       "      <td>0.0</td>\n",
       "      <td>1200000.0</td>\n",
       "    </tr>\n",
       "    <tr>\n",
       "      <td>3</td>\n",
       "      <td>209067</td>\n",
       "      <td>casa sola en toluca zinacantepec con credito i...</td>\n",
       "      <td>casa en privada con caseta de vigilancia casas...</td>\n",
       "      <td>Casa</td>\n",
       "      <td>IGNACIO MANUEL ALTAMIRANO 128</td>\n",
       "      <td>Zinacantepec</td>\n",
       "      <td>Edo. de México</td>\n",
       "      <td>1.0</td>\n",
       "      <td>2.0</td>\n",
       "      <td>1.0</td>\n",
       "      <td>...</td>\n",
       "      <td>53666.0</td>\n",
       "      <td>19.301890</td>\n",
       "      <td>-99.688015</td>\n",
       "      <td>2012-03-09 00:00:00</td>\n",
       "      <td>0.0</td>\n",
       "      <td>0.0</td>\n",
       "      <td>0.0</td>\n",
       "      <td>1.0</td>\n",
       "      <td>1.0</td>\n",
       "      <td>650000.0</td>\n",
       "    </tr>\n",
       "    <tr>\n",
       "      <td>4</td>\n",
       "      <td>185997</td>\n",
       "      <td>paseos del sol</td>\n",
       "      <td>bonito departamento en excelentes condiciones ...</td>\n",
       "      <td>Apartamento</td>\n",
       "      <td>PASEOS DEL SOL</td>\n",
       "      <td>Zapopan</td>\n",
       "      <td>Jalisco</td>\n",
       "      <td>10.0</td>\n",
       "      <td>2.0</td>\n",
       "      <td>1.0</td>\n",
       "      <td>...</td>\n",
       "      <td>47835.0</td>\n",
       "      <td>NaN</td>\n",
       "      <td>NaN</td>\n",
       "      <td>2016-06-07 00:00:00</td>\n",
       "      <td>0.0</td>\n",
       "      <td>0.0</td>\n",
       "      <td>0.0</td>\n",
       "      <td>0.0</td>\n",
       "      <td>0.0</td>\n",
       "      <td>1150000.0</td>\n",
       "    </tr>\n",
       "  </tbody>\n",
       "</table>\n",
       "<p>5 rows × 23 columns</p>\n",
       "</div>"
      ],
      "text/plain": [
       "       id                                             titulo  \\\n",
       "0  254099                                  depto. tipo a-402   \n",
       "1   53461                     condominio horizontal en venta   \n",
       "2  247984              casa en venta urbi 3 recamaras tonala   \n",
       "3  209067  casa sola en toluca zinacantepec con credito i...   \n",
       "4  185997                                     paseos del sol   \n",
       "\n",
       "                                         descripcion     tipodepropiedad  \\\n",
       "0  depto. interior de 80.15m2, consta de sala com...         Apartamento   \n",
       "1  <p>entre sonora y guerrero, atr&aacute;s del h...  Casa en condominio   \n",
       "2  descripcion \\nla mejor ubicacion residencial e...                Casa   \n",
       "3  casa en privada con caseta de vigilancia casas...                Casa   \n",
       "4  bonito departamento en excelentes condiciones ...         Apartamento   \n",
       "\n",
       "                         direccion                  ciudad         provincia  \\\n",
       "0  Avenida Division del Norte 2005           Benito Juárez  Distrito Federal   \n",
       "1                       AV. MEXICO  La Magdalena Contreras  Distrito Federal   \n",
       "2                      Urbi Tonala                  Tonalá           Jalisco   \n",
       "3    IGNACIO MANUEL ALTAMIRANO 128            Zinacantepec    Edo. de México   \n",
       "4                  PASEOS DEL SOL                  Zapopan           Jalisco   \n",
       "\n",
       "   antiguedad  habitaciones  garages  ...   idzona        lat        lng  \\\n",
       "0         NaN           2.0      1.0  ...  23533.0        NaN        NaN   \n",
       "1        10.0           3.0      2.0  ...  24514.0  19.310205 -99.227655   \n",
       "2         5.0           3.0      2.0  ...  48551.0        NaN        NaN   \n",
       "3         1.0           2.0      1.0  ...  53666.0  19.301890 -99.688015   \n",
       "4        10.0           2.0      1.0  ...  47835.0        NaN        NaN   \n",
       "\n",
       "                 fecha  gimnasio  usosmultiples piscina  escuelascercanas  \\\n",
       "0  2015-08-23 00:00:00       0.0            0.0     0.0               0.0   \n",
       "1  2013-06-28 00:00:00       0.0            0.0     0.0               1.0   \n",
       "2  2015-10-17 00:00:00       0.0            0.0     0.0               0.0   \n",
       "3  2012-03-09 00:00:00       0.0            0.0     0.0               1.0   \n",
       "4  2016-06-07 00:00:00       0.0            0.0     0.0               0.0   \n",
       "\n",
       "   centroscomercialescercanos     precio  \n",
       "0                         0.0  2273000.0  \n",
       "1                         1.0  3600000.0  \n",
       "2                         0.0  1200000.0  \n",
       "3                         1.0   650000.0  \n",
       "4                         0.0  1150000.0  \n",
       "\n",
       "[5 rows x 23 columns]"
      ]
     },
     "execution_count": 3,
     "metadata": {},
     "output_type": "execute_result"
    }
   ],
   "source": [
    "dfZP.head(5)"
   ]
  },
  {
   "cell_type": "code",
   "execution_count": 4,
   "metadata": {},
   "outputs": [
    {
     "name": "stdout",
     "output_type": "stream",
     "text": [
      "<class 'pandas.core.frame.DataFrame'>\n",
      "RangeIndex: 240000 entries, 0 to 239999\n",
      "Data columns (total 23 columns):\n",
      "id                            240000 non-null int64\n",
      "titulo                        234613 non-null object\n",
      "descripcion                   238381 non-null object\n",
      "tipodepropiedad               239954 non-null object\n",
      "direccion                     186928 non-null object\n",
      "ciudad                        239628 non-null object\n",
      "provincia                     239845 non-null object\n",
      "antiguedad                    196445 non-null float64\n",
      "habitaciones                  217529 non-null float64\n",
      "garages                       202235 non-null float64\n",
      "banos                         213779 non-null float64\n",
      "metroscubiertos               222600 non-null float64\n",
      "metrostotales                 188533 non-null float64\n",
      "idzona                        211379 non-null float64\n",
      "lat                           116512 non-null float64\n",
      "lng                           116512 non-null float64\n",
      "fecha                         240000 non-null object\n",
      "gimnasio                      240000 non-null float64\n",
      "usosmultiples                 240000 non-null float64\n",
      "piscina                       240000 non-null float64\n",
      "escuelascercanas              240000 non-null float64\n",
      "centroscomercialescercanos    240000 non-null float64\n",
      "precio                        240000 non-null float64\n",
      "dtypes: float64(15), int64(1), object(7)\n",
      "memory usage: 42.1+ MB\n"
     ]
    }
   ],
   "source": [
    "dfZP.info()"
   ]
  },
  {
   "cell_type": "markdown",
   "metadata": {},
   "source": [
    "# Verificación de datos"
   ]
  },
  {
   "cell_type": "code",
   "execution_count": 5,
   "metadata": {},
   "outputs": [
    {
     "data": {
      "text/plain": [
       "(240000, 23)"
      ]
     },
     "execution_count": 5,
     "metadata": {},
     "output_type": "execute_result"
    }
   ],
   "source": [
    "dfZP.shape"
   ]
  },
  {
   "cell_type": "code",
   "execution_count": 6,
   "metadata": {},
   "outputs": [
    {
     "name": "stdout",
     "output_type": "stream",
     "text": [
      "['Benito Juárez' 'La Magdalena Contreras' 'Tonalá' 'Zinacantepec'\n",
      " 'Zapopan' 'Coyoacán' 'Oaxaca de Juárez' 'Playa del Carmen'\n",
      " 'Villa de Alvarez' 'Ixtapaluca' 'San Luis Potosí'\n",
      " 'San Pedro Garza García' 'Querétaro' 'Naucalpan de Juárez' 'Monterrey'\n",
      " 'Ciudad Madero' 'Cancún' 'Apodaca' 'Puebla' 'Miguel Hidalgo' 'Mérida'\n",
      " 'Huixquilucan' 'Emiliano Zapata' 'Tampico' 'Atizapán de Zaragoza'\n",
      " 'Tlalpan' 'Acapulco de Juárez' 'Iztacalco' 'Villahermosa'\n",
      " 'Cuautitlán Izcalli' 'Irapuato' 'Epazoyucan' 'Metepec' 'Cuauhtémoc'\n",
      " 'Alvaro Obregón' 'Tultitlán' 'San Pedro Cholula' 'Venustiano Carranza'\n",
      " 'Coacalco de Berriozábal' 'Valle de Bravo' 'Boca del Río'\n",
      " 'Tlajomulco de Zúñiga' 'León' 'San Andrés Cholula' 'Chihuahua'\n",
      " 'San Nicolás de los Garza' 'Santa Catarina' 'Aguascalientes' 'Cuernavaca'\n",
      " 'Xochimilco' 'Tlalnepantla de Baz' 'Tequisquiapan' 'Hermosillo'\n",
      " 'Montemorelos' 'Milpa Alta' 'Gustavo A. Madero' 'Morelia' 'Tijuana'\n",
      " 'Jesús María' 'Guadalajara' 'La Paz' 'Chapala' 'Cuajimalpa de Morelos'\n",
      " 'Delicias' 'Iztapalapa' 'Calimaya' 'Azcapotzalco' 'Torreón' 'Durango'\n",
      " 'Los Cabos' 'Pátzcuaro' 'Caborca' 'Culiacán' 'San Luis Río Colorado'\n",
      " 'Tuxtla Gutiérrez' 'Jiutepec' 'San Pedro Mixtepec -Dto. 22 -' 'Veracruz'\n",
      " 'Gral. Escobedo' 'Toluca' 'Tepic' 'San Juan del Río' 'Cuautla'\n",
      " 'Guanajuato' 'Tultepec' 'Mazatlán' 'Solidaridad' 'Cuautlancingo'\n",
      " 'Ecatepec de Morelos' 'Pachuca' 'Tepeji del Río de Ocampo' 'Manzanillo'\n",
      " 'Tecámac' 'Nacajuca' 'Alvarado' 'Corregidora' 'Huehuetoca'\n",
      " 'Tepatitlán de Morelos' 'Santiago' 'Navojoa' 'Guadalupe' 'El Marqués'\n",
      " 'Temixco' 'Arteaga' 'Juárez' 'Cárdenas' 'Soledad de Graciano Sánchez'\n",
      " 'Yautepec' 'Colima' 'Mexicali' 'Tlayacapan' 'Xalapa' 'Conkal' 'Paraíso'\n",
      " 'Puerto Vallarta' 'Lerma' 'Ixtlahuaca' 'Ocoyucan' 'Tlaquepaque'\n",
      " 'Saltillo' 'Nezahualcóyotl' 'Santa Isabel Xiloxoxtla' 'Progreso'\n",
      " 'San Miguel de Allende' nan 'Jocotepec' 'Tlaxcala' 'Ocotlán' 'Xochitepec'\n",
      " 'Comala' 'Motul' 'Ramos Arizpe' 'Villa del Carbón' 'Navolato'\n",
      " 'Mineral de la Reforma' 'Cuautitlán' 'Tláhuac' 'Nicolás Romero' 'Temozón'\n",
      " 'Yauhquemecan' 'Coyame del Sotol' 'Gómez Palacio' 'Chetumal' 'Atlixco'\n",
      " 'Zumpango' 'Cadereyta Jiménez' 'Centro' 'Ensenada' 'Tulancingo de Bravo'\n",
      " 'Altamira' 'Xalisco' 'Ahome' 'Tizayuca' 'Carmen' 'Coatzacoalcos' 'Ayala'\n",
      " 'Chimalhuacán' 'Campeche' 'Calpulalpan' 'Gral. Zuazua' 'Tula de Allende'\n",
      " 'Monclova' 'Tepotzotlán' 'Dzemul' 'Chiautempan' 'Atlatlahucan' 'Texcoco'\n",
      " 'Fortín' 'Guaymas' 'Tenancingo' 'Tarímbaro' 'Jacona'\n",
      " 'Zihuatanejo de Azueta' 'Tuxpan' 'Mexicaltzingo' 'Nogales' 'Orizaba'\n",
      " 'Celaya' 'San Antonio la Isla' 'San Cristóbal de las Casas' 'Apizaco'\n",
      " 'Yauhquemehcan' 'San Mateo Atenco' 'Pánuco' 'García'\n",
      " 'Santa María Huatulco' 'Amozoc' 'Reynosa' 'Tlalmanalco' 'Atlautla'\n",
      " 'Huitzilac' 'Cajeme' 'Chalco' 'Kanasín' 'Bacalar' 'Comapa'\n",
      " 'San Martín Texmelucan' 'Bahía de Banderas' 'Tochtepec' 'Totolac'\n",
      " 'Jilotepec' 'Tecate' 'Santa María Colotepec' 'Santa Cruz Tlaxcala'\n",
      " 'Acambay' 'El Salto' 'Atotonilco de Tula' 'Medellín' 'Tepoztlán'\n",
      " 'Zacatecas' 'Castaños' 'Ocotlán de Morelos' 'Córdoba' 'Chiquilistlán'\n",
      " 'Cosoleacaque' 'Mexquitic de Carmona' 'Tapalpa' 'Amealco de Bonfil'\n",
      " 'Coscomatepec' 'Huichapan' 'Nazareno Etla' 'Puerto Peñasco' 'Uruapan'\n",
      " 'Ciénega de Flores' 'Atizapán' 'Nuevo Laredo' 'Lázaro Cárdenas' 'Aldama'\n",
      " 'Coatepec' 'Huejotzingo' 'Ixtapan de la Sal' 'Melchor Ocampo' 'Zitácuaro'\n",
      " 'Ocoyoacac' 'Valle de Chalco Solidaridad' 'Telchac Puerto' 'Acuña'\n",
      " 'Huamantla' 'Cazones de Herrera' 'Homún' 'Cihuatlán' 'Tehuacán'\n",
      " 'Zacatelco' 'La Piedad' 'Berriozábal' 'otra' 'Chilpancingo de los Bravo'\n",
      " 'Ocozocoautla de Espinosa' 'Tala' 'San Gregorio Atzompa' 'Valladolid'\n",
      " 'Salamanca' 'Chiapa de Corzo' 'Silao' 'San Pablo Etla' 'Tapachula'\n",
      " 'Lerdo' 'Xalatlaco' 'Ixtlahuacán de los Membrillos' 'Natívitas'\n",
      " 'Huasca de Ocampo' 'Santa Cruz Xoxocotlán' 'Capulhuac' 'Allende'\n",
      " 'Tecomán' 'Coatepec Harinas' 'Tulum' 'Macuspana' 'Zapotlán el Grande'\n",
      " 'Xico' 'Comitán de Domínguez' 'La Barca' 'TlaltizapAn de Zapata'\n",
      " 'Almoloya de Juárez' 'Dolores Hidalgo Cuna de la Independencia Nacional'\n",
      " 'Cozumel' 'Colón' 'Teziutlán' 'PolotitlAn' 'Zacoalco de Torres' 'Zacapu'\n",
      " 'Atlacomulco' 'Huimilpan' 'Papalotla de Xicohténcatl' 'Banderilla'\n",
      " 'Mazamitla' 'Zempoala' 'Chapultepec' 'Tlaxco' 'Tihuatlán' 'Zamora'\n",
      " 'Ixtacuixtla de Mariano Matamoros' 'Chicoloapan' 'Parras' 'Teoloyucan'\n",
      " 'Comalcalco' 'Guasave' 'Sabinas' 'Dzitás' 'San Jacinto Amilpas'\n",
      " 'Tenango del Valle' 'Acolman' 'Pánuco de Coronado' 'Hidalgo del Parral'\n",
      " 'Santa Cruz Acatepec' 'Apaseo el Grande' 'Salina Cruz'\n",
      " 'José María Morelos' 'Sucilá' 'Rafael Lara Grajales'\n",
      " 'Contla de Juan Cuamatzi' 'Matehuala' 'Nextlalpan' 'Coroneo'\n",
      " 'Mineral del Monte' 'Temoaya' 'Abalá' 'Chicxulub Pueblo' 'San Felipe'\n",
      " 'Ciudad Valles' 'Temascalapa' 'Catemaco' 'Miacatlán' 'Coronango'\n",
      " 'Minatitlán' 'San José Iturbide' 'Cuerámaro' 'Linares' 'Tolimán'\n",
      " 'Xonacatlán' 'Tonatico' 'ácatlán' 'Juan C. Bonilla' 'Salinas Victoria'\n",
      " 'La Antigua' 'Abasolo' 'Matamoros' 'Sayula' 'Jojutla' 'Villa de Reyes'\n",
      " 'AnAhuac' 'Santiago Miahuatlán' 'Ursulo Galván' 'Malinalco' 'Jilotzingo'\n",
      " 'Tepechitlán' 'Cocula' 'Magdalena Apasco' 'Yobaín' 'Gutiérrez Zamora'\n",
      " 'Tetla de la Solidaridad' 'El Llano' 'Victoria' 'Otzolotepec'\n",
      " 'Jocotitlán' 'Othón P. Blanco' 'Ahuazotepec' 'Playas de Rosarito'\n",
      " 'Tepetlixpa' 'Atenco' 'Calkiní' 'ApetatitlAn de Antonio Carvajal'\n",
      " 'Tequixquiac' 'Santa Cruz Amilpas' 'Teuchitlán' 'Mayapán' 'San Fernando'\n",
      " 'El Espinal' 'Charo' 'Tangancícuaro' 'Quintana Roo' 'Papalotla' 'Cosío'\n",
      " 'San Agustín Etla' 'Santa María del Río' 'Cuitzeo' 'Ojinaga'\n",
      " 'Amaxac de Guerrero' 'Yecapixtla' 'Coyotepec' 'Ecatzingo' 'Tianguistenco'\n",
      " 'Tlaltizapán' 'Otumba' 'Pueblo Viejo' 'San Pedro Pochutla' 'Tonanitla'\n",
      " 'Rincón de Romos' 'Jamapa' 'Pedro Escobedo' 'Piedras Negras'\n",
      " 'Ezequiel Montes' 'El Oro' 'Atotonilco el Alto' 'Cuautepec de Hinojosa'\n",
      " 'Cananea' 'Frontera' 'González' 'Ixtlahuacán del Río' 'Jaltenco'\n",
      " 'Puente de Ixtla' 'Suma' 'Sudzal' 'Santa Isabel Cholula' 'Tamuín'\n",
      " 'Poza Rica de Hidalgo' 'Tianguismanalco' 'San José del Rincón' 'Jáltipan'\n",
      " 'Tepetlaoxtoc' 'Ixil' 'Nanacamilpa de Mariano Arista' 'Chapa de Mota'\n",
      " 'Juanacatlán' 'San Andrés Tuxtla' 'San Sebastián Tutla'\n",
      " 'ácatlán de Juárez' 'Villa Purificación' 'Morelos' 'La Huacana'\n",
      " 'San Bartolo Coyotepec' 'Tetecala' 'Santa María del Tule' 'Zumpahuacán'\n",
      " 'San Blas' 'El Arenal' 'Cerro Azul' 'Tampico Alto' 'Teapa'\n",
      " 'San Agustín de las Juntas' 'San Martín de las Pirámides' 'Tecuala'\n",
      " 'Mazatepec' 'Papantla' 'Santiago Tulantepec de Lugo Guerrero'\n",
      " 'Tlacotalpan' 'Yahualica de González Gallo' 'San Pablo Villa de Mitla'\n",
      " 'San Pablo del Monte' 'Panotla' 'San Miguel el Alto' 'Acatic' 'Acajete'\n",
      " 'Tuxcueca' 'Jalcomulco' 'Tezoyuca' 'Hidalgo' 'Villa Guerrero' 'Magdalena'\n",
      " 'Villa de Zaachila' 'Canatlán' 'San Andrés Huayápam' 'Rioverde'\n",
      " 'Cerro de San Pedro' 'Sanctórum de Lázaro Cárdenas' 'Erongarícuaro'\n",
      " 'Arroyo Seco' 'Mapastepec' 'Arandas' 'Paso de Ovejas' 'Perote'\n",
      " 'San Agustín Tlaxiaca' 'Chapantongo' 'Vicente Guerrero' 'Aculco'\n",
      " 'Santiago Papasquiaro' 'Naranjos Amatlán' 'Tepetitlán' 'Ixtapan del Oro'\n",
      " 'Jalpa de Méndez' 'Rosales' 'Tlalnepantla' 'Tempoal' 'Zapotlán de Juárez'\n",
      " 'Salvatierra' 'Atemajac de Brizuela' 'Tzompantepec' 'Balancán'\n",
      " 'Coatzintla' 'Mariano Escobedo' 'Actopan' 'Tarimoro' 'Reforma'\n",
      " 'Nopala de Villagrán' 'Pisaflores' 'Chiconcuac' 'San Salvador el Verde'\n",
      " 'Chiautla' 'Agua Prieta' 'Cunduacán' 'Umán' 'Jaumave'\n",
      " 'Santa María Atzompa' 'ácámbaro' 'Chignautla' 'San Francisco de los Romo'\n",
      " 'Atoyac' 'Tepeapulco' 'Villa de Etla' 'Acaponeta' 'Dr. Arroyo'\n",
      " 'Marqués de Comillas' 'Totolapan' 'Chapulco' 'Sahuayo' 'San Ignacio'\n",
      " 'Lagos de Moreno' 'Zaragoza' 'Cuetzalan del Progreso' 'Apaseo el Alto'\n",
      " 'Villa Corona' 'TacAmbaro' 'Teotihuacán' 'Ozumba' 'Los Herreras'\n",
      " 'Maravatío' 'Jerez' 'Alamo Temapache' 'Jiquipilco'\n",
      " 'Mixquiahuala de Juárez' 'Miahuatlán' 'Teabo' 'Tepetitla de Lardizábal'\n",
      " 'Ixtaczoquitlán' 'Tizimín' 'Soto la Marina' 'Alamos' 'Nombre de Dios'\n",
      " 'Cocotitlán' 'Tetela del Volcán' 'San Lorenzo Cacaotepec'\n",
      " 'San Juan Bautista Tuxtepec' 'Manlio Fabio Altamirano' 'Jonacatepec'\n",
      " 'Camarón de Tejeda' 'Tecozautla' 'Acayucan' 'Izúcar de Matamoros'\n",
      " 'Soyaniquilpan de Juárez' 'Cosamaloapan de Carpio' 'Compostela' 'Ameca'\n",
      " 'Tlalixtac de Cabrera' 'Opichén' 'Asunción Ixtaltepec' 'Misantla'\n",
      " 'Taxco de Alarcón' 'Centla' 'Empalme' 'San Raymundo Jalpan'\n",
      " 'Huimanguillo' 'PuruAndiro' 'Salvador Escalante' 'Telchac Pueblo'\n",
      " 'Jonuta' 'Apatzingán' 'Tototlán' 'Temascaltepec' 'Palizada' 'Moroleón'\n",
      " 'Sinanché' 'Casas' 'Palenque' 'Oluta' 'Totoltepec de Guerrero'\n",
      " 'San Agustín Yatareni' 'Tepezalá' 'Fresnillo' 'Ixtlahuacán'\n",
      " 'Texcaltitlán' 'Paracho' 'Río Lagartos' 'Tuxtla Chico' 'Amecameca'\n",
      " 'Sinaloa' 'Villa de Arriaga' 'Cadereyta de Montes' 'Gral. Treviño'\n",
      " 'Pesquería' 'Apan' 'Santa Lucía del Camino' 'Almoloya de Alquisiras'\n",
      " 'Heroica Ciudad de Huajuapan de León' 'Tecolotlán' 'Cedral' 'Acatzingo'\n",
      " 'Ecuandureo' 'Villa de Tezontepec' 'Loreto' 'San Miguel Xoxtla' 'Quiroga'\n",
      " 'General Cepeda' 'San Miguel de Horcasitas' 'Salvador Alvarado'\n",
      " 'Teopisca' 'Hunucmá' 'Poncitlán' 'Zapotlanejo' 'Timilpan' 'Gómez Farías'\n",
      " 'Los Ramones' 'Ruíz' 'Teolocholco' 'Huixtla' 'Ucú'\n",
      " 'La Magdalena Tlaltelulco' 'Zinapécuaro' 'Guadalupe Victoria'\n",
      " 'Villa de Allende' 'Unión de San Antonio' 'Asientos' 'Atempan'\n",
      " 'ácaxochitlán' 'Iguala de la Independencia' 'Santiago Ixcuintla'\n",
      " 'Champotón' 'Hoctún' 'Bella Vista' 'Cuaxomulco' 'San Rafael'\n",
      " 'San Gabriel' 'Mina' 'Celestún' 'Purísima del Rincón' 'Escárcega'\n",
      " 'Villa Victoria' 'Puente Nacional' 'Huajicori' 'Ahualulco de Mercado'\n",
      " 'Dzidzantún' 'Asunción Cacalotepec' 'Cuilápam de Guerrero'\n",
      " 'Ixtlán del Río' 'Rafael Lucio' 'Chilchotla' 'Zapotiltic'\n",
      " 'Ixhuatlancillo' 'Uriangato' 'Camerino Z. Mendoza' 'Villaldama'\n",
      " 'Atitalaquia' 'Juchitán de Zaragoza' 'Ixmiquilpan' 'Tecamachalco'\n",
      " 'Encarnación de Díaz' 'Tahmek' 'La Trinitaria' 'Huauchinango'\n",
      " 'Felipe Carrillo Puerto' 'Tepeyanco' 'Santa María Apazco' 'Tetepango'\n",
      " 'San Joaquín' 'Uayma' 'Armería' 'Isla Mujeres' 'Pinotepa de Don Luis'\n",
      " 'San Juan Bautista Guelache' 'Ahuacatlán' 'Mineral del Chico'\n",
      " 'Coyuca de Benítez' 'San Francisco del Rincón' 'Atlangatepec' 'Jiménez'\n",
      " 'Jiquilpan' 'Axochiapan' 'Cotaxtla' 'Villa Corzo' 'Zacatlán' 'Villagrán'\n",
      " 'El Mante' 'Cintalapa' 'Etzatlán' 'Francisco I. Madero' 'Tepeaca'\n",
      " 'áyotlán' 'Aramberri' 'Tecolutla' 'Aconchi' 'Valle Hermoso' 'Purépero'\n",
      " 'Amanalco' 'Jalpan de Serra' 'Pijijiapan' 'Isidro Fabela' 'Tlahuapan'\n",
      " 'áutlán de Navarro' 'Tekax' 'Casas Grandes' 'Concepción de Buenos Aires'\n",
      " 'Pabellón de Arteaga' 'Petatlán' 'Apazapan'\n",
      " 'Santa Cruz de Juventino Rosas' 'San Cristóbal de la Barranca'\n",
      " 'Tantoyuca' 'Villa de Cos' 'Chínipas' 'Rayones' 'Jantetelco' 'Colotlán'\n",
      " 'Escuinapa' 'Coquimatlán' 'Concordia' 'Comondú' 'Zimatlán de Alvarez'\n",
      " 'Santa Isabel' 'Cortazar' 'Xaltocan' 'Tixtla de Guerrero' 'Huehuetlán'\n",
      " 'Zacualpan' 'Tequila' 'Huautla de Jiménez' 'Dzoncauich'\n",
      " 'San Francisco Lachigoló' 'Temamatla' 'Pénjamo' 'Calera' 'Zimapán'\n",
      " 'Tinum' 'Dr. González' 'Singuilucan' 'Xicotepec' 'Los Reyes' 'Timucuy'\n",
      " 'Santa Ana Nopalucan' 'San Jerónimo Tecuanipan' 'Atoyac de Alvarez'\n",
      " 'Chilapa de Alvarez' 'Tlacolula de Matamoros' 'Teteles de Avila Castillo'\n",
      " 'Lerdo de Tejada' 'Jerécuaro' 'Río Blanco' 'Lagunillas' 'Chignahuapan'\n",
      " 'Camargo' 'Meoqui' 'Huaquechula' 'Almoloya' 'Huetamo' 'Cacalchén'\n",
      " 'Gustavo Díaz Ordaz' 'Salinas' 'Chilchota' 'Juárez Hidalgo' 'Nuevo Ideal'\n",
      " 'Galeana' 'Martínez de la Torre' 'Cuzamá' 'Villaflores' 'Nahuatzen'\n",
      " 'Tlatlauquitepec' 'San Francisco de Borja' 'Huandacareo'\n",
      " 'Santo Domingo Tehuantepec' 'Cuautitlán de García Barragán' 'Huatabampo'\n",
      " 'Suchiapa' 'San Jerónimo Tlacochahuaya' 'Donato Guerra' 'Pichucalco'\n",
      " 'Tlalpujahua' 'Elota' 'Ciudad Fernández' 'General Plutarco Elías Calles'\n",
      " 'Huatusco' 'Izamal' 'Acateno' 'Mascota' 'Sabinas Hidalgo'\n",
      " 'Chalchicomula de Sesma' 'Tenango del Aire' 'Tlalixcoyan' 'Tolcayuca'\n",
      " 'Xaloztoc' 'Temax' 'Xicohtzinco' 'Nanchital de Lázaro Cárdenas del Río'\n",
      " 'Santa Ana' 'Rosario' 'Lamadrid' 'Axapusco' 'Amacuzac' 'Zacatepec'\n",
      " 'San Lucas' 'Ajacuba' 'Teocelo' 'Contepec' 'Villanueva' 'Chavinda'\n",
      " 'San Antonio de la Cal' 'El Fuerte' 'Hopelchén' 'Aquismón'\n",
      " 'Almoloya del Río' 'Agua Dulce' 'San Pedro Mixtepec -Dto. 26 -' 'Poanas'\n",
      " 'Calvillo' 'CopAndaro' 'Tecali de Herrera' 'Tzucacab' 'Marín' 'Moctezuma'\n",
      " 'Santo Tomás' 'Angostura' 'Calcahualco' 'Ayapango' 'Reyes Etla'\n",
      " 'Oriental' 'Atengo' 'Ciénega de Zimatlán' 'Dr. Belisario Domínguez'\n",
      " 'Ciudad Ixtepec' 'Jaral del Progreso' 'Higueras' 'Tzintzuntzan' 'Yuriria'\n",
      " 'Coahuayana' 'Nadadores' 'Peribán' 'Saucillo' 'Santiago Suchilquitongo'\n",
      " 'Tezontepec de Aldama' 'Nopaltepec' 'Ocampo' 'Buctzotz' 'Tocumbo'\n",
      " 'Técpan de Galeana' 'Urique' 'Tamiahua' 'Tamazunchale' 'Río Grande'\n",
      " 'Tejupilco' 'San Felipe Orizatlán' 'Mulegé' 'Zináparo'\n",
      " 'San Mateo Río Hondo' 'Ixtlán' 'Nautla' 'Jalapa' 'Amatlán de los Reyes'\n",
      " 'Yaxcabá' 'San Juan Guelavía' 'Copala' 'Batopilas' 'Acuitzio'\n",
      " 'Tepalcatepec' 'Atotonilco el Grande' 'Yaxkukul' 'San Pablo Huitzo'\n",
      " 'Santa María del Oro' 'Heroica Ciudad de Juchitán de Zaragoza'\n",
      " 'Panindícuaro' 'Ocuilan' 'Tlaquiltenango' 'Altotonga' 'Pinal de Amoles'\n",
      " 'Cansahcab' 'Ahualulco' 'Abejones' 'ZirAndaro' 'Ocosingo'\n",
      " 'San Luis de la Paz' 'San Pedro' 'Gral. Bravo' 'Progreso de Obregón'\n",
      " 'Bocoyna' 'El Barrio de la Soledad' 'Omealca' 'Quitupan' 'Cerralvo'\n",
      " 'Sombrerete' 'San Matías Tlalancaleca']\n"
     ]
    }
   ],
   "source": [
    "#Verificamos datos\n",
    "print(dfZP['ciudad'].unique())"
   ]
  },
  {
   "cell_type": "code",
   "execution_count": 7,
   "metadata": {},
   "outputs": [
    {
     "name": "stdout",
     "output_type": "stream",
     "text": [
      "['Distrito Federal' 'Jalisco' 'Edo. de México' 'Oaxaca' 'Quintana Roo'\n",
      " 'Colima' 'San luis Potosí' 'Nuevo León' 'Querétaro' 'Tamaulipas' 'Puebla'\n",
      " 'Yucatán' 'Morelos' 'Guerrero' 'Tabasco' 'Guanajuato' 'Hidalgo'\n",
      " 'Veracruz' 'Chihuahua' 'Aguascalientes' 'Sonora' 'Michoacán'\n",
      " 'Baja California Norte' 'Baja California Sur' 'Coahuila' 'Durango'\n",
      " 'Sinaloa' 'Chiapas' 'Nayarit' 'Tlaxcala' 'Campeche' 'Zacatecas' nan]\n"
     ]
    }
   ],
   "source": [
    "#Verificamos datos\n",
    "print(dfZP['provincia'].unique())"
   ]
  },
  {
   "cell_type": "code",
   "execution_count": 8,
   "metadata": {},
   "outputs": [
    {
     "data": {
      "text/plain": [
       "'2012-01-01 00:00:00'"
      ]
     },
     "execution_count": 8,
     "metadata": {},
     "output_type": "execute_result"
    }
   ],
   "source": [
    "#Verificamos que el set de datos corresponde al periodo del 1/1/2012 al 31/12/2016\n",
    "dfZP['fecha'].min()"
   ]
  },
  {
   "cell_type": "code",
   "execution_count": 9,
   "metadata": {},
   "outputs": [
    {
     "data": {
      "text/plain": [
       "'2016-12-31 00:00:00'"
      ]
     },
     "execution_count": 9,
     "metadata": {},
     "output_type": "execute_result"
    }
   ],
   "source": [
    "dfZP['fecha'].max()"
   ]
  },
  {
   "cell_type": "code",
   "execution_count": 10,
   "metadata": {},
   "outputs": [
    {
     "data": {
      "text/plain": [
       "array([nan, 10.,  5.,  1.,  2.,  0., 20.,  4.,  8.,  3., 18., 16.,  6.,\n",
       "       50., 30., 26., 25., 28., 15., 12., 48., 22., 11., 60., 17., 33.,\n",
       "       35., 14., 40.,  7.,  9., 27., 24., 19., 34., 13., 37., 36., 65.,\n",
       "       31., 21., 23., 45., 32., 51., 29., 42., 43., 49., 70., 44., 46.,\n",
       "       39., 38., 47., 63., 55., 52., 41., 80., 59., 67., 54., 71., 58.,\n",
       "       75., 53., 61., 79., 69., 56., 66., 57., 62., 64., 74., 77., 76.,\n",
       "       68.])"
      ]
     },
     "execution_count": 10,
     "metadata": {},
     "output_type": "execute_result"
    }
   ],
   "source": [
    "dfZP['antiguedad'].unique()"
   ]
  },
  {
   "cell_type": "code",
   "execution_count": 11,
   "metadata": {},
   "outputs": [
    {
     "data": {
      "text/plain": [
       "array([ 2.,  1.,  3., nan,  4.])"
      ]
     },
     "execution_count": 11,
     "metadata": {},
     "output_type": "execute_result"
    }
   ],
   "source": [
    "dfZP['banos'].unique()"
   ]
  },
  {
   "cell_type": "code",
   "execution_count": 12,
   "metadata": {},
   "outputs": [
    {
     "data": {
      "text/plain": [
       "array([ 2.,  3.,  4., nan,  5.,  1.,  9.,  7., 10.,  6.,  8.])"
      ]
     },
     "execution_count": 12,
     "metadata": {},
     "output_type": "execute_result"
    }
   ],
   "source": [
    "dfZP['habitaciones'].unique()"
   ]
  },
  {
   "cell_type": "code",
   "execution_count": 13,
   "metadata": {},
   "outputs": [
    {
     "data": {
      "text/plain": [
       "array([ 1.,  2., nan,  0.,  3.])"
      ]
     },
     "execution_count": 13,
     "metadata": {},
     "output_type": "execute_result"
    }
   ],
   "source": [
    "dfZP['garages'].unique()"
   ]
  },
  {
   "cell_type": "code",
   "execution_count": 14,
   "metadata": {},
   "outputs": [
    {
     "data": {
      "text/plain": [
       "array([0., 1.])"
      ]
     },
     "execution_count": 14,
     "metadata": {},
     "output_type": "execute_result"
    }
   ],
   "source": [
    "dfZP['escuelascercanas'].unique()"
   ]
  },
  {
   "cell_type": "code",
   "execution_count": 15,
   "metadata": {},
   "outputs": [
    {
     "data": {
      "text/plain": [
       "array([0., 1.])"
      ]
     },
     "execution_count": 15,
     "metadata": {},
     "output_type": "execute_result"
    }
   ],
   "source": [
    "dfZP['centroscomercialescercanos'].unique()"
   ]
  },
  {
   "cell_type": "code",
   "execution_count": 16,
   "metadata": {},
   "outputs": [
    {
     "data": {
      "text/plain": [
       "array([0., 1.])"
      ]
     },
     "execution_count": 16,
     "metadata": {},
     "output_type": "execute_result"
    }
   ],
   "source": [
    "dfZP['gimnasio'].unique()"
   ]
  },
  {
   "cell_type": "code",
   "execution_count": 17,
   "metadata": {},
   "outputs": [
    {
     "data": {
      "text/plain": [
       "array([0., 1.])"
      ]
     },
     "execution_count": 17,
     "metadata": {},
     "output_type": "execute_result"
    }
   ],
   "source": [
    "dfZP['usosmultiples'].unique()"
   ]
  },
  {
   "cell_type": "code",
   "execution_count": 18,
   "metadata": {},
   "outputs": [
    {
     "data": {
      "text/plain": [
       "array([0., 1.])"
      ]
     },
     "execution_count": 18,
     "metadata": {},
     "output_type": "execute_result"
    }
   ],
   "source": [
    "dfZP['piscina'].unique()"
   ]
  },
  {
   "cell_type": "markdown",
   "metadata": {},
   "source": [
    "# Datos faltantes "
   ]
  },
  {
   "cell_type": "code",
   "execution_count": 19,
   "metadata": {},
   "outputs": [
    {
     "data": {
      "text/html": [
       "<div>\n",
       "<style scoped>\n",
       "    .dataframe tbody tr th:only-of-type {\n",
       "        vertical-align: middle;\n",
       "    }\n",
       "\n",
       "    .dataframe tbody tr th {\n",
       "        vertical-align: top;\n",
       "    }\n",
       "\n",
       "    .dataframe thead th {\n",
       "        text-align: right;\n",
       "    }\n",
       "</style>\n",
       "<table border=\"1\" class=\"dataframe\">\n",
       "  <thead>\n",
       "    <tr style=\"text-align: right;\">\n",
       "      <th></th>\n",
       "      <th>nulls</th>\n",
       "      <th>porcentaje</th>\n",
       "    </tr>\n",
       "  </thead>\n",
       "  <tbody>\n",
       "    <tr>\n",
       "      <td>lng</td>\n",
       "      <td>123488</td>\n",
       "      <td>51.45</td>\n",
       "    </tr>\n",
       "    <tr>\n",
       "      <td>lat</td>\n",
       "      <td>123488</td>\n",
       "      <td>51.45</td>\n",
       "    </tr>\n",
       "    <tr>\n",
       "      <td>direccion</td>\n",
       "      <td>53072</td>\n",
       "      <td>22.11</td>\n",
       "    </tr>\n",
       "    <tr>\n",
       "      <td>metrostotales</td>\n",
       "      <td>51467</td>\n",
       "      <td>21.44</td>\n",
       "    </tr>\n",
       "    <tr>\n",
       "      <td>antiguedad</td>\n",
       "      <td>43555</td>\n",
       "      <td>18.15</td>\n",
       "    </tr>\n",
       "    <tr>\n",
       "      <td>garages</td>\n",
       "      <td>37765</td>\n",
       "      <td>15.74</td>\n",
       "    </tr>\n",
       "    <tr>\n",
       "      <td>idzona</td>\n",
       "      <td>28621</td>\n",
       "      <td>11.93</td>\n",
       "    </tr>\n",
       "    <tr>\n",
       "      <td>banos</td>\n",
       "      <td>26221</td>\n",
       "      <td>10.93</td>\n",
       "    </tr>\n",
       "    <tr>\n",
       "      <td>habitaciones</td>\n",
       "      <td>22471</td>\n",
       "      <td>9.36</td>\n",
       "    </tr>\n",
       "    <tr>\n",
       "      <td>metroscubiertos</td>\n",
       "      <td>17400</td>\n",
       "      <td>7.25</td>\n",
       "    </tr>\n",
       "    <tr>\n",
       "      <td>titulo</td>\n",
       "      <td>5387</td>\n",
       "      <td>2.24</td>\n",
       "    </tr>\n",
       "    <tr>\n",
       "      <td>descripcion</td>\n",
       "      <td>1619</td>\n",
       "      <td>0.67</td>\n",
       "    </tr>\n",
       "    <tr>\n",
       "      <td>ciudad</td>\n",
       "      <td>372</td>\n",
       "      <td>0.16</td>\n",
       "    </tr>\n",
       "    <tr>\n",
       "      <td>provincia</td>\n",
       "      <td>155</td>\n",
       "      <td>0.06</td>\n",
       "    </tr>\n",
       "    <tr>\n",
       "      <td>tipodepropiedad</td>\n",
       "      <td>46</td>\n",
       "      <td>0.02</td>\n",
       "    </tr>\n",
       "    <tr>\n",
       "      <td>precio</td>\n",
       "      <td>0</td>\n",
       "      <td>0.00</td>\n",
       "    </tr>\n",
       "    <tr>\n",
       "      <td>centroscomercialescercanos</td>\n",
       "      <td>0</td>\n",
       "      <td>0.00</td>\n",
       "    </tr>\n",
       "    <tr>\n",
       "      <td>fecha</td>\n",
       "      <td>0</td>\n",
       "      <td>0.00</td>\n",
       "    </tr>\n",
       "    <tr>\n",
       "      <td>gimnasio</td>\n",
       "      <td>0</td>\n",
       "      <td>0.00</td>\n",
       "    </tr>\n",
       "    <tr>\n",
       "      <td>usosmultiples</td>\n",
       "      <td>0</td>\n",
       "      <td>0.00</td>\n",
       "    </tr>\n",
       "    <tr>\n",
       "      <td>piscina</td>\n",
       "      <td>0</td>\n",
       "      <td>0.00</td>\n",
       "    </tr>\n",
       "    <tr>\n",
       "      <td>escuelascercanas</td>\n",
       "      <td>0</td>\n",
       "      <td>0.00</td>\n",
       "    </tr>\n",
       "    <tr>\n",
       "      <td>id</td>\n",
       "      <td>0</td>\n",
       "      <td>0.00</td>\n",
       "    </tr>\n",
       "  </tbody>\n",
       "</table>\n",
       "</div>"
      ],
      "text/plain": [
       "                             nulls  porcentaje\n",
       "lng                         123488       51.45\n",
       "lat                         123488       51.45\n",
       "direccion                    53072       22.11\n",
       "metrostotales                51467       21.44\n",
       "antiguedad                   43555       18.15\n",
       "garages                      37765       15.74\n",
       "idzona                       28621       11.93\n",
       "banos                        26221       10.93\n",
       "habitaciones                 22471        9.36\n",
       "metroscubiertos              17400        7.25\n",
       "titulo                        5387        2.24\n",
       "descripcion                   1619        0.67\n",
       "ciudad                         372        0.16\n",
       "provincia                      155        0.06\n",
       "tipodepropiedad                 46        0.02\n",
       "precio                           0        0.00\n",
       "centroscomercialescercanos       0        0.00\n",
       "fecha                            0        0.00\n",
       "gimnasio                         0        0.00\n",
       "usosmultiples                    0        0.00\n",
       "piscina                          0        0.00\n",
       "escuelascercanas                 0        0.00\n",
       "id                               0        0.00"
      ]
     },
     "execution_count": 19,
     "metadata": {},
     "output_type": "execute_result"
    }
   ],
   "source": [
    "nulls = pd.DataFrame(dfZP.isnull().sum().sort_values(ascending=False), columns=['nulls'])\n",
    "\n",
    "nulls['porcentaje'] = round(100*nulls['nulls'] / len(dfZP), 2)\n",
    "nulls"
   ]
  },
  {
   "cell_type": "markdown",
   "metadata": {},
   "source": [
    "# Transformacion de datos del DataFrame"
   ]
  },
  {
   "cell_type": "code",
   "execution_count": 20,
   "metadata": {},
   "outputs": [
    {
     "data": {
      "text/plain": [
       "42.1143798828125"
      ]
     },
     "execution_count": 20,
     "metadata": {},
     "output_type": "execute_result"
    }
   ],
   "source": [
    "(dfZP.memory_usage() / (1024 * 1024)).sum()"
   ]
  },
  {
   "cell_type": "code",
   "execution_count": 21,
   "metadata": {},
   "outputs": [],
   "source": [
    "# Baños, habitaciones y garages Nan se setean a 0\n",
    "# Antiguedad no será transformado a int y sus nulls serán tratados posteriomente para un analisis en particular\n",
    "dfZP['banos'] = dfZP['banos'].fillna(0)\n",
    "dfZP['habitaciones'] = dfZP['habitaciones'].fillna(0)\n",
    "dfZP['garages'] = dfZP['garages'].fillna(0)"
   ]
  },
  {
   "cell_type": "code",
   "execution_count": 22,
   "metadata": {},
   "outputs": [
    {
     "data": {
      "text/plain": [
       "id                              int64\n",
       "titulo                         object\n",
       "descripcion                    object\n",
       "tipodepropiedad                object\n",
       "direccion                      object\n",
       "ciudad                         object\n",
       "provincia                      object\n",
       "antiguedad                    float64\n",
       "habitaciones                  float64\n",
       "garages                       float64\n",
       "banos                         float64\n",
       "metroscubiertos               float64\n",
       "metrostotales                 float64\n",
       "idzona                        float64\n",
       "lat                           float64\n",
       "lng                           float64\n",
       "fecha                          object\n",
       "gimnasio                      float64\n",
       "usosmultiples                 float64\n",
       "piscina                       float64\n",
       "escuelascercanas              float64\n",
       "centroscomercialescercanos    float64\n",
       "precio                        float64\n",
       "dtype: object"
      ]
     },
     "execution_count": 22,
     "metadata": {},
     "output_type": "execute_result"
    }
   ],
   "source": [
    "dfZP.dtypes"
   ]
  },
  {
   "cell_type": "code",
   "execution_count": 23,
   "metadata": {},
   "outputs": [],
   "source": [
    "#Transformo tipo de datos\n",
    "dfZP['tipodepropiedad'] = dfZP['tipodepropiedad'].astype('category')\n",
    "dfZP['direccion'] = dfZP['direccion'].astype('category')\n",
    "dfZP['ciudad'] = dfZP['ciudad'].astype('category')\n",
    "dfZP['provincia'] = dfZP['provincia'].astype('category')\n",
    "dfZP['precio'] = dfZP['precio'].astype(int)\n",
    "dfZP['banos'] = dfZP['banos'].astype(int)\n",
    "dfZP['habitaciones'] = dfZP['habitaciones'].astype(int)\n",
    "dfZP['garages'] = dfZP['garages'].astype(int)\n",
    "dfZP['escuelascercanas'] = dfZP['escuelascercanas'].astype(int)\n",
    "dfZP['centroscomercialescercanos'] = dfZP['centroscomercialescercanos'].astype(int)\n",
    "dfZP['gimnasio'] = dfZP['gimnasio'].astype(int)\n",
    "dfZP['usosmultiples'] = dfZP['usosmultiples'].astype(int)\n",
    "dfZP['piscina'] = dfZP['piscina'].astype(int)\n",
    "dfZP['fecha'] = pd.to_datetime(dfZP['fecha'], format='%Y-%m-%d %H:%M:%S.%f', errors='coerce')\n",
    "dfZP['fecha_YYYYMMDD'] = pd.to_datetime(dfZP['fecha'], format='%Y-%m-%d', errors='coerce')\n",
    "dfZP['fecha_YYYY'] = pd.DatetimeIndex(dfZP['fecha']).year.astype(int)\n",
    "dfZP['fecha_MM'] = pd.DatetimeIndex(dfZP['fecha']).month.astype(int)\n",
    "dfZP['fecha_DD'] = pd.DatetimeIndex(dfZP['fecha']).day.astype(int)\n",
    "dfZP['fecha_dayofyear'] = dfZP['fecha'].dt.dayofyear.astype('category')\n",
    "dfZP['fecha_dayofweek'] = dfZP['fecha'].dt.dayofweek.astype('category')\n",
    "dfZP['fecha_day_name'] = dfZP['fecha'].dt.day_name().astype('category')\n",
    "dfZP['fecha_month_name'] = dfZP['fecha'].dt.month_name().astype('category')"
   ]
  },
  {
   "cell_type": "code",
   "execution_count": 24,
   "metadata": {},
   "outputs": [
    {
     "data": {
      "text/plain": [
       "id                                     int64\n",
       "titulo                                object\n",
       "descripcion                           object\n",
       "tipodepropiedad                     category\n",
       "direccion                           category\n",
       "ciudad                              category\n",
       "provincia                           category\n",
       "antiguedad                           float64\n",
       "habitaciones                           int32\n",
       "garages                                int32\n",
       "banos                                  int32\n",
       "metroscubiertos                      float64\n",
       "metrostotales                        float64\n",
       "idzona                               float64\n",
       "lat                                  float64\n",
       "lng                                  float64\n",
       "fecha                         datetime64[ns]\n",
       "gimnasio                               int32\n",
       "usosmultiples                          int32\n",
       "piscina                                int32\n",
       "escuelascercanas                       int32\n",
       "centroscomercialescercanos             int32\n",
       "precio                                 int32\n",
       "fecha_YYYYMMDD                datetime64[ns]\n",
       "fecha_YYYY                             int64\n",
       "fecha_MM                               int64\n",
       "fecha_DD                               int64\n",
       "fecha_dayofyear                     category\n",
       "fecha_dayofweek                     category\n",
       "fecha_day_name                      category\n",
       "fecha_month_name                    category\n",
       "dtype: object"
      ]
     },
     "execution_count": 24,
     "metadata": {},
     "output_type": "execute_result"
    }
   ],
   "source": [
    "dfZP.dtypes"
   ]
  },
  {
   "cell_type": "code",
   "execution_count": 25,
   "metadata": {},
   "outputs": [
    {
     "data": {
      "text/plain": [
       "array([2015, 2013, 2012, 2016, 2014], dtype=int64)"
      ]
     },
     "execution_count": 25,
     "metadata": {},
     "output_type": "execute_result"
    }
   ],
   "source": [
    "dfZP.fecha_YYYY.unique()"
   ]
  },
  {
   "cell_type": "code",
   "execution_count": 26,
   "metadata": {},
   "outputs": [
    {
     "data": {
      "text/plain": [
       "array([ 8,  6, 10,  3,  2,  1, 12, 11,  5,  9,  7,  4], dtype=int64)"
      ]
     },
     "execution_count": 26,
     "metadata": {},
     "output_type": "execute_result"
    }
   ],
   "source": [
    "dfZP.fecha_MM.unique()"
   ]
  },
  {
   "cell_type": "code",
   "execution_count": 27,
   "metadata": {},
   "outputs": [
    {
     "data": {
      "text/plain": [
       "[Sunday, Friday, Saturday, Tuesday, Thursday, Monday, Wednesday]\n",
       "Categories (7, object): [Sunday, Friday, Saturday, Tuesday, Thursday, Monday, Wednesday]"
      ]
     },
     "execution_count": 27,
     "metadata": {},
     "output_type": "execute_result"
    }
   ],
   "source": [
    "dfZP.fecha_day_name.unique()"
   ]
  },
  {
   "cell_type": "code",
   "execution_count": 28,
   "metadata": {},
   "outputs": [
    {
     "data": {
      "text/plain": [
       "[August, June, October, March, February, ..., November, May, September, July, April]\n",
       "Length: 12\n",
       "Categories (12, object): [August, June, October, March, ..., May, September, July, April]"
      ]
     },
     "execution_count": 28,
     "metadata": {},
     "output_type": "execute_result"
    }
   ],
   "source": [
    "dfZP.fecha_month_name.unique()"
   ]
  },
  {
   "cell_type": "code",
   "execution_count": 29,
   "metadata": {},
   "outputs": [
    {
     "data": {
      "text/html": [
       "<div>\n",
       "<style scoped>\n",
       "    .dataframe tbody tr th:only-of-type {\n",
       "        vertical-align: middle;\n",
       "    }\n",
       "\n",
       "    .dataframe tbody tr th {\n",
       "        vertical-align: top;\n",
       "    }\n",
       "\n",
       "    .dataframe thead th {\n",
       "        text-align: right;\n",
       "    }\n",
       "</style>\n",
       "<table border=\"1\" class=\"dataframe\">\n",
       "  <thead>\n",
       "    <tr style=\"text-align: right;\">\n",
       "      <th></th>\n",
       "      <th>id</th>\n",
       "      <th>titulo</th>\n",
       "      <th>descripcion</th>\n",
       "      <th>tipodepropiedad</th>\n",
       "      <th>direccion</th>\n",
       "      <th>ciudad</th>\n",
       "      <th>provincia</th>\n",
       "      <th>antiguedad</th>\n",
       "      <th>habitaciones</th>\n",
       "      <th>garages</th>\n",
       "      <th>...</th>\n",
       "      <th>centroscomercialescercanos</th>\n",
       "      <th>precio</th>\n",
       "      <th>fecha_YYYYMMDD</th>\n",
       "      <th>fecha_YYYY</th>\n",
       "      <th>fecha_MM</th>\n",
       "      <th>fecha_DD</th>\n",
       "      <th>fecha_dayofyear</th>\n",
       "      <th>fecha_dayofweek</th>\n",
       "      <th>fecha_day_name</th>\n",
       "      <th>fecha_month_name</th>\n",
       "    </tr>\n",
       "  </thead>\n",
       "  <tbody>\n",
       "    <tr>\n",
       "      <td>0</td>\n",
       "      <td>254099</td>\n",
       "      <td>depto. tipo a-402</td>\n",
       "      <td>depto. interior de 80.15m2, consta de sala com...</td>\n",
       "      <td>Apartamento</td>\n",
       "      <td>Avenida Division del Norte 2005</td>\n",
       "      <td>Benito Juárez</td>\n",
       "      <td>Distrito Federal</td>\n",
       "      <td>NaN</td>\n",
       "      <td>2</td>\n",
       "      <td>1</td>\n",
       "      <td>...</td>\n",
       "      <td>0</td>\n",
       "      <td>2273000</td>\n",
       "      <td>2015-08-23</td>\n",
       "      <td>2015</td>\n",
       "      <td>8</td>\n",
       "      <td>23</td>\n",
       "      <td>235</td>\n",
       "      <td>6</td>\n",
       "      <td>Sunday</td>\n",
       "      <td>August</td>\n",
       "    </tr>\n",
       "    <tr>\n",
       "      <td>1</td>\n",
       "      <td>53461</td>\n",
       "      <td>condominio horizontal en venta</td>\n",
       "      <td>&lt;p&gt;entre sonora y guerrero, atr&amp;aacute;s del h...</td>\n",
       "      <td>Casa en condominio</td>\n",
       "      <td>AV. MEXICO</td>\n",
       "      <td>La Magdalena Contreras</td>\n",
       "      <td>Distrito Federal</td>\n",
       "      <td>10.0</td>\n",
       "      <td>3</td>\n",
       "      <td>2</td>\n",
       "      <td>...</td>\n",
       "      <td>1</td>\n",
       "      <td>3600000</td>\n",
       "      <td>2013-06-28</td>\n",
       "      <td>2013</td>\n",
       "      <td>6</td>\n",
       "      <td>28</td>\n",
       "      <td>179</td>\n",
       "      <td>4</td>\n",
       "      <td>Friday</td>\n",
       "      <td>June</td>\n",
       "    </tr>\n",
       "    <tr>\n",
       "      <td>2</td>\n",
       "      <td>247984</td>\n",
       "      <td>casa en venta urbi 3 recamaras tonala</td>\n",
       "      <td>descripcion \\nla mejor ubicacion residencial e...</td>\n",
       "      <td>Casa</td>\n",
       "      <td>Urbi Tonala</td>\n",
       "      <td>Tonalá</td>\n",
       "      <td>Jalisco</td>\n",
       "      <td>5.0</td>\n",
       "      <td>3</td>\n",
       "      <td>2</td>\n",
       "      <td>...</td>\n",
       "      <td>0</td>\n",
       "      <td>1200000</td>\n",
       "      <td>2015-10-17</td>\n",
       "      <td>2015</td>\n",
       "      <td>10</td>\n",
       "      <td>17</td>\n",
       "      <td>290</td>\n",
       "      <td>5</td>\n",
       "      <td>Saturday</td>\n",
       "      <td>October</td>\n",
       "    </tr>\n",
       "    <tr>\n",
       "      <td>3</td>\n",
       "      <td>209067</td>\n",
       "      <td>casa sola en toluca zinacantepec con credito i...</td>\n",
       "      <td>casa en privada con caseta de vigilancia casas...</td>\n",
       "      <td>Casa</td>\n",
       "      <td>IGNACIO MANUEL ALTAMIRANO 128</td>\n",
       "      <td>Zinacantepec</td>\n",
       "      <td>Edo. de México</td>\n",
       "      <td>1.0</td>\n",
       "      <td>2</td>\n",
       "      <td>1</td>\n",
       "      <td>...</td>\n",
       "      <td>1</td>\n",
       "      <td>650000</td>\n",
       "      <td>2012-03-09</td>\n",
       "      <td>2012</td>\n",
       "      <td>3</td>\n",
       "      <td>9</td>\n",
       "      <td>69</td>\n",
       "      <td>4</td>\n",
       "      <td>Friday</td>\n",
       "      <td>March</td>\n",
       "    </tr>\n",
       "    <tr>\n",
       "      <td>4</td>\n",
       "      <td>185997</td>\n",
       "      <td>paseos del sol</td>\n",
       "      <td>bonito departamento en excelentes condiciones ...</td>\n",
       "      <td>Apartamento</td>\n",
       "      <td>PASEOS DEL SOL</td>\n",
       "      <td>Zapopan</td>\n",
       "      <td>Jalisco</td>\n",
       "      <td>10.0</td>\n",
       "      <td>2</td>\n",
       "      <td>1</td>\n",
       "      <td>...</td>\n",
       "      <td>0</td>\n",
       "      <td>1150000</td>\n",
       "      <td>2016-06-07</td>\n",
       "      <td>2016</td>\n",
       "      <td>6</td>\n",
       "      <td>7</td>\n",
       "      <td>159</td>\n",
       "      <td>1</td>\n",
       "      <td>Tuesday</td>\n",
       "      <td>June</td>\n",
       "    </tr>\n",
       "  </tbody>\n",
       "</table>\n",
       "<p>5 rows × 31 columns</p>\n",
       "</div>"
      ],
      "text/plain": [
       "       id                                             titulo  \\\n",
       "0  254099                                  depto. tipo a-402   \n",
       "1   53461                     condominio horizontal en venta   \n",
       "2  247984              casa en venta urbi 3 recamaras tonala   \n",
       "3  209067  casa sola en toluca zinacantepec con credito i...   \n",
       "4  185997                                     paseos del sol   \n",
       "\n",
       "                                         descripcion     tipodepropiedad  \\\n",
       "0  depto. interior de 80.15m2, consta de sala com...         Apartamento   \n",
       "1  <p>entre sonora y guerrero, atr&aacute;s del h...  Casa en condominio   \n",
       "2  descripcion \\nla mejor ubicacion residencial e...                Casa   \n",
       "3  casa en privada con caseta de vigilancia casas...                Casa   \n",
       "4  bonito departamento en excelentes condiciones ...         Apartamento   \n",
       "\n",
       "                         direccion                  ciudad         provincia  \\\n",
       "0  Avenida Division del Norte 2005           Benito Juárez  Distrito Federal   \n",
       "1                       AV. MEXICO  La Magdalena Contreras  Distrito Federal   \n",
       "2                      Urbi Tonala                  Tonalá           Jalisco   \n",
       "3    IGNACIO MANUEL ALTAMIRANO 128            Zinacantepec    Edo. de México   \n",
       "4                  PASEOS DEL SOL                  Zapopan           Jalisco   \n",
       "\n",
       "   antiguedad  habitaciones  garages  ...  centroscomercialescercanos  \\\n",
       "0         NaN             2        1  ...                           0   \n",
       "1        10.0             3        2  ...                           1   \n",
       "2         5.0             3        2  ...                           0   \n",
       "3         1.0             2        1  ...                           1   \n",
       "4        10.0             2        1  ...                           0   \n",
       "\n",
       "    precio  fecha_YYYYMMDD  fecha_YYYY  fecha_MM  fecha_DD fecha_dayofyear  \\\n",
       "0  2273000      2015-08-23        2015         8        23             235   \n",
       "1  3600000      2013-06-28        2013         6        28             179   \n",
       "2  1200000      2015-10-17        2015        10        17             290   \n",
       "3   650000      2012-03-09        2012         3         9              69   \n",
       "4  1150000      2016-06-07        2016         6         7             159   \n",
       "\n",
       "   fecha_dayofweek  fecha_day_name  fecha_month_name  \n",
       "0                6          Sunday            August  \n",
       "1                4          Friday              June  \n",
       "2                5        Saturday           October  \n",
       "3                4          Friday             March  \n",
       "4                1         Tuesday              June  \n",
       "\n",
       "[5 rows x 31 columns]"
      ]
     },
     "execution_count": 29,
     "metadata": {},
     "output_type": "execute_result"
    }
   ],
   "source": [
    "dfZP.head(5)"
   ]
  },
  {
   "cell_type": "code",
   "execution_count": 30,
   "metadata": {},
   "outputs": [
    {
     "data": {
      "text/plain": [
       "Index                             128\n",
       "id                            1920000\n",
       "titulo                        1920000\n",
       "descripcion                   1920000\n",
       "tipodepropiedad                240832\n",
       "direccion                     7325032\n",
       "ciudad                         527960\n",
       "provincia                      241536\n",
       "antiguedad                    1920000\n",
       "habitaciones                   960000\n",
       "garages                        960000\n",
       "banos                          960000\n",
       "metroscubiertos               1920000\n",
       "metrostotales                 1920000\n",
       "idzona                        1920000\n",
       "lat                           1920000\n",
       "lng                           1920000\n",
       "fecha                         1920000\n",
       "gimnasio                       960000\n",
       "usosmultiples                  960000\n",
       "piscina                        960000\n",
       "escuelascercanas               960000\n",
       "centroscomercialescercanos     960000\n",
       "precio                         960000\n",
       "fecha_YYYYMMDD                1920000\n",
       "fecha_YYYY                    1920000\n",
       "fecha_MM                      1920000\n",
       "fecha_DD                      1920000\n",
       "fecha_dayofyear                493168\n",
       "fecha_dayofweek                240376\n",
       "fecha_day_name                 240376\n",
       "fecha_month_name               240416\n",
       "dtype: int64"
      ]
     },
     "execution_count": 30,
     "metadata": {},
     "output_type": "execute_result"
    }
   ],
   "source": [
    "dfZP.memory_usage()"
   ]
  },
  {
   "cell_type": "code",
   "execution_count": 31,
   "metadata": {},
   "outputs": [
    {
     "data": {
      "text/plain": [
       "42.98193359375"
      ]
     },
     "execution_count": 31,
     "metadata": {},
     "output_type": "execute_result"
    }
   ],
   "source": [
    "(dfZP.memory_usage() / (1024 * 1024)).sum()"
   ]
  },
  {
   "cell_type": "markdown",
   "metadata": {},
   "source": [
    "Aquí vemos que a pesar de haber agregado 8 columnas, con la transformación de datos logramos mantener el uso de memoria inicial"
   ]
  },
  {
   "cell_type": "markdown",
   "metadata": {},
   "source": [
    "# Correlación entre Antiguedad y Precio"
   ]
  },
  {
   "cell_type": "code",
   "execution_count": 39,
   "metadata": {},
   "outputs": [
    {
     "data": {
      "text/plain": [
       "array([10,  5,  1,  2,  0, 20,  4,  8,  3, 18, 16,  6, 50, 30, 26, 25, 28,\n",
       "       15, 12, 48, 22, 11, 60, 17, 33, 35, 14, 40,  7,  9, 27, 24, 19, 34,\n",
       "       13, 37, 36, 65, 31, 21, 23, 45, 32, 51, 29, 42, 43, 49, 70, 44, 46,\n",
       "       39, 38, 47, 63, 55, 52, 41, 80, 59, 67, 54, 71, 58, 75, 53, 61, 79,\n",
       "       69, 56, 66, 57, 62, 64, 74, 77, 76, 68], dtype=int64)"
      ]
     },
     "execution_count": 39,
     "metadata": {},
     "output_type": "execute_result"
    }
   ],
   "source": [
    "dfZP2 = dfZP.dropna(subset=['antiguedad']).copy()\n",
    "dfZP2['antiguedad'] = dfZP2['antiguedad'].astype(int)\n",
    "dfZP2['antiguedad'].unique()"
   ]
  },
  {
   "cell_type": "code",
   "execution_count": 41,
   "metadata": {},
   "outputs": [
    {
     "data": {
      "text/html": [
       "<div>\n",
       "<style scoped>\n",
       "    .dataframe tbody tr th:only-of-type {\n",
       "        vertical-align: middle;\n",
       "    }\n",
       "\n",
       "    .dataframe tbody tr th {\n",
       "        vertical-align: top;\n",
       "    }\n",
       "\n",
       "    .dataframe thead th {\n",
       "        text-align: right;\n",
       "    }\n",
       "</style>\n",
       "<table border=\"1\" class=\"dataframe\">\n",
       "  <thead>\n",
       "    <tr style=\"text-align: right;\">\n",
       "      <th></th>\n",
       "      <th>precio_promedio</th>\n",
       "      <th>total_muestra</th>\n",
       "    </tr>\n",
       "    <tr>\n",
       "      <th>antiguedad</th>\n",
       "      <th></th>\n",
       "      <th></th>\n",
       "    </tr>\n",
       "  </thead>\n",
       "  <tbody>\n",
       "    <tr>\n",
       "      <td>0</td>\n",
       "      <td>2478478.97</td>\n",
       "      <td>50335</td>\n",
       "    </tr>\n",
       "    <tr>\n",
       "      <td>1</td>\n",
       "      <td>2635362.52</td>\n",
       "      <td>12353</td>\n",
       "    </tr>\n",
       "    <tr>\n",
       "      <td>2</td>\n",
       "      <td>2790816.37</td>\n",
       "      <td>5059</td>\n",
       "    </tr>\n",
       "    <tr>\n",
       "      <td>3</td>\n",
       "      <td>2616412.59</td>\n",
       "      <td>5616</td>\n",
       "    </tr>\n",
       "    <tr>\n",
       "      <td>4</td>\n",
       "      <td>2562077.38</td>\n",
       "      <td>7944</td>\n",
       "    </tr>\n",
       "    <tr>\n",
       "      <td>...</td>\n",
       "      <td>...</td>\n",
       "      <td>...</td>\n",
       "    </tr>\n",
       "    <tr>\n",
       "      <td>75</td>\n",
       "      <td>3983333.33</td>\n",
       "      <td>6</td>\n",
       "    </tr>\n",
       "    <tr>\n",
       "      <td>76</td>\n",
       "      <td>10000000.00</td>\n",
       "      <td>2</td>\n",
       "    </tr>\n",
       "    <tr>\n",
       "      <td>77</td>\n",
       "      <td>869677.00</td>\n",
       "      <td>1</td>\n",
       "    </tr>\n",
       "    <tr>\n",
       "      <td>79</td>\n",
       "      <td>7075000.00</td>\n",
       "      <td>2</td>\n",
       "    </tr>\n",
       "    <tr>\n",
       "      <td>80</td>\n",
       "      <td>4124333.33</td>\n",
       "      <td>27</td>\n",
       "    </tr>\n",
       "  </tbody>\n",
       "</table>\n",
       "<p>78 rows × 2 columns</p>\n",
       "</div>"
      ],
      "text/plain": [
       "            precio_promedio  total_muestra\n",
       "antiguedad                                \n",
       "0                2478478.97          50335\n",
       "1                2635362.52          12353\n",
       "2                2790816.37           5059\n",
       "3                2616412.59           5616\n",
       "4                2562077.38           7944\n",
       "...                     ...            ...\n",
       "75               3983333.33              6\n",
       "76              10000000.00              2\n",
       "77                869677.00              1\n",
       "79               7075000.00              2\n",
       "80               4124333.33             27\n",
       "\n",
       "[78 rows x 2 columns]"
      ]
     },
     "execution_count": 41,
     "metadata": {},
     "output_type": "execute_result"
    }
   ],
   "source": [
    "dfZP_GBy_antiguedad = dfZP2.groupby('antiguedad').agg({'precio': ['mean', 'count']})\n",
    "dfZP_GBy_antiguedad.columns = ['precio_promedio', 'total_muestra']\n",
    "dfZP_GBy_antiguedad['precio_promedio'] = round(dfZP_GBy_antiguedad.precio_promedio, 2)\n",
    "dfZP_GBy_antiguedad"
   ]
  },
  {
   "cell_type": "code",
   "execution_count": 42,
   "metadata": {},
   "outputs": [
    {
     "data": {
      "text/plain": [
       "4124333.33"
      ]
     },
     "execution_count": 42,
     "metadata": {},
     "output_type": "execute_result"
    }
   ],
   "source": [
    "#Eliminamos las filas con menos de  20 muestras\n",
    "dfZP_GBy_antiguedad = dfZP_GBy_antiguedad.loc[dfZP_GBy_antiguedad.total_muestra > 20] \n",
    "dfZP_GBy_antiguedad.precio_promedio.max()"
   ]
  },
  {
   "cell_type": "code",
   "execution_count": 43,
   "metadata": {},
   "outputs": [
    {
     "data": {
      "text/html": [
       "<div>\n",
       "<style scoped>\n",
       "    .dataframe tbody tr th:only-of-type {\n",
       "        vertical-align: middle;\n",
       "    }\n",
       "\n",
       "    .dataframe tbody tr th {\n",
       "        vertical-align: top;\n",
       "    }\n",
       "\n",
       "    .dataframe thead th {\n",
       "        text-align: right;\n",
       "    }\n",
       "</style>\n",
       "<table border=\"1\" class=\"dataframe\">\n",
       "  <thead>\n",
       "    <tr style=\"text-align: right;\">\n",
       "      <th></th>\n",
       "      <th>precio_promedio</th>\n",
       "      <th>total_muestra</th>\n",
       "    </tr>\n",
       "    <tr>\n",
       "      <th>antiguedad</th>\n",
       "      <th></th>\n",
       "      <th></th>\n",
       "    </tr>\n",
       "  </thead>\n",
       "  <tbody>\n",
       "    <tr>\n",
       "      <td>0</td>\n",
       "      <td>2478478.97</td>\n",
       "      <td>50335</td>\n",
       "    </tr>\n",
       "    <tr>\n",
       "      <td>1</td>\n",
       "      <td>2635362.52</td>\n",
       "      <td>12353</td>\n",
       "    </tr>\n",
       "    <tr>\n",
       "      <td>2</td>\n",
       "      <td>2790816.37</td>\n",
       "      <td>5059</td>\n",
       "    </tr>\n",
       "    <tr>\n",
       "      <td>3</td>\n",
       "      <td>2616412.59</td>\n",
       "      <td>5616</td>\n",
       "    </tr>\n",
       "    <tr>\n",
       "      <td>4</td>\n",
       "      <td>2562077.38</td>\n",
       "      <td>7944</td>\n",
       "    </tr>\n",
       "    <tr>\n",
       "      <td>5</td>\n",
       "      <td>2374731.74</td>\n",
       "      <td>33268</td>\n",
       "    </tr>\n",
       "    <tr>\n",
       "      <td>6</td>\n",
       "      <td>2214881.99</td>\n",
       "      <td>3169</td>\n",
       "    </tr>\n",
       "    <tr>\n",
       "      <td>7</td>\n",
       "      <td>2141595.38</td>\n",
       "      <td>2046</td>\n",
       "    </tr>\n",
       "    <tr>\n",
       "      <td>8</td>\n",
       "      <td>2050722.53</td>\n",
       "      <td>2418</td>\n",
       "    </tr>\n",
       "    <tr>\n",
       "      <td>9</td>\n",
       "      <td>2084045.45</td>\n",
       "      <td>1065</td>\n",
       "    </tr>\n",
       "    <tr>\n",
       "      <td>10</td>\n",
       "      <td>2307638.80</td>\n",
       "      <td>28844</td>\n",
       "    </tr>\n",
       "    <tr>\n",
       "      <td>11</td>\n",
       "      <td>2209605.73</td>\n",
       "      <td>1434</td>\n",
       "    </tr>\n",
       "    <tr>\n",
       "      <td>12</td>\n",
       "      <td>2117923.13</td>\n",
       "      <td>1492</td>\n",
       "    </tr>\n",
       "    <tr>\n",
       "      <td>13</td>\n",
       "      <td>2323808.91</td>\n",
       "      <td>577</td>\n",
       "    </tr>\n",
       "    <tr>\n",
       "      <td>14</td>\n",
       "      <td>2247983.23</td>\n",
       "      <td>616</td>\n",
       "    </tr>\n",
       "    <tr>\n",
       "      <td>15</td>\n",
       "      <td>2071013.41</td>\n",
       "      <td>3965</td>\n",
       "    </tr>\n",
       "    <tr>\n",
       "      <td>16</td>\n",
       "      <td>2427239.21</td>\n",
       "      <td>700</td>\n",
       "    </tr>\n",
       "    <tr>\n",
       "      <td>17</td>\n",
       "      <td>2287929.06</td>\n",
       "      <td>529</td>\n",
       "    </tr>\n",
       "    <tr>\n",
       "      <td>18</td>\n",
       "      <td>2382235.18</td>\n",
       "      <td>908</td>\n",
       "    </tr>\n",
       "    <tr>\n",
       "      <td>19</td>\n",
       "      <td>2781848.26</td>\n",
       "      <td>311</td>\n",
       "    </tr>\n",
       "    <tr>\n",
       "      <td>20</td>\n",
       "      <td>2958330.24</td>\n",
       "      <td>19904</td>\n",
       "    </tr>\n",
       "    <tr>\n",
       "      <td>21</td>\n",
       "      <td>2859364.57</td>\n",
       "      <td>742</td>\n",
       "    </tr>\n",
       "    <tr>\n",
       "      <td>22</td>\n",
       "      <td>2579767.43</td>\n",
       "      <td>448</td>\n",
       "    </tr>\n",
       "    <tr>\n",
       "      <td>23</td>\n",
       "      <td>2611918.28</td>\n",
       "      <td>305</td>\n",
       "    </tr>\n",
       "    <tr>\n",
       "      <td>24</td>\n",
       "      <td>2430427.27</td>\n",
       "      <td>270</td>\n",
       "    </tr>\n",
       "    <tr>\n",
       "      <td>25</td>\n",
       "      <td>2530285.91</td>\n",
       "      <td>2297</td>\n",
       "    </tr>\n",
       "    <tr>\n",
       "      <td>26</td>\n",
       "      <td>2511579.14</td>\n",
       "      <td>369</td>\n",
       "    </tr>\n",
       "    <tr>\n",
       "      <td>27</td>\n",
       "      <td>3210310.58</td>\n",
       "      <td>319</td>\n",
       "    </tr>\n",
       "    <tr>\n",
       "      <td>28</td>\n",
       "      <td>2773175.86</td>\n",
       "      <td>396</td>\n",
       "    </tr>\n",
       "    <tr>\n",
       "      <td>29</td>\n",
       "      <td>2780187.07</td>\n",
       "      <td>196</td>\n",
       "    </tr>\n",
       "    <tr>\n",
       "      <td>30</td>\n",
       "      <td>2811937.35</td>\n",
       "      <td>3055</td>\n",
       "    </tr>\n",
       "    <tr>\n",
       "      <td>31</td>\n",
       "      <td>3355382.32</td>\n",
       "      <td>114</td>\n",
       "    </tr>\n",
       "    <tr>\n",
       "      <td>32</td>\n",
       "      <td>2763765.64</td>\n",
       "      <td>197</td>\n",
       "    </tr>\n",
       "    <tr>\n",
       "      <td>33</td>\n",
       "      <td>3244139.99</td>\n",
       "      <td>163</td>\n",
       "    </tr>\n",
       "    <tr>\n",
       "      <td>34</td>\n",
       "      <td>2900462.82</td>\n",
       "      <td>105</td>\n",
       "    </tr>\n",
       "    <tr>\n",
       "      <td>35</td>\n",
       "      <td>2906146.14</td>\n",
       "      <td>938</td>\n",
       "    </tr>\n",
       "    <tr>\n",
       "      <td>36</td>\n",
       "      <td>3216764.30</td>\n",
       "      <td>99</td>\n",
       "    </tr>\n",
       "    <tr>\n",
       "      <td>37</td>\n",
       "      <td>3158196.60</td>\n",
       "      <td>86</td>\n",
       "    </tr>\n",
       "    <tr>\n",
       "      <td>38</td>\n",
       "      <td>2846941.74</td>\n",
       "      <td>143</td>\n",
       "    </tr>\n",
       "    <tr>\n",
       "      <td>39</td>\n",
       "      <td>3207368.42</td>\n",
       "      <td>64</td>\n",
       "    </tr>\n",
       "    <tr>\n",
       "      <td>40</td>\n",
       "      <td>3331754.38</td>\n",
       "      <td>1347</td>\n",
       "    </tr>\n",
       "    <tr>\n",
       "      <td>41</td>\n",
       "      <td>3377037.04</td>\n",
       "      <td>27</td>\n",
       "    </tr>\n",
       "    <tr>\n",
       "      <td>42</td>\n",
       "      <td>3157233.33</td>\n",
       "      <td>60</td>\n",
       "    </tr>\n",
       "    <tr>\n",
       "      <td>43</td>\n",
       "      <td>3443163.35</td>\n",
       "      <td>43</td>\n",
       "    </tr>\n",
       "    <tr>\n",
       "      <td>44</td>\n",
       "      <td>3707023.81</td>\n",
       "      <td>42</td>\n",
       "    </tr>\n",
       "    <tr>\n",
       "      <td>45</td>\n",
       "      <td>3209180.22</td>\n",
       "      <td>329</td>\n",
       "    </tr>\n",
       "    <tr>\n",
       "      <td>46</td>\n",
       "      <td>3289419.35</td>\n",
       "      <td>31</td>\n",
       "    </tr>\n",
       "    <tr>\n",
       "      <td>47</td>\n",
       "      <td>2802000.00</td>\n",
       "      <td>40</td>\n",
       "    </tr>\n",
       "    <tr>\n",
       "      <td>48</td>\n",
       "      <td>3121194.44</td>\n",
       "      <td>36</td>\n",
       "    </tr>\n",
       "    <tr>\n",
       "      <td>50</td>\n",
       "      <td>3988758.04</td>\n",
       "      <td>1193</td>\n",
       "    </tr>\n",
       "    <tr>\n",
       "      <td>51</td>\n",
       "      <td>3918076.09</td>\n",
       "      <td>46</td>\n",
       "    </tr>\n",
       "    <tr>\n",
       "      <td>55</td>\n",
       "      <td>3651184.21</td>\n",
       "      <td>38</td>\n",
       "    </tr>\n",
       "    <tr>\n",
       "      <td>60</td>\n",
       "      <td>3798209.83</td>\n",
       "      <td>165</td>\n",
       "    </tr>\n",
       "    <tr>\n",
       "      <td>70</td>\n",
       "      <td>3556551.72</td>\n",
       "      <td>29</td>\n",
       "    </tr>\n",
       "    <tr>\n",
       "      <td>80</td>\n",
       "      <td>4124333.33</td>\n",
       "      <td>27</td>\n",
       "    </tr>\n",
       "  </tbody>\n",
       "</table>\n",
       "</div>"
      ],
      "text/plain": [
       "            precio_promedio  total_muestra\n",
       "antiguedad                                \n",
       "0                2478478.97          50335\n",
       "1                2635362.52          12353\n",
       "2                2790816.37           5059\n",
       "3                2616412.59           5616\n",
       "4                2562077.38           7944\n",
       "5                2374731.74          33268\n",
       "6                2214881.99           3169\n",
       "7                2141595.38           2046\n",
       "8                2050722.53           2418\n",
       "9                2084045.45           1065\n",
       "10               2307638.80          28844\n",
       "11               2209605.73           1434\n",
       "12               2117923.13           1492\n",
       "13               2323808.91            577\n",
       "14               2247983.23            616\n",
       "15               2071013.41           3965\n",
       "16               2427239.21            700\n",
       "17               2287929.06            529\n",
       "18               2382235.18            908\n",
       "19               2781848.26            311\n",
       "20               2958330.24          19904\n",
       "21               2859364.57            742\n",
       "22               2579767.43            448\n",
       "23               2611918.28            305\n",
       "24               2430427.27            270\n",
       "25               2530285.91           2297\n",
       "26               2511579.14            369\n",
       "27               3210310.58            319\n",
       "28               2773175.86            396\n",
       "29               2780187.07            196\n",
       "30               2811937.35           3055\n",
       "31               3355382.32            114\n",
       "32               2763765.64            197\n",
       "33               3244139.99            163\n",
       "34               2900462.82            105\n",
       "35               2906146.14            938\n",
       "36               3216764.30             99\n",
       "37               3158196.60             86\n",
       "38               2846941.74            143\n",
       "39               3207368.42             64\n",
       "40               3331754.38           1347\n",
       "41               3377037.04             27\n",
       "42               3157233.33             60\n",
       "43               3443163.35             43\n",
       "44               3707023.81             42\n",
       "45               3209180.22            329\n",
       "46               3289419.35             31\n",
       "47               2802000.00             40\n",
       "48               3121194.44             36\n",
       "50               3988758.04           1193\n",
       "51               3918076.09             46\n",
       "55               3651184.21             38\n",
       "60               3798209.83            165\n",
       "70               3556551.72             29\n",
       "80               4124333.33             27"
      ]
     },
     "execution_count": 43,
     "metadata": {},
     "output_type": "execute_result"
    }
   ],
   "source": [
    "dfZP_GBy_antiguedad"
   ]
  },
  {
   "cell_type": "code",
   "execution_count": 44,
   "metadata": {},
   "outputs": [
    {
     "data": {
      "image/png": "[encoded data removed]",
      "text/plain": [
       "<Figure size 792x648 with 1 Axes>"
      ]
     },
     "metadata": {
      "needs_background": "light"
     },
     "output_type": "display_data"
    }
   ],
   "source": [
    "dfZP_GBy_antiguedad['precio_promedio'].plot(rot=0,figsize=(11,9),color='Blue', fontsize=14,x_compat=True, ylim=(0, 4500000))\n",
    "plt.grid(color='grey', linestyle='-', linewidth=0.2, alpha=0.8)\n",
    "plt.title('Precio promedio por antiguedad',fontsize=18);\n",
    "plt.ylabel('Precio promedio',fontsize=18);\n",
    "plt.xlabel('Antiguedad',fontsize=18);\n",
    "plt.legend(['precio promedio por antiguedad'], loc='upper left');\n",
    "\n",
    "plt.show()"
   ]
  },
  {
   "cell_type": "markdown",
   "metadata": {},
   "source": [
    "Podemos observar una distribución pareja del precio entre las propiedades con antiguedad de 0 a 25 años, luego el promedio tiende a subir."
   ]
  },
  {
   "cell_type": "markdown",
   "metadata": {},
   "source": [
    "# Publicaciones por mes y año - OPC 2"
   ]
  },
  {
   "cell_type": "code",
   "execution_count": 45,
   "metadata": {},
   "outputs": [
    {
     "data": {
      "text/html": [
       "<div>\n",
       "<style scoped>\n",
       "    .dataframe tbody tr th:only-of-type {\n",
       "        vertical-align: middle;\n",
       "    }\n",
       "\n",
       "    .dataframe tbody tr th {\n",
       "        vertical-align: top;\n",
       "    }\n",
       "\n",
       "    .dataframe thead th {\n",
       "        text-align: right;\n",
       "    }\n",
       "</style>\n",
       "<table border=\"1\" class=\"dataframe\">\n",
       "  <thead>\n",
       "    <tr style=\"text-align: right;\">\n",
       "      <th>fecha_MM</th>\n",
       "      <th>1</th>\n",
       "      <th>2</th>\n",
       "      <th>3</th>\n",
       "      <th>4</th>\n",
       "      <th>5</th>\n",
       "      <th>6</th>\n",
       "      <th>7</th>\n",
       "      <th>8</th>\n",
       "      <th>9</th>\n",
       "      <th>10</th>\n",
       "      <th>11</th>\n",
       "      <th>12</th>\n",
       "    </tr>\n",
       "    <tr>\n",
       "      <th>fecha_YYYY</th>\n",
       "      <th></th>\n",
       "      <th></th>\n",
       "      <th></th>\n",
       "      <th></th>\n",
       "      <th></th>\n",
       "      <th></th>\n",
       "      <th></th>\n",
       "      <th></th>\n",
       "      <th></th>\n",
       "      <th></th>\n",
       "      <th></th>\n",
       "      <th></th>\n",
       "    </tr>\n",
       "  </thead>\n",
       "  <tbody>\n",
       "    <tr>\n",
       "      <td>2012</td>\n",
       "      <td>1528</td>\n",
       "      <td>1327</td>\n",
       "      <td>1103</td>\n",
       "      <td>1434</td>\n",
       "      <td>1857</td>\n",
       "      <td>1524</td>\n",
       "      <td>1973</td>\n",
       "      <td>3971</td>\n",
       "      <td>2598</td>\n",
       "      <td>3161</td>\n",
       "      <td>1608</td>\n",
       "      <td>1450</td>\n",
       "    </tr>\n",
       "    <tr>\n",
       "      <td>2013</td>\n",
       "      <td>1993</td>\n",
       "      <td>1401</td>\n",
       "      <td>1734</td>\n",
       "      <td>1829</td>\n",
       "      <td>2000</td>\n",
       "      <td>2016</td>\n",
       "      <td>2524</td>\n",
       "      <td>2374</td>\n",
       "      <td>3321</td>\n",
       "      <td>4056</td>\n",
       "      <td>4012</td>\n",
       "      <td>3126</td>\n",
       "    </tr>\n",
       "    <tr>\n",
       "      <td>2014</td>\n",
       "      <td>2403</td>\n",
       "      <td>2534</td>\n",
       "      <td>2916</td>\n",
       "      <td>2780</td>\n",
       "      <td>3071</td>\n",
       "      <td>3082</td>\n",
       "      <td>3125</td>\n",
       "      <td>3583</td>\n",
       "      <td>3911</td>\n",
       "      <td>3811</td>\n",
       "      <td>4613</td>\n",
       "      <td>4743</td>\n",
       "    </tr>\n",
       "    <tr>\n",
       "      <td>2015</td>\n",
       "      <td>4310</td>\n",
       "      <td>3869</td>\n",
       "      <td>3957</td>\n",
       "      <td>3783</td>\n",
       "      <td>3696</td>\n",
       "      <td>3804</td>\n",
       "      <td>3875</td>\n",
       "      <td>4526</td>\n",
       "      <td>4863</td>\n",
       "      <td>5552</td>\n",
       "      <td>4906</td>\n",
       "      <td>4329</td>\n",
       "    </tr>\n",
       "    <tr>\n",
       "      <td>2016</td>\n",
       "      <td>5775</td>\n",
       "      <td>4592</td>\n",
       "      <td>5022</td>\n",
       "      <td>6640</td>\n",
       "      <td>5438</td>\n",
       "      <td>6795</td>\n",
       "      <td>6013</td>\n",
       "      <td>6443</td>\n",
       "      <td>5929</td>\n",
       "      <td>6726</td>\n",
       "      <td>6086</td>\n",
       "      <td>28579</td>\n",
       "    </tr>\n",
       "  </tbody>\n",
       "</table>\n",
       "</div>"
      ],
      "text/plain": [
       "fecha_MM      1     2     3     4     5     6     7     8     9     10    11  \\\n",
       "fecha_YYYY                                                                     \n",
       "2012        1528  1327  1103  1434  1857  1524  1973  3971  2598  3161  1608   \n",
       "2013        1993  1401  1734  1829  2000  2016  2524  2374  3321  4056  4012   \n",
       "2014        2403  2534  2916  2780  3071  3082  3125  3583  3911  3811  4613   \n",
       "2015        4310  3869  3957  3783  3696  3804  3875  4526  4863  5552  4906   \n",
       "2016        5775  4592  5022  6640  5438  6795  6013  6443  5929  6726  6086   \n",
       "\n",
       "fecha_MM       12  \n",
       "fecha_YYYY         \n",
       "2012         1450  \n",
       "2013         3126  \n",
       "2014         4743  \n",
       "2015         4329  \n",
       "2016        28579  "
      ]
     },
     "execution_count": 45,
     "metadata": {},
     "output_type": "execute_result"
    }
   ],
   "source": [
    "for_heatmap = dfZP.pivot_table(index='fecha_YYYY', columns='fecha_MM', values='id', aggfunc='count')\n",
    "for_heatmap"
   ]
  },
  {
   "cell_type": "code",
   "execution_count": 46,
   "metadata": {},
   "outputs": [
    {
     "data": {
      "text/plain": [
       "Text(33.0, 0.5, 'Año')"
      ]
     },
     "execution_count": 46,
     "metadata": {},
     "output_type": "execute_result"
    },
    {
     "data": {
      "image/png": "[encoded data removed]",
      "text/plain": [
       "<Figure size 432x288 with 2 Axes>"
      ]
     },
     "metadata": {
      "needs_background": "light"
     },
     "output_type": "display_data"
    }
   ],
   "source": [
    "g = sns.heatmap(for_heatmap,  cmap=\"YlGnBu\")\n",
    "g.set_title(\"Cantidad publicaciones por combinacion de Año y Mes\", fontsize=22)\n",
    "g.set_xlabel(\"Mes\",fontsize=18)\n",
    "g.set_ylabel(\"Año\", fontsize=18)"
   ]
  },
  {
   "cell_type": "markdown",
   "metadata": {},
   "source": [
    "No es de mucha utilidad pero sirve para ver el crecimiento de publicaciones en 2016 y el boom de publicaciones en Dic-2016"
   ]
  },
  {
   "cell_type": "code",
   "execution_count": null,
   "metadata": {},
   "outputs": [],
   "source": []
  }
 ],
 "metadata": {
  "kernelspec": {
   "display_name": "Python 3",
   "language": "python",
   "name": "python3"
  },
  "language_info": {
   "codemirror_mode": {
    "name": "ipython",
    "version": 3
   },
   "file_extension": ".py",
   "mimetype": "text/x-python",
   "name": "python",
   "nbconvert_exporter": "python",
   "pygments_lexer": "ipython3",
   "version": "3.7.4"
  }
 },
 "nbformat": 4,
 "nbformat_minor": 2
}
