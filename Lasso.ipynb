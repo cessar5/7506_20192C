{
 "cells": [
  {
   "cell_type": "code",
   "execution_count": 1,
   "metadata": {},
   "outputs": [],
   "source": [
    "import pandas as pd\n",
    "import numpy as np"
   ]
  },
  {
   "cell_type": "markdown",
   "metadata": {},
   "source": [
    "### LASSO"
   ]
  },
  {
   "cell_type": "code",
   "execution_count": 2,
   "metadata": {},
   "outputs": [
    {
     "data": {
      "text/html": [
       "<div>\n",
       "<style scoped>\n",
       "    .dataframe tbody tr th:only-of-type {\n",
       "        vertical-align: middle;\n",
       "    }\n",
       "\n",
       "    .dataframe tbody tr th {\n",
       "        vertical-align: top;\n",
       "    }\n",
       "\n",
       "    .dataframe thead th {\n",
       "        text-align: right;\n",
       "    }\n",
       "</style>\n",
       "<table border=\"1\" class=\"dataframe\">\n",
       "  <thead>\n",
       "    <tr style=\"text-align: right;\">\n",
       "      <th></th>\n",
       "      <th>id</th>\n",
       "      <th>titulo</th>\n",
       "      <th>descripcion</th>\n",
       "      <th>tipodepropiedad</th>\n",
       "      <th>direccion</th>\n",
       "      <th>ciudad</th>\n",
       "      <th>provincia</th>\n",
       "      <th>antiguedad</th>\n",
       "      <th>habitaciones</th>\n",
       "      <th>garages</th>\n",
       "      <th>...</th>\n",
       "      <th>piscina</th>\n",
       "      <th>escuelascercanas</th>\n",
       "      <th>centroscomercialescercanos</th>\n",
       "      <th>precio</th>\n",
       "      <th>cantidad_amenities</th>\n",
       "      <th>cantidad_servicios</th>\n",
       "      <th>relacion_metros</th>\n",
       "      <th>metros_por_habitacion</th>\n",
       "      <th>metros_por_bano</th>\n",
       "      <th>metros_por_amenities</th>\n",
       "    </tr>\n",
       "  </thead>\n",
       "  <tbody>\n",
       "    <tr>\n",
       "      <th>0</th>\n",
       "      <td>254099</td>\n",
       "      <td>depto. tipo a-402</td>\n",
       "      <td>depto. interior de 80.15m2, consta de sala com...</td>\n",
       "      <td>Apartamento</td>\n",
       "      <td>Avenida Division del Norte 2005</td>\n",
       "      <td>Benito Juárez</td>\n",
       "      <td>Distrito Federal</td>\n",
       "      <td>8.116114</td>\n",
       "      <td>2.0</td>\n",
       "      <td>1.0</td>\n",
       "      <td>...</td>\n",
       "      <td>0.0</td>\n",
       "      <td>0.0</td>\n",
       "      <td>0.0</td>\n",
       "      <td>2273000.0</td>\n",
       "      <td>0.0</td>\n",
       "      <td>0.0</td>\n",
       "      <td>1.000000</td>\n",
       "      <td>40.000000</td>\n",
       "      <td>40.0</td>\n",
       "      <td>0.0</td>\n",
       "    </tr>\n",
       "    <tr>\n",
       "      <th>1</th>\n",
       "      <td>53461</td>\n",
       "      <td>condominio horizontal en venta</td>\n",
       "      <td>&lt;p&gt;entre sonora y guerrero, atr&amp;aacute;s del h...</td>\n",
       "      <td>Casa en condominio</td>\n",
       "      <td>AV. MEXICO</td>\n",
       "      <td>La Magdalena Contreras</td>\n",
       "      <td>Distrito Federal</td>\n",
       "      <td>10.000000</td>\n",
       "      <td>3.0</td>\n",
       "      <td>2.0</td>\n",
       "      <td>...</td>\n",
       "      <td>0.0</td>\n",
       "      <td>1.0</td>\n",
       "      <td>1.0</td>\n",
       "      <td>3600000.0</td>\n",
       "      <td>0.0</td>\n",
       "      <td>2.0</td>\n",
       "      <td>1.488889</td>\n",
       "      <td>89.333333</td>\n",
       "      <td>134.0</td>\n",
       "      <td>0.0</td>\n",
       "    </tr>\n",
       "    <tr>\n",
       "      <th>2</th>\n",
       "      <td>247984</td>\n",
       "      <td>casa en venta urbi 3 recamaras tonala</td>\n",
       "      <td>descripcion \\nla mejor ubicacion residencial e...</td>\n",
       "      <td>Casa</td>\n",
       "      <td>Urbi Tonala</td>\n",
       "      <td>Tonalá</td>\n",
       "      <td>Jalisco</td>\n",
       "      <td>5.000000</td>\n",
       "      <td>3.0</td>\n",
       "      <td>2.0</td>\n",
       "      <td>...</td>\n",
       "      <td>0.0</td>\n",
       "      <td>0.0</td>\n",
       "      <td>0.0</td>\n",
       "      <td>1200000.0</td>\n",
       "      <td>0.0</td>\n",
       "      <td>0.0</td>\n",
       "      <td>0.867470</td>\n",
       "      <td>48.000000</td>\n",
       "      <td>72.0</td>\n",
       "      <td>0.0</td>\n",
       "    </tr>\n",
       "    <tr>\n",
       "      <th>3</th>\n",
       "      <td>209067</td>\n",
       "      <td>casa sola en toluca zinacantepec con credito i...</td>\n",
       "      <td>casa en privada con caseta de vigilancia casas...</td>\n",
       "      <td>Casa</td>\n",
       "      <td>IGNACIO MANUEL ALTAMIRANO 128</td>\n",
       "      <td>Zinacantepec</td>\n",
       "      <td>Edo. de México</td>\n",
       "      <td>1.000000</td>\n",
       "      <td>2.0</td>\n",
       "      <td>1.0</td>\n",
       "      <td>...</td>\n",
       "      <td>0.0</td>\n",
       "      <td>1.0</td>\n",
       "      <td>1.0</td>\n",
       "      <td>650000.0</td>\n",
       "      <td>0.0</td>\n",
       "      <td>2.0</td>\n",
       "      <td>0.940299</td>\n",
       "      <td>31.500000</td>\n",
       "      <td>63.0</td>\n",
       "      <td>0.0</td>\n",
       "    </tr>\n",
       "    <tr>\n",
       "      <th>4</th>\n",
       "      <td>185997</td>\n",
       "      <td>paseos del sol</td>\n",
       "      <td>bonito departamento en excelentes condiciones ...</td>\n",
       "      <td>Apartamento</td>\n",
       "      <td>PASEOS DEL SOL</td>\n",
       "      <td>Zapopan</td>\n",
       "      <td>Jalisco</td>\n",
       "      <td>10.000000</td>\n",
       "      <td>2.0</td>\n",
       "      <td>1.0</td>\n",
       "      <td>...</td>\n",
       "      <td>0.0</td>\n",
       "      <td>0.0</td>\n",
       "      <td>0.0</td>\n",
       "      <td>1150000.0</td>\n",
       "      <td>0.0</td>\n",
       "      <td>0.0</td>\n",
       "      <td>1.000000</td>\n",
       "      <td>47.500000</td>\n",
       "      <td>95.0</td>\n",
       "      <td>0.0</td>\n",
       "    </tr>\n",
       "  </tbody>\n",
       "</table>\n",
       "<p>5 rows × 29 columns</p>\n",
       "</div>"
      ],
      "text/plain": [
       "       id                                             titulo  \\\n",
       "0  254099                                  depto. tipo a-402   \n",
       "1   53461                     condominio horizontal en venta   \n",
       "2  247984              casa en venta urbi 3 recamaras tonala   \n",
       "3  209067  casa sola en toluca zinacantepec con credito i...   \n",
       "4  185997                                     paseos del sol   \n",
       "\n",
       "                                         descripcion     tipodepropiedad  \\\n",
       "0  depto. interior de 80.15m2, consta de sala com...         Apartamento   \n",
       "1  <p>entre sonora y guerrero, atr&aacute;s del h...  Casa en condominio   \n",
       "2  descripcion \\nla mejor ubicacion residencial e...                Casa   \n",
       "3  casa en privada con caseta de vigilancia casas...                Casa   \n",
       "4  bonito departamento en excelentes condiciones ...         Apartamento   \n",
       "\n",
       "                         direccion                  ciudad         provincia  \\\n",
       "0  Avenida Division del Norte 2005           Benito Juárez  Distrito Federal   \n",
       "1                       AV. MEXICO  La Magdalena Contreras  Distrito Federal   \n",
       "2                      Urbi Tonala                  Tonalá           Jalisco   \n",
       "3    IGNACIO MANUEL ALTAMIRANO 128            Zinacantepec    Edo. de México   \n",
       "4                  PASEOS DEL SOL                  Zapopan           Jalisco   \n",
       "\n",
       "   antiguedad  habitaciones  garages  ...  piscina  escuelascercanas  \\\n",
       "0    8.116114           2.0      1.0  ...      0.0               0.0   \n",
       "1   10.000000           3.0      2.0  ...      0.0               1.0   \n",
       "2    5.000000           3.0      2.0  ...      0.0               0.0   \n",
       "3    1.000000           2.0      1.0  ...      0.0               1.0   \n",
       "4   10.000000           2.0      1.0  ...      0.0               0.0   \n",
       "\n",
       "   centroscomercialescercanos     precio  cantidad_amenities  \\\n",
       "0                         0.0  2273000.0                 0.0   \n",
       "1                         1.0  3600000.0                 0.0   \n",
       "2                         0.0  1200000.0                 0.0   \n",
       "3                         1.0   650000.0                 0.0   \n",
       "4                         0.0  1150000.0                 0.0   \n",
       "\n",
       "   cantidad_servicios relacion_metros  metros_por_habitacion  metros_por_bano  \\\n",
       "0                 0.0        1.000000              40.000000             40.0   \n",
       "1                 2.0        1.488889              89.333333            134.0   \n",
       "2                 0.0        0.867470              48.000000             72.0   \n",
       "3                 2.0        0.940299              31.500000             63.0   \n",
       "4                 0.0        1.000000              47.500000             95.0   \n",
       "\n",
       "   metros_por_amenities  \n",
       "0                   0.0  \n",
       "1                   0.0  \n",
       "2                   0.0  \n",
       "3                   0.0  \n",
       "4                   0.0  \n",
       "\n",
       "[5 rows x 29 columns]"
      ]
     },
     "execution_count": 2,
     "metadata": {},
     "output_type": "execute_result"
    }
   ],
   "source": [
    "df_train = pd.read_csv('../data/train_con_features.csv', index_col='Unnamed: 0')\n",
    "df_test = pd.read_csv('../data/test_con_features.csv', index_col='Unnamed: 0')\n",
    "df_train.head()"
   ]
  },
  {
   "cell_type": "code",
   "execution_count": 3,
   "metadata": {},
   "outputs": [],
   "source": [
    "columnas_numericas = ['antiguedad', 'habitaciones', 'garages', 'gimnasio', 'usosmultiples', 'piscina', \n",
    "                      'escuelascercanas', 'centroscomercialescercanos', 'cantidad_amenities', 'cantidad_servicios', \n",
    "                      'relacion_metros', 'metros_por_amenities']\n",
    "\n",
    "columnas_numericas_y_precio = ['antiguedad', 'habitaciones', 'garages', 'gimnasio', 'usosmultiples', 'piscina', \n",
    "                               'escuelascercanas', 'centroscomercialescercanos', 'cantidad_amenities', 'cantidad_servicios', \n",
    "                               'relacion_metros', 'metros_por_amenities']\n",
    "\n",
    "#'metros_por_bano', 'metros_por_habitacion'\n",
    "\n",
    "columnas_numericas_y_precio.append('precio')"
   ]
  },
  {
   "cell_type": "code",
   "execution_count": 4,
   "metadata": {},
   "outputs": [],
   "source": [
    "X = df_train[columnas_numericas_y_precio].drop(columns=['precio']).values\n",
    "y = df_train['precio'].values"
   ]
  },
  {
   "cell_type": "code",
   "execution_count": 5,
   "metadata": {},
   "outputs": [],
   "source": [
    "# Métrica de evaluación\n",
    "def RMSLE(actual, pred):\n",
    "    return (np.mean((np.log(actual + 1) - np.log(pred + 1)) ** 2)) **.5"
   ]
  },
  {
   "cell_type": "code",
   "execution_count": 6,
   "metadata": {},
   "outputs": [
    {
     "name": "stdout",
     "output_type": "stream",
     "text": [
      "(216000, 12) (216000,)\n",
      "(24000, 12) (24000,)\n"
     ]
    }
   ],
   "source": [
    "from sklearn.model_selection import train_test_split\n",
    "\n",
    "X_train, X_test, y_train, y_test = train_test_split(X,y, test_size=0.1, random_state=0)\n",
    "\n",
    "print(X_train.shape, y_train.shape)\n",
    "print(X_test.shape, y_test.shape)"
   ]
  },
  {
   "cell_type": "code",
   "execution_count": 7,
   "metadata": {},
   "outputs": [],
   "source": [
    "from sklearn import linear_model\n",
    "\n",
    "def tunning_alpha (Datos_train, val_train, Datos_test, un_alpha):\n",
    "    lasso = linear_model.Lasso(alpha=un_alpha,positive=True)\n",
    "    lasso_fit = lasso.fit(Datos_train,val_train) \n",
    "    lasso_pred = lasso_fit.predict(Datos_test)\n",
    "    return (lasso_fit, lasso_pred)"
   ]
  },
  {
   "cell_type": "code",
   "execution_count": 9,
   "metadata": {},
   "outputs": [
    {
     "data": {
      "text/plain": [
       "array([0.26502229, 0.43952492, 0.77583207, 0.724954  , 0.12254359,\n",
       "       0.691444  , 0.82198532, 0.27646127, 0.05571908])"
      ]
     },
     "metadata": {},
     "output_type": "display_data"
    }
   ],
   "source": [
    "alphas = np.random.rand(9)\n",
    "display(alphas)"
   ]
  },
  {
   "cell_type": "code",
   "execution_count": 10,
   "metadata": {},
   "outputs": [
    {
     "name": "stdout",
     "output_type": "stream",
     "text": [
      "RMSLE Lasso (train): 0.78031 con alpha = 0.26502228565868724\n",
      "RMSLE Lasso: 0.78558 con alpha = 0.26502228565868724\n",
      "------------------------------\n",
      "RMSLE Lasso (train): 0.78031 con alpha = 0.43952492455801195\n",
      "RMSLE Lasso: 0.78558 con alpha = 0.43952492455801195\n",
      "------------------------------\n",
      "RMSLE Lasso (train): 0.78031 con alpha = 0.7758320676789286\n",
      "RMSLE Lasso: 0.78558 con alpha = 0.7758320676789286\n",
      "------------------------------\n",
      "RMSLE Lasso (train): 0.78031 con alpha = 0.7249540037035691\n",
      "RMSLE Lasso: 0.78558 con alpha = 0.7249540037035691\n",
      "------------------------------\n",
      "RMSLE Lasso (train): 0.78031 con alpha = 0.1225435932129052\n",
      "RMSLE Lasso: 0.78558 con alpha = 0.1225435932129052\n",
      "------------------------------\n",
      "RMSLE Lasso (train): 0.78031 con alpha = 0.6914440012624173\n",
      "RMSLE Lasso: 0.78558 con alpha = 0.6914440012624173\n",
      "------------------------------\n",
      "RMSLE Lasso (train): 0.78031 con alpha = 0.8219853206411967\n",
      "RMSLE Lasso: 0.78558 con alpha = 0.8219853206411967\n",
      "------------------------------\n",
      "RMSLE Lasso (train): 0.78031 con alpha = 0.27646126762718914\n",
      "RMSLE Lasso: 0.78558 con alpha = 0.27646126762718914\n",
      "------------------------------\n",
      "RMSLE Lasso (train): 0.78031 con alpha = 0.055719081049847685\n",
      "RMSLE Lasso: 0.78558 con alpha = 0.055719081049847685\n",
      "------------------------------\n"
     ]
    }
   ],
   "source": [
    "#alphas = [0.02, 0.024, 0.025, 0.026, 0.03]\n",
    "\n",
    "for un_alpha in alphas:\n",
    "    lasso_fit_alpha, lasso_pred_alpha = tunning_alpha(X_train, y_train, X_test, un_alpha)\n",
    "    lasso_rmsle = RMSLE(y_test, lasso_pred_alpha)\n",
    "    lasso_rmsle_train = RMSLE(y_train, lasso_fit_alpha.predict(X_train))\n",
    "    print(f\"RMSLE Lasso (train): {lasso_rmsle_train:.5f}\", \"con alpha =\", un_alpha)\n",
    "    print(f\"RMSLE Lasso: {lasso_rmsle:.5f}\", \"con alpha =\", un_alpha)\n",
    "    print(\"------------------------------\")"
   ]
  },
  {
   "cell_type": "markdown",
   "metadata": {},
   "source": [
    "Cambiando el parámetro ***alpha*** practicamente los mismos resultados"
   ]
  },
  {
   "cell_type": "markdown",
   "metadata": {},
   "source": [
    "###### Con 'metros_por_habitacion' y 'metros_por_banos' tira error el calculo del logaritmo\n",
    "###### C:\\Users\\maxi_\\Anaconda3\\lib\\site-packages\\ipykernel_launcher.py:3: RuntimeWarning: invalid value encountered in log. This is separate from the ipykernel package so we can avoid doing imports until"
   ]
  },
  {
   "cell_type": "code",
   "execution_count": 12,
   "metadata": {},
   "outputs": [],
   "source": [
    "#lasso_rmsle = RMSLE(y_test, lasso_pred)\n",
    "#lasso_rmsle_train = RMSLE(y_train, lasso_fit.predict(X_train))\n",
    "#print(f\"RMSLE Lasso (train): {lasso_rmsle_train:.5f}\")\n",
    "#print(f\"RMSLE Lasso: {lasso_rmsle:.5f}\")"
   ]
  },
  {
   "cell_type": "code",
   "execution_count": 13,
   "metadata": {},
   "outputs": [],
   "source": [
    "df_train_sumbit = df_train[columnas_numericas_y_precio]\n",
    "df_test_submit = df_test[columnas_numericas]\n",
    "lasso_pred_sumbit = linear_model.Lasso(alpha=0.1,positive=True)\\\n",
    "                        .fit(df_train_sumbit[columnas_numericas], df_train_sumbit['precio'])\\\n",
    "                        .predict(df_test_submit[columnas_numericas])"
   ]
  },
  {
   "cell_type": "code",
   "execution_count": 14,
   "metadata": {},
   "outputs": [
    {
     "data": {
      "text/html": [
       "<div>\n",
       "<style scoped>\n",
       "    .dataframe tbody tr th:only-of-type {\n",
       "        vertical-align: middle;\n",
       "    }\n",
       "\n",
       "    .dataframe tbody tr th {\n",
       "        vertical-align: top;\n",
       "    }\n",
       "\n",
       "    .dataframe thead th {\n",
       "        text-align: right;\n",
       "    }\n",
       "</style>\n",
       "<table border=\"1\" class=\"dataframe\">\n",
       "  <thead>\n",
       "    <tr style=\"text-align: right;\">\n",
       "      <th></th>\n",
       "      <th>id</th>\n",
       "      <th>target</th>\n",
       "    </tr>\n",
       "  </thead>\n",
       "  <tbody>\n",
       "    <tr>\n",
       "      <th>0</th>\n",
       "      <td>4941</td>\n",
       "      <td>3.173651e+06</td>\n",
       "    </tr>\n",
       "    <tr>\n",
       "      <th>1</th>\n",
       "      <td>51775</td>\n",
       "      <td>1.314068e+06</td>\n",
       "    </tr>\n",
       "    <tr>\n",
       "      <th>2</th>\n",
       "      <td>115253</td>\n",
       "      <td>1.462336e+06</td>\n",
       "    </tr>\n",
       "    <tr>\n",
       "      <th>3</th>\n",
       "      <td>299321</td>\n",
       "      <td>2.199259e+06</td>\n",
       "    </tr>\n",
       "    <tr>\n",
       "      <th>4</th>\n",
       "      <td>173570</td>\n",
       "      <td>1.749755e+06</td>\n",
       "    </tr>\n",
       "  </tbody>\n",
       "</table>\n",
       "</div>"
      ],
      "text/plain": [
       "       id        target\n",
       "0    4941  3.173651e+06\n",
       "1   51775  1.314068e+06\n",
       "2  115253  1.462336e+06\n",
       "3  299321  2.199259e+06\n",
       "4  173570  1.749755e+06"
      ]
     },
     "metadata": {},
     "output_type": "display_data"
    }
   ],
   "source": [
    "resultado_submit = pd.DataFrame(index=df_test.index)\n",
    "resultado_submit['id'] = df_test['id']\n",
    "resultado_submit['target'] = lasso_pred_sumbit\n",
    "display(resultado_submit.head())\n",
    "resultado_submit.to_csv('../data/sumbitLasso.csv',index=False)"
   ]
  },
  {
   "cell_type": "markdown",
   "metadata": {},
   "source": [
    "#### Score en Kaggle (features => score):\n",
    " - *['habitaciones', 'garages', 'gimnasio', 'usosmultiples', 'piscina', 'escuelascercanas', 'centroscomercialescercanos'] =>* ***1433282.27514*** con alpha = 0.1\n",
    " - *['antiguedad', 'habitaciones', 'garages', 'gimnasio', 'usosmultiples', 'piscina','escuelascercanas', 'centroscomercialescercanos', 'cantidad_amenities', 'cantidad_servicios', 'relacion_metros', 'metros_por_amenities'] =>* ***1400340.32238*** con alpha = 0.1"
   ]
  },
  {
   "cell_type": "code",
   "execution_count": null,
   "metadata": {},
   "outputs": [],
   "source": []
  }
 ],
 "metadata": {
  "kernelspec": {
   "display_name": "Python 3",
   "language": "python",
   "name": "python3"
  },
  "language_info": {
   "codemirror_mode": {
    "name": "ipython",
    "version": 3
   },
   "file_extension": ".py",
   "mimetype": "text/x-python",
   "name": "python",
   "nbconvert_exporter": "python",
   "pygments_lexer": "ipython3",
   "version": "3.7.3"
  }
 },
 "nbformat": 4,
 "nbformat_minor": 2
}
