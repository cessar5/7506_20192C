{
 "cells": [
  {
   "cell_type": "code",
   "execution_count": 1,
   "metadata": {},
   "outputs": [],
   "source": [
    "import pandas as pd\n",
    "import numpy as np\n",
    "import calendar\n",
    "from datetime import datetime\n",
    "from sklearn.impute import SimpleImputer\n",
    "imp_mean = SimpleImputer(missing_values=np.nan, strategy='mean')"
   ]
  },
  {
   "cell_type": "markdown",
   "metadata": {},
   "source": [
    "## Notebook para limpiar datos y generar Features"
   ]
  },
  {
   "cell_type": "code",
   "execution_count": 2,
   "metadata": {},
   "outputs": [],
   "source": [
    "df_train = pd.read_csv('../data/train.csv')\n",
    "df_test = pd.read_csv('../data/test.csv')"
   ]
  },
  {
   "cell_type": "code",
   "execution_count": 3,
   "metadata": {},
   "outputs": [
    {
     "data": {
      "text/plain": [
       "Index(['id', 'titulo', 'descripcion', 'tipodepropiedad', 'direccion', 'ciudad',\n",
       "       'provincia', 'antiguedad', 'habitaciones', 'garages', 'banos',\n",
       "       'metroscubiertos', 'metrostotales', 'idzona', 'lat', 'lng', 'fecha',\n",
       "       'gimnasio', 'usosmultiples', 'piscina', 'escuelascercanas',\n",
       "       'centroscomercialescercanos', 'precio'],\n",
       "      dtype='object')"
      ]
     },
     "execution_count": 3,
     "metadata": {},
     "output_type": "execute_result"
    }
   ],
   "source": [
    "df_train.columns"
   ]
  },
  {
   "cell_type": "code",
   "execution_count": 4,
   "metadata": {},
   "outputs": [
    {
     "name": "stdout",
     "output_type": "stream",
     "text": [
      "Cantidad nulos en Titulo: 5387\n"
     ]
    }
   ],
   "source": [
    "print('Cantidad nulos en Titulo:', df_train.titulo.isnull().sum())"
   ]
  },
  {
   "cell_type": "code",
   "execution_count": 5,
   "metadata": {},
   "outputs": [
    {
     "name": "stdout",
     "output_type": "stream",
     "text": [
      "Cantidad nulos en Descripcion: 1619\n"
     ]
    }
   ],
   "source": [
    "print('Cantidad nulos en Descripcion:', df_train.descripcion.isnull().sum())"
   ]
  },
  {
   "cell_type": "code",
   "execution_count": 6,
   "metadata": {},
   "outputs": [
    {
     "name": "stdout",
     "output_type": "stream",
     "text": [
      "Cantidad nulos en Tipo Propiedad: 46\n"
     ]
    },
    {
     "data": {
      "text/plain": [
       "Casa                             141717\n",
       "Apartamento                       57341\n",
       "Casa en condominio                19297\n",
       "Terreno                            9945\n",
       "Local Comercial                    3055\n",
       "Oficina comercial                  1741\n",
       "Bodega comercial                   1406\n",
       "Edificio                           1396\n",
       "Terreno comercial                  1326\n",
       "Casa uso de suelo                   708\n",
       "Quinta Vacacional                   395\n",
       "Duplex                              343\n",
       "Villa                               340\n",
       "Inmuebles productivos urbanos       200\n",
       "Rancho                              170\n",
       "Local en centro comercial           165\n",
       "Departamento Compartido             141\n",
       "Otros                               134\n",
       "Nave industrial                      76\n",
       "Terreno industrial                   31\n",
       "Huerta                               20\n",
       "Lote                                  5\n",
       "Garage                                1\n",
       "Hospedaje                             1\n",
       "Name: tipodepropiedad, dtype: int64"
      ]
     },
     "execution_count": 6,
     "metadata": {},
     "output_type": "execute_result"
    }
   ],
   "source": [
    "print('Cantidad nulos en Tipo Propiedad:', df_train.tipodepropiedad.isnull().sum())\n",
    "df_train.tipodepropiedad.value_counts()"
   ]
  },
  {
   "cell_type": "code",
   "execution_count": 7,
   "metadata": {},
   "outputs": [
    {
     "name": "stdout",
     "output_type": "stream",
     "text": [
      "Cantidad nulos en Ciudad: 372\n"
     ]
    },
    {
     "data": {
      "text/plain": [
       "Querétaro                       12646\n",
       "Benito Juárez                   11014\n",
       "Zapopan                         10360\n",
       "San Luis Potosí                  7925\n",
       "Mérida                           7162\n",
       "Monterrey                        6946\n",
       "Alvaro Obregón                   6633\n",
       "Cuauhtémoc                       6614\n",
       "Naucalpan de Juárez              6554\n",
       "Miguel Hidalgo                   5795\n",
       "Atizapán de Zaragoza             5783\n",
       "Tlalpan                          5721\n",
       "Huixquilucan                     5718\n",
       "Coyoacán                         5293\n",
       "Puebla                           4636\n",
       "Guadalajara                      4006\n",
       "San Andrés Cholula               3805\n",
       "Cancún                           3779\n",
       "Cuernavaca                       3775\n",
       "Chihuahua                        3757\n",
       "Tlalnepantla de Baz              3588\n",
       "Cuautitlán Izcalli               3408\n",
       "Tlajomulco de Zúñiga             3254\n",
       "Gustavo A. Madero                3141\n",
       "Iztapalapa                       3093\n",
       "Cuajimalpa de Morelos            3020\n",
       "Tijuana                          2863\n",
       "Hermosillo                       2590\n",
       "Acapulco de Juárez               2454\n",
       "Ecatepec de Morelos              2159\n",
       "                                ...  \n",
       "Saucillo                            1\n",
       "Ciénega de Zimatlán                 1\n",
       "San Mateo Río Hondo                 1\n",
       "Ixtaczoquitlán                      1\n",
       "Gómez Farías                        1\n",
       "Santa Ana                           1\n",
       "Sanctórum de Lázaro Cárdenas        1\n",
       "San Fernando                        1\n",
       "Hopelchén                           1\n",
       "CopAndaro                           1\n",
       "Axochiapan                          1\n",
       "Apazapan                            1\n",
       "Elota                               1\n",
       "Poanas                              1\n",
       "Xicotepec                           1\n",
       "San Cristóbal de la Barranca        1\n",
       "Santa María Apazco                  1\n",
       "Cansahcab                           1\n",
       "Nahuatzen                           1\n",
       "Teteles de Avila Castillo           1\n",
       "Buctzotz                            1\n",
       "Progreso de Obregón                 1\n",
       "Aquismón                            1\n",
       "San Rafael                          1\n",
       "Cocotitlán                          1\n",
       "San Pablo Huitzo                    1\n",
       "Tolcayuca                           1\n",
       "Angostura                           1\n",
       "Atoyac                              1\n",
       "Nopaltepec                          1\n",
       "Name: ciudad, Length: 875, dtype: int64"
      ]
     },
     "execution_count": 7,
     "metadata": {},
     "output_type": "execute_result"
    }
   ],
   "source": [
    "print('Cantidad nulos en Ciudad:', df_train.ciudad.isnull().sum())\n",
    "df_train.ciudad.value_counts()"
   ]
  },
  {
   "cell_type": "code",
   "execution_count": 8,
   "metadata": {},
   "outputs": [
    {
     "name": "stdout",
     "output_type": "stream",
     "text": [
      "Cantidad nulos en Provincia: 155\n"
     ]
    },
    {
     "data": {
      "text/plain": [
       "Distrito Federal         58790\n",
       "Edo. de México           41607\n",
       "Jalisco                  21238\n",
       "Querétaro                16988\n",
       "Nuevo León               15324\n",
       "Puebla                   10421\n",
       "San luis Potosí           8447\n",
       "Yucatán                   7928\n",
       "Morelos                   7337\n",
       "Veracruz                  5762\n",
       "Quintana Roo              4756\n",
       "Chihuahua                 4590\n",
       "Coahuila                  3695\n",
       "Baja California Norte     3220\n",
       "Sonora                    2988\n",
       "Guanajuato                2860\n",
       "Guerrero                  2678\n",
       "Hidalgo                   2521\n",
       "Michoacán                 2471\n",
       "Tamaulipas                2303\n",
       "Durango                   2275\n",
       "Sinaloa                   1806\n",
       "Aguascalientes            1753\n",
       "Baja California Sur       1700\n",
       "Nayarit                   1352\n",
       "Chiapas                   1126\n",
       "Colima                    1008\n",
       "Tabasco                    994\n",
       "Tlaxcala                   839\n",
       "Oaxaca                     711\n",
       "Campeche                   263\n",
       "Zacatecas                   94\n",
       "Name: provincia, dtype: int64"
      ]
     },
     "execution_count": 8,
     "metadata": {},
     "output_type": "execute_result"
    }
   ],
   "source": [
    "print('Cantidad nulos en Provincia:', df_train.provincia.isnull().sum())\n",
    "df_train.provincia.value_counts()"
   ]
  },
  {
   "cell_type": "code",
   "execution_count": 9,
   "metadata": {},
   "outputs": [
    {
     "name": "stdout",
     "output_type": "stream",
     "text": [
      "Cantidad nulos en idZona: 28621\n"
     ]
    },
    {
     "data": {
      "text/plain": [
       "50003995.0    2539\n",
       "84312.0       2022\n",
       "334898.0      1545\n",
       "50003997.0    1409\n",
       "50003998.0    1400\n",
       "275358.0      1274\n",
       "55795.0       1143\n",
       "286309.0      1060\n",
       "23815.0       1023\n",
       "50003996.0     973\n",
       "87460.0        912\n",
       "55584.0        879\n",
       "23569.0        863\n",
       "55520.0        729\n",
       "84028.0        610\n",
       "50002774.0     606\n",
       "23191.0        599\n",
       "84338.0        590\n",
       "24481.0        590\n",
       "55519.0        587\n",
       "275308.0       579\n",
       "24823.0        575\n",
       "23734.0        566\n",
       "55552.0        537\n",
       "23365.0        533\n",
       "339455.0       513\n",
       "23837.0        510\n",
       "343015.0       503\n",
       "55678.0        475\n",
       "50003999.0     448\n",
       "              ... \n",
       "87478.0          1\n",
       "116169.0         1\n",
       "93754.0          1\n",
       "130040.0         1\n",
       "1331.0           1\n",
       "71688.0          1\n",
       "105566.0         1\n",
       "105568.0         1\n",
       "79916.0          1\n",
       "126518.0         1\n",
       "72809.0          1\n",
       "122515.0         1\n",
       "47689.0          1\n",
       "127554.0         1\n",
       "122523.0         1\n",
       "56074.0          1\n",
       "105596.0         1\n",
       "3300.0           1\n",
       "69092.0          1\n",
       "56940.0          1\n",
       "57408.0          1\n",
       "72853.0          1\n",
       "291417.0         1\n",
       "126509.0         1\n",
       "15318.0          1\n",
       "1780.0           1\n",
       "41950.0          1\n",
       "36441.0          1\n",
       "15319.0          1\n",
       "52082.0          1\n",
       "Name: idzona, Length: 19719, dtype: int64"
      ]
     },
     "execution_count": 9,
     "metadata": {},
     "output_type": "execute_result"
    }
   ],
   "source": [
    "print('Cantidad nulos en idZona:', df_train.idzona.isnull().sum())\n",
    "df_train.idzona.value_counts()"
   ]
  },
  {
   "cell_type": "code",
   "execution_count": 10,
   "metadata": {},
   "outputs": [
    {
     "name": "stdout",
     "output_type": "stream",
     "text": [
      "Cantidad nulos en Habitaciones: 22471\n"
     ]
    },
    {
     "data": {
      "text/plain": [
       "3.0     121887\n",
       "2.0      57808\n",
       "4.0      25068\n",
       "1.0       5069\n",
       "5.0       4596\n",
       "6.0       1669\n",
       "7.0        539\n",
       "8.0        398\n",
       "10.0       316\n",
       "9.0        179\n",
       "Name: habitaciones, dtype: int64"
      ]
     },
     "execution_count": 10,
     "metadata": {},
     "output_type": "execute_result"
    }
   ],
   "source": [
    "print('Cantidad nulos en Habitaciones:', df_train.habitaciones.isnull().sum())\n",
    "df_train.habitaciones.value_counts()"
   ]
  },
  {
   "cell_type": "code",
   "execution_count": 11,
   "metadata": {},
   "outputs": [
    {
     "name": "stdout",
     "output_type": "stream",
     "text": [
      "Cantidad nulos en Garages: 37765\n"
     ]
    },
    {
     "data": {
      "text/plain": [
       "2.0    94167\n",
       "1.0    59464\n",
       "0.0    26926\n",
       "3.0    21678\n",
       "Name: garages, dtype: int64"
      ]
     },
     "execution_count": 11,
     "metadata": {},
     "output_type": "execute_result"
    }
   ],
   "source": [
    "print('Cantidad nulos en Garages:', df_train.garages.isnull().sum())\n",
    "df_train.garages.value_counts()"
   ]
  },
  {
   "cell_type": "code",
   "execution_count": 12,
   "metadata": {},
   "outputs": [
    {
     "name": "stdout",
     "output_type": "stream",
     "text": [
      "Cantidad nulos en Antiguedad: 43555\n"
     ]
    },
    {
     "data": {
      "text/plain": [
       "0.0     50335\n",
       "5.0     33268\n",
       "10.0    28844\n",
       "20.0    19904\n",
       "1.0     12353\n",
       "4.0      7944\n",
       "3.0      5616\n",
       "2.0      5059\n",
       "15.0     3965\n",
       "6.0      3169\n",
       "30.0     3055\n",
       "8.0      2418\n",
       "25.0     2297\n",
       "7.0      2046\n",
       "12.0     1492\n",
       "11.0     1434\n",
       "40.0     1347\n",
       "50.0     1193\n",
       "9.0      1065\n",
       "35.0      938\n",
       "18.0      908\n",
       "21.0      742\n",
       "16.0      700\n",
       "14.0      616\n",
       "13.0      577\n",
       "17.0      529\n",
       "22.0      448\n",
       "28.0      396\n",
       "26.0      369\n",
       "45.0      329\n",
       "        ...  \n",
       "47.0       40\n",
       "55.0       38\n",
       "48.0       36\n",
       "46.0       31\n",
       "70.0       29\n",
       "41.0       27\n",
       "80.0       27\n",
       "53.0       17\n",
       "49.0       17\n",
       "65.0       17\n",
       "52.0       11\n",
       "58.0       10\n",
       "54.0        9\n",
       "75.0        6\n",
       "66.0        5\n",
       "59.0        5\n",
       "69.0        5\n",
       "67.0        4\n",
       "57.0        4\n",
       "63.0        4\n",
       "62.0        3\n",
       "56.0        3\n",
       "74.0        2\n",
       "68.0        2\n",
       "79.0        2\n",
       "61.0        2\n",
       "76.0        2\n",
       "71.0        1\n",
       "77.0        1\n",
       "64.0        1\n",
       "Name: antiguedad, Length: 78, dtype: int64"
      ]
     },
     "execution_count": 12,
     "metadata": {},
     "output_type": "execute_result"
    }
   ],
   "source": [
    "print('Cantidad nulos en Antiguedad:', df_train.antiguedad.isnull().sum())\n",
    "df_train.antiguedad.value_counts()"
   ]
  },
  {
   "cell_type": "code",
   "execution_count": 13,
   "metadata": {},
   "outputs": [
    {
     "name": "stdout",
     "output_type": "stream",
     "text": [
      "Cantidad nulos en Baños: 26221\n"
     ]
    },
    {
     "data": {
      "text/plain": [
       "2.0    87683\n",
       "1.0    58173\n",
       "3.0    49365\n",
       "4.0    18558\n",
       "Name: banos, dtype: int64"
      ]
     },
     "execution_count": 13,
     "metadata": {},
     "output_type": "execute_result"
    }
   ],
   "source": [
    "print('Cantidad nulos en Baños:', df_train.banos.isnull().sum())\n",
    "df_train.banos.value_counts()"
   ]
  },
  {
   "cell_type": "code",
   "execution_count": 14,
   "metadata": {},
   "outputs": [
    {
     "name": "stdout",
     "output_type": "stream",
     "text": [
      "Cantidad nulos en Metros Cubiertos: 17400\n"
     ]
    },
    {
     "data": {
      "text/plain": [
       "200.0    4984\n",
       "120.0    4290\n",
       "60.0     4217\n",
       "90.0     4204\n",
       "300.0    3920\n",
       "100.0    3892\n",
       "180.0    3780\n",
       "80.0     3716\n",
       "150.0    3543\n",
       "250.0    3521\n",
       "160.0    3502\n",
       "70.0     3231\n",
       "140.0    2931\n",
       "65.0     2747\n",
       "220.0    2728\n",
       "110.0    2695\n",
       "400.0    2434\n",
       "130.0    2420\n",
       "240.0    2358\n",
       "350.0    2197\n",
       "75.0     2153\n",
       "170.0    2121\n",
       "280.0    1989\n",
       "190.0    1890\n",
       "50.0     1836\n",
       "230.0    1730\n",
       "260.0    1728\n",
       "210.0    1653\n",
       "85.0     1652\n",
       "320.0    1574\n",
       "         ... \n",
       "421.0      58\n",
       "381.0      55\n",
       "437.0      55\n",
       "373.0      55\n",
       "439.0      54\n",
       "34.0       53\n",
       "422.0      52\n",
       "431.0      50\n",
       "427.0      47\n",
       "379.0      47\n",
       "25.0       47\n",
       "399.0      46\n",
       "403.0      46\n",
       "433.0      46\n",
       "413.0      43\n",
       "31.0       39\n",
       "429.0      36\n",
       "15.0       30\n",
       "28.0       30\n",
       "27.0       23\n",
       "24.0       22\n",
       "23.0       21\n",
       "16.0       18\n",
       "29.0       16\n",
       "26.0       14\n",
       "18.0       13\n",
       "22.0       12\n",
       "19.0       10\n",
       "21.0        9\n",
       "17.0        8\n",
       "Name: metroscubiertos, Length: 425, dtype: int64"
      ]
     },
     "execution_count": 14,
     "metadata": {},
     "output_type": "execute_result"
    }
   ],
   "source": [
    "print('Cantidad nulos en Metros Cubiertos:', df_train.metroscubiertos.isnull().sum())\n",
    "df_train.metroscubiertos.value_counts()"
   ]
  },
  {
   "cell_type": "code",
   "execution_count": 15,
   "metadata": {},
   "outputs": [
    {
     "name": "stdout",
     "output_type": "stream",
     "text": [
      "Cantidad nulos en Metros Totales: 51467\n"
     ]
    },
    {
     "data": {
      "text/plain": [
       "90.0     7042\n",
       "200.0    6957\n",
       "160.0    6026\n",
       "120.0    5687\n",
       "300.0    4837\n",
       "250.0    4360\n",
       "140.0    3314\n",
       "180.0    3304\n",
       "60.0     3165\n",
       "105.0    3051\n",
       "150.0    2837\n",
       "100.0    2815\n",
       "80.0     2401\n",
       "400.0    2001\n",
       "70.0     1888\n",
       "130.0    1871\n",
       "110.0    1754\n",
       "128.0    1746\n",
       "240.0    1660\n",
       "220.0    1654\n",
       "144.0    1595\n",
       "170.0    1567\n",
       "96.0     1542\n",
       "65.0     1445\n",
       "75.0     1337\n",
       "72.0     1271\n",
       "126.0    1172\n",
       "112.0    1170\n",
       "350.0    1151\n",
       "210.0    1095\n",
       "         ... \n",
       "439.0      54\n",
       "381.0      53\n",
       "20.0       52\n",
       "379.0      52\n",
       "38.0       51\n",
       "394.0      51\n",
       "39.0       50\n",
       "423.0      47\n",
       "421.0      46\n",
       "433.0      42\n",
       "25.0       40\n",
       "393.0      40\n",
       "429.0      39\n",
       "34.0       36\n",
       "31.0       34\n",
       "33.0       34\n",
       "15.0       32\n",
       "37.0       28\n",
       "28.0       28\n",
       "27.0       28\n",
       "26.0       22\n",
       "24.0       21\n",
       "16.0       19\n",
       "29.0       18\n",
       "22.0       17\n",
       "18.0       14\n",
       "21.0       14\n",
       "17.0       13\n",
       "23.0       10\n",
       "19.0        8\n",
       "Name: metrostotales, Length: 425, dtype: int64"
      ]
     },
     "execution_count": 15,
     "metadata": {},
     "output_type": "execute_result"
    }
   ],
   "source": [
    "print('Cantidad nulos en Metros Totales:', df_train.metrostotales.isnull().sum())\n",
    "df_train.metrostotales.value_counts()"
   ]
  },
  {
   "cell_type": "code",
   "execution_count": 16,
   "metadata": {},
   "outputs": [
    {
     "name": "stdout",
     "output_type": "stream",
     "text": [
      "Cantidad nulos en Gimnasio: 0\n"
     ]
    },
    {
     "data": {
      "text/plain": [
       "0.0    225006\n",
       "1.0     14994\n",
       "Name: gimnasio, dtype: int64"
      ]
     },
     "execution_count": 16,
     "metadata": {},
     "output_type": "execute_result"
    }
   ],
   "source": [
    "print('Cantidad nulos en Gimnasio:', df_train.gimnasio.isnull().sum())\n",
    "df_train.gimnasio.value_counts()"
   ]
  },
  {
   "cell_type": "code",
   "execution_count": 17,
   "metadata": {},
   "outputs": [
    {
     "name": "stdout",
     "output_type": "stream",
     "text": [
      "Cantidad nulos en SUM: 0\n"
     ]
    },
    {
     "data": {
      "text/plain": [
       "0.0    226778\n",
       "1.0     13222\n",
       "Name: usosmultiples, dtype: int64"
      ]
     },
     "execution_count": 17,
     "metadata": {},
     "output_type": "execute_result"
    }
   ],
   "source": [
    "print('Cantidad nulos en SUM:', df_train.usosmultiples.isnull().sum())\n",
    "df_train.usosmultiples.value_counts()"
   ]
  },
  {
   "cell_type": "code",
   "execution_count": 18,
   "metadata": {},
   "outputs": [
    {
     "name": "stdout",
     "output_type": "stream",
     "text": [
      "Cantidad nulos en Piscina: 0\n"
     ]
    },
    {
     "data": {
      "text/plain": [
       "0.0    219028\n",
       "1.0     20972\n",
       "Name: piscina, dtype: int64"
      ]
     },
     "execution_count": 18,
     "metadata": {},
     "output_type": "execute_result"
    }
   ],
   "source": [
    "print('Cantidad nulos en Piscina:', df_train.piscina.isnull().sum())\n",
    "df_train.piscina.value_counts()"
   ]
  },
  {
   "cell_type": "code",
   "execution_count": 19,
   "metadata": {},
   "outputs": [
    {
     "name": "stdout",
     "output_type": "stream",
     "text": [
      "Cantidad nulos en Escuelas Cercanas: 0\n"
     ]
    },
    {
     "data": {
      "text/plain": [
       "0.0    133406\n",
       "1.0    106594\n",
       "Name: escuelascercanas, dtype: int64"
      ]
     },
     "execution_count": 19,
     "metadata": {},
     "output_type": "execute_result"
    }
   ],
   "source": [
    "print('Cantidad nulos en Escuelas Cercanas:', df_train.escuelascercanas.isnull().sum())\n",
    "df_train.escuelascercanas.value_counts()"
   ]
  },
  {
   "cell_type": "code",
   "execution_count": 20,
   "metadata": {},
   "outputs": [
    {
     "name": "stdout",
     "output_type": "stream",
     "text": [
      "Cantidad nulos en Centros Comerciales Cercanos: 0\n"
     ]
    },
    {
     "data": {
      "text/plain": [
       "0.0    144832\n",
       "1.0     95168\n",
       "Name: centroscomercialescercanos, dtype: int64"
      ]
     },
     "execution_count": 20,
     "metadata": {},
     "output_type": "execute_result"
    }
   ],
   "source": [
    "print('Cantidad nulos en Centros Comerciales Cercanos:', df_train.centroscomercialescercanos.isnull().sum())\n",
    "df_train.centroscomercialescercanos.value_counts()"
   ]
  },
  {
   "cell_type": "code",
   "execution_count": 21,
   "metadata": {},
   "outputs": [
    {
     "name": "stdout",
     "output_type": "stream",
     "text": [
      "Cantidad nulos en Fecha: 0\n"
     ]
    }
   ],
   "source": [
    "print('Cantidad nulos en Fecha:', df_train.fecha.isnull().sum())"
   ]
  },
  {
   "cell_type": "code",
   "execution_count": 22,
   "metadata": {},
   "outputs": [
    {
     "data": {
      "text/plain": [
       "id                                0\n",
       "titulo                         1378\n",
       "descripcion                     401\n",
       "tipodepropiedad                   7\n",
       "direccion                     13191\n",
       "ciudad                           83\n",
       "provincia                        42\n",
       "antiguedad                    10714\n",
       "habitaciones                   5628\n",
       "garages                        9323\n",
       "banos                          6554\n",
       "metroscubiertos                4299\n",
       "metrostotales                 12655\n",
       "idzona                         7179\n",
       "lat                           30695\n",
       "lng                           30695\n",
       "fecha                             0\n",
       "gimnasio                          0\n",
       "usosmultiples                     0\n",
       "piscina                           0\n",
       "escuelascercanas                  0\n",
       "centroscomercialescercanos        0\n",
       "dtype: int64"
      ]
     },
     "execution_count": 22,
     "metadata": {},
     "output_type": "execute_result"
    }
   ],
   "source": [
    "df_test.isnull().sum()"
   ]
  },
  {
   "cell_type": "markdown",
   "metadata": {},
   "source": [
    "-------------------------------------------------------------------------------------------------------------------------------------"
   ]
  },
  {
   "cell_type": "markdown",
   "metadata": {},
   "source": [
    "### Reemplazo de Nulos"
   ]
  },
  {
   "cell_type": "code",
   "execution_count": 23,
   "metadata": {},
   "outputs": [],
   "source": [
    "# Imputamos los NaNs\n",
    "df_train['metroscubiertos'] = imp_mean.fit_transform(df_train[['metroscubiertos']])\n",
    "df_test['metroscubiertos'] = imp_mean.transform(df_test[['metroscubiertos']])"
   ]
  },
  {
   "cell_type": "code",
   "execution_count": 24,
   "metadata": {},
   "outputs": [],
   "source": [
    "# Imputamos los NaNs\n",
    "df_train['metrostotales'] = imp_mean.fit_transform(df_train[['metrostotales']])\n",
    "df_test['metrostotales'] = imp_mean.transform(df_test[['metrostotales']])"
   ]
  },
  {
   "cell_type": "code",
   "execution_count": 25,
   "metadata": {},
   "outputs": [],
   "source": [
    "# Imputamos los NaNs\n",
    "df_train['banos'] = imp_mean.fit_transform(df_train[['banos']])\n",
    "df_test['banos'] = imp_mean.transform(df_test[['banos']])"
   ]
  },
  {
   "cell_type": "code",
   "execution_count": 26,
   "metadata": {},
   "outputs": [],
   "source": [
    "# Imputamos los NaNs\n",
    "df_train['antiguedad'] = imp_mean.fit_transform(df_train[['antiguedad']])\n",
    "df_test['antiguedad'] = imp_mean.transform(df_test[['antiguedad']])"
   ]
  },
  {
   "cell_type": "code",
   "execution_count": 27,
   "metadata": {},
   "outputs": [],
   "source": [
    "# Imputamos los NaNs\n",
    "df_train['garages'] = imp_mean.fit_transform(df_train[['garages']])\n",
    "df_test['garages'] = imp_mean.transform(df_test[['garages']])"
   ]
  },
  {
   "cell_type": "code",
   "execution_count": 28,
   "metadata": {},
   "outputs": [],
   "source": [
    "# Imputamos los NaNs\n",
    "df_train['habitaciones'] = imp_mean.fit_transform(df_train[['habitaciones']])\n",
    "df_test['habitaciones'] = imp_mean.transform(df_test[['habitaciones']])"
   ]
  },
  {
   "cell_type": "code",
   "execution_count": 29,
   "metadata": {},
   "outputs": [],
   "source": [
    "# Imputamos los Nulos\n",
    "df_train['tipodepropiedad'].fillna(\"Sin datos\", inplace = True)\n",
    "df_test['tipodepropiedad'].fillna(\"Sin datos\", inplace = True)"
   ]
  },
  {
   "cell_type": "code",
   "execution_count": 30,
   "metadata": {},
   "outputs": [],
   "source": [
    "# Imputamos los Nulos\n",
    "df_train['ciudad'].fillna(\"Sin datos\", inplace = True)\n",
    "df_test['ciudad'].fillna(\"Sin datos\", inplace = True)"
   ]
  },
  {
   "cell_type": "code",
   "execution_count": 31,
   "metadata": {},
   "outputs": [],
   "source": [
    "# Imputamos los Nulos\n",
    "df_train['provincia'].fillna(\"Sin datos\", inplace = True)\n",
    "df_test['provincia'].fillna(\"Sin datos\", inplace = True)"
   ]
  },
  {
   "cell_type": "code",
   "execution_count": 32,
   "metadata": {},
   "outputs": [],
   "source": [
    "# Imputamos los Nulos\n",
    "df_train['descripcion'].fillna(\"Sin datos\", inplace = True)\n",
    "df_test['descripcion'].fillna(\"Sin datos\", inplace = True)"
   ]
  },
  {
   "cell_type": "code",
   "execution_count": 33,
   "metadata": {},
   "outputs": [],
   "source": [
    "# Imputamos los Nulos\n",
    "df_train['titulo'].fillna(\"Sin datos\", inplace = True)\n",
    "df_test['titulo'].fillna(\"Sin datos\", inplace = True)"
   ]
  },
  {
   "cell_type": "code",
   "execution_count": 34,
   "metadata": {},
   "outputs": [],
   "source": [
    "# Imputamos los Nulos\n",
    "df_train['direccion'].fillna(\"Sin datos\", inplace = True)\n",
    "df_test['direccion'].fillna(\"Sin datos\", inplace = True)"
   ]
  },
  {
   "cell_type": "code",
   "execution_count": 35,
   "metadata": {},
   "outputs": [],
   "source": [
    "id_zona_prom_provincia_train = df_train[~df_train['idzona'].isnull()].groupby('provincia').agg({'idzona': 'mean'}).T.to_dict('list')\n",
    "id_zona_prom_ciudad_train = df_train[~df_train['idzona'].isnull()].groupby('ciudad').agg({'idzona': 'mean'}).T.to_dict('list')\n",
    "\n",
    "def completar_zona_ciudad_train (idzona, una_ciudad):\n",
    "    if (np.isnan(idzona)):\n",
    "        if (una_ciudad != \"Sin datos\"):\n",
    "            if (una_ciudad in id_zona_prom_ciudad_train):\n",
    "                return id_zona_prom_ciudad_train[una_ciudad][0]\n",
    "    return idzona\n",
    "\n",
    "def completar_zona_provincia_train (idzona, una_provincia):\n",
    "    if (np.isnan(idzona)):\n",
    "        if ((una_provincia != \"Sin datos\") & (una_provincia in id_zona_prom_provincia_train)):\n",
    "            return id_zona_prom_provincia_train[una_provincia][0]\n",
    "        else:\n",
    "            return 0\n",
    "\n",
    "    return idzona"
   ]
  },
  {
   "cell_type": "code",
   "execution_count": 36,
   "metadata": {},
   "outputs": [],
   "source": [
    "df_train['idzona'] = df_train.idzona.combine(df_train.ciudad, func=completar_zona_ciudad_train)\n",
    "df_train['idzona'] = df_train.idzona.combine(df_train.provincia, func=completar_zona_provincia_train)"
   ]
  },
  {
   "cell_type": "code",
   "execution_count": 37,
   "metadata": {},
   "outputs": [],
   "source": [
    "id_zona_prom_provincia_test = df_test[~df_test['idzona'].isnull()].groupby('provincia').agg({'idzona': 'mean'}).T.to_dict('list')\n",
    "id_zona_prom_ciudad_test = df_test[~df_test['idzona'].isnull()].groupby('ciudad').agg({'idzona': 'mean'}).T.to_dict('list')\n",
    "\n",
    "def completar_zona_ciudad_test (idzona, una_ciudad):\n",
    "    if (np.isnan(idzona)):\n",
    "        if (una_ciudad != \"Sin datos\"):\n",
    "            if (una_ciudad in id_zona_prom_ciudad_test):\n",
    "                return id_zona_prom_ciudad_test[una_ciudad][0]\n",
    "    return idzona\n",
    "\n",
    "def completar_zona_provincia_test (idzona, una_provincia):\n",
    "    if (np.isnan(idzona)):\n",
    "        if ((una_provincia != \"Sin datos\") & (una_provincia in id_zona_prom_provincia_test)):\n",
    "            return id_zona_prom_provincia_test[una_provincia][0]\n",
    "        else:\n",
    "            return 0\n",
    "    return idzona"
   ]
  },
  {
   "cell_type": "code",
   "execution_count": 38,
   "metadata": {},
   "outputs": [],
   "source": [
    "df_test['idzona'] = df_test.idzona.combine(df_test.ciudad, func=completar_zona_ciudad_test)\n",
    "df_test['idzona'] = df_test.idzona.combine(df_test.provincia, func=completar_zona_provincia_test)"
   ]
  },
  {
   "cell_type": "code",
   "execution_count": 39,
   "metadata": {},
   "outputs": [],
   "source": [
    "# Elimino caracteres que pueden modificar palabras y llevo todas las palabras a minuscular\n",
    "import string \n",
    "char_invalidos = string.punctuation\n",
    "\n",
    "char_fin_linea = ['\\n', '\\t', '\\r']\n",
    "\n",
    "def limpiar_cadena (cadena):\n",
    "    cadena_valida = cadena\n",
    "    for un_char in char_invalidos:\n",
    "        cadena_valida = cadena_valida.replace(un_char, \" \")\n",
    "        \n",
    "    for un_char in char_fin_linea:\n",
    "        cadena_valida = cadena_valida.replace(un_char, \" \")\n",
    "        \n",
    "    return cadena_valida.lower()"
   ]
  },
  {
   "cell_type": "code",
   "execution_count": 40,
   "metadata": {},
   "outputs": [],
   "source": [
    "df_train['descripcion'] = df_train['descripcion'].apply(limpiar_cadena)\n",
    "df_test['descripcion'] = df_test['descripcion'].apply(limpiar_cadena)"
   ]
  },
  {
   "cell_type": "code",
   "execution_count": 41,
   "metadata": {},
   "outputs": [],
   "source": [
    "df_train['titulo'] = df_train['titulo'].apply(limpiar_cadena)\n",
    "df_test['titulo'] = df_test['titulo'].apply(limpiar_cadena)"
   ]
  },
  {
   "cell_type": "code",
   "execution_count": 42,
   "metadata": {},
   "outputs": [],
   "source": [
    "df_train['direccion'] = df_train['direccion'].apply(limpiar_cadena)\n",
    "df_test['direccion'] = df_test['direccion'].apply(limpiar_cadena)"
   ]
  },
  {
   "cell_type": "markdown",
   "metadata": {},
   "source": [
    "-------------------------------------------------------------------------------------------------------------------------------------"
   ]
  },
  {
   "cell_type": "markdown",
   "metadata": {},
   "source": [
    "### Creación de nuevos Features"
   ]
  },
  {
   "cell_type": "code",
   "execution_count": 43,
   "metadata": {},
   "outputs": [],
   "source": [
    "def relacion_entre_dos(numerador, denominador):\n",
    "    if (denominador == 0):\n",
    "        return 0\n",
    "    return (numerador / denominador)"
   ]
  },
  {
   "cell_type": "markdown",
   "metadata": {},
   "source": [
    "##### Cantidad total de Amenities"
   ]
  },
  {
   "cell_type": "code",
   "execution_count": 44,
   "metadata": {},
   "outputs": [],
   "source": [
    "df_train['cantidad_amenities'] = df_train['gimnasio'] + df_train['usosmultiples'] + df_train['piscina']\n",
    "df_test['cantidad_amenities'] = df_test['gimnasio'] + df_test['usosmultiples'] + df_test['piscina']"
   ]
  },
  {
   "cell_type": "markdown",
   "metadata": {},
   "source": [
    "##### Cantidad total de Servicios (escuales/comercios cercanos)"
   ]
  },
  {
   "cell_type": "code",
   "execution_count": 45,
   "metadata": {},
   "outputs": [],
   "source": [
    "df_train['cantidad_servicios'] = df_train['escuelascercanas'] + df_train['centroscomercialescercanos']\n",
    "df_test['cantidad_servicios'] =  df_test['escuelascercanas'] + df_test['centroscomercialescercanos']"
   ]
  },
  {
   "cell_type": "markdown",
   "metadata": {},
   "source": [
    "##### Relación entre Metros Cubiertos sobre Metros Totales"
   ]
  },
  {
   "cell_type": "code",
   "execution_count": 46,
   "metadata": {},
   "outputs": [],
   "source": [
    "df_train['relacion_metros'] = df_train['metroscubiertos'] / df_train['metrostotales']\n",
    "df_test['relacion_metros'] = df_test['metroscubiertos'] / df_test['metrostotales']"
   ]
  },
  {
   "cell_type": "markdown",
   "metadata": {},
   "source": [
    "##### Metros Cuadrados Cubiertos por Habitación"
   ]
  },
  {
   "cell_type": "code",
   "execution_count": 47,
   "metadata": {},
   "outputs": [],
   "source": [
    "df_train['metros_por_habitacion'] = df_train.metroscubiertos.combine(df_train.habitaciones, func=relacion_entre_dos)\n",
    "df_test['metros_por_habitacion'] = df_test.metroscubiertos.combine(df_test.habitaciones, func=relacion_entre_dos)"
   ]
  },
  {
   "cell_type": "markdown",
   "metadata": {},
   "source": [
    "##### Metros cuadrados cubiertos por Baño"
   ]
  },
  {
   "cell_type": "code",
   "execution_count": 48,
   "metadata": {},
   "outputs": [],
   "source": [
    "df_train['metros_por_bano'] = df_train.metroscubiertos.combine(df_train.banos, func=relacion_entre_dos)\n",
    "df_test['metros_por_bano'] = df_test.metroscubiertos.combine(df_test.banos, func=relacion_entre_dos)"
   ]
  },
  {
   "cell_type": "markdown",
   "metadata": {},
   "source": [
    "##### Metros cuadrados por cantidad total de Amenities"
   ]
  },
  {
   "cell_type": "code",
   "execution_count": 49,
   "metadata": {},
   "outputs": [],
   "source": [
    "df_train['metros_por_amenities'] = df_train.metroscubiertos.combine(df_train.cantidad_amenities, func=relacion_entre_dos)\n",
    "df_test['metros_por_amenities'] = df_test.metroscubiertos.combine(df_test.cantidad_amenities, func=relacion_entre_dos)"
   ]
  },
  {
   "cell_type": "markdown",
   "metadata": {},
   "source": [
    "##### Cantidad de Baños por habitación"
   ]
  },
  {
   "cell_type": "code",
   "execution_count": 50,
   "metadata": {},
   "outputs": [],
   "source": [
    "df_train['bano_por_habitacion'] = df_train.banos.combine(df_train.habitaciones, func=relacion_entre_dos)\n",
    "df_test['bano_por_habitacion'] = df_test.banos.combine(df_test.habitaciones, func=relacion_entre_dos)"
   ]
  },
  {
   "cell_type": "markdown",
   "metadata": {},
   "source": [
    "##### Cantidad de Garages por habitación"
   ]
  },
  {
   "cell_type": "code",
   "execution_count": 51,
   "metadata": {},
   "outputs": [],
   "source": [
    "df_train['garages_por_habitacion'] = df_train.garages.combine(df_train.habitaciones, func=relacion_entre_dos)\n",
    "df_test['garages_por_habitacion'] = df_test.garages.combine(df_test.habitaciones, func=relacion_entre_dos)"
   ]
  },
  {
   "cell_type": "markdown",
   "metadata": {},
   "source": [
    "##### Precio promedio según la ciudad"
   ]
  },
  {
   "cell_type": "code",
   "execution_count": 52,
   "metadata": {},
   "outputs": [],
   "source": [
    "precio_promedio_por_ciudad = df_train.groupby('ciudad').agg({'precio':'mean'}).T.to_dict('list')\n",
    "precio_promedio_general = df_train.precio.mean()"
   ]
  },
  {
   "cell_type": "code",
   "execution_count": 53,
   "metadata": {},
   "outputs": [],
   "source": [
    "def obtener_precio_promedio_por_ciudad(una_ciudad):\n",
    "    if una_ciudad in precio_promedio_por_ciudad:\n",
    "        return precio_promedio_por_ciudad[una_ciudad][0]\n",
    "    return precio_promedio_general"
   ]
  },
  {
   "cell_type": "code",
   "execution_count": 54,
   "metadata": {},
   "outputs": [],
   "source": [
    "df_train['precio_prom_ciudad'] = df_train['ciudad'].apply(obtener_precio_promedio_por_ciudad)\n",
    "df_test['precio_prom_ciudad'] = df_test['ciudad'].apply(obtener_precio_promedio_por_ciudad)"
   ]
  },
  {
   "cell_type": "markdown",
   "metadata": {},
   "source": [
    "##### Precio promedio según tipo de propiedad"
   ]
  },
  {
   "cell_type": "code",
   "execution_count": 55,
   "metadata": {},
   "outputs": [
    {
     "data": {
      "text/plain": [
       "{'Apartamento': [2763768.662248653],\n",
       " 'Bodega comercial': [2693757.698435277],\n",
       " 'Casa': [2398157.709865436],\n",
       " 'Casa en condominio': [2898927.041819972],\n",
       " 'Casa uso de suelo': [3732469.22740113],\n",
       " 'Departamento Compartido': [2560161.8936170214],\n",
       " 'Duplex': [1271757.973760933],\n",
       " 'Edificio': [5009499.372492837],\n",
       " 'Garage': [500000.0],\n",
       " 'Hospedaje': [3000000.0],\n",
       " 'Huerta': [3543350.0],\n",
       " 'Inmuebles productivos urbanos': [3743070.11],\n",
       " 'Local Comercial': [2365064.1610474633],\n",
       " 'Local en centro comercial': [2212631.1272727274],\n",
       " 'Lote': [988760.8],\n",
       " 'Nave industrial': [3742600.0],\n",
       " 'Oficina comercial': [3148532.746122918],\n",
       " 'Otros': [2881688.8582089553],\n",
       " 'Quinta Vacacional': [3187426.4607594935],\n",
       " 'Rancho': [4032681.505882353],\n",
       " 'Sin datos': [2249819.847826087],\n",
       " 'Terreno': [1805201.8043237808],\n",
       " 'Terreno comercial': [2472024.5859728507],\n",
       " 'Terreno industrial': [3647994.4516129033],\n",
       " 'Villa': [2767351.761764706]}"
      ]
     },
     "execution_count": 55,
     "metadata": {},
     "output_type": "execute_result"
    }
   ],
   "source": [
    "precio_promedio_por_propiedad = df_train.groupby('tipodepropiedad').agg({'precio':'mean'}).T.to_dict('list')\n",
    "precio_promedio_por_propiedad"
   ]
  },
  {
   "cell_type": "code",
   "execution_count": 56,
   "metadata": {},
   "outputs": [],
   "source": [
    "def obtener_precio_promedio_por_propiedad(un_tipo_propiedad):\n",
    "    if un_tipo_propiedad in precio_promedio_por_propiedad:\n",
    "        return precio_promedio_por_propiedad[un_tipo_propiedad][0]\n",
    "    return precio_promedio_general"
   ]
  },
  {
   "cell_type": "code",
   "execution_count": 57,
   "metadata": {},
   "outputs": [],
   "source": [
    "df_train['precio_prom_propiedad'] = df_train['tipodepropiedad'].apply(obtener_precio_promedio_por_propiedad)\n",
    "df_test['precio_prom_propiedad'] = df_test['tipodepropiedad'].apply(obtener_precio_promedio_por_propiedad)"
   ]
  },
  {
   "cell_type": "markdown",
   "metadata": {},
   "source": [
    "##### Pertenece al TOP5 de Provincias más caras"
   ]
  },
  {
   "cell_type": "code",
   "execution_count": 58,
   "metadata": {},
   "outputs": [],
   "source": [
    "TOP5_provincias_caras = ['Distrito Federal', 'Edo. de México', 'Nuevo León', 'Guerrero', 'Quintana Roo']\n",
    "\n",
    "def es_provincia_top5 (ciudad):\n",
    "    if (ciudad in TOP5_provincias_caras):\n",
    "        return 1\n",
    "    return 0"
   ]
  },
  {
   "cell_type": "code",
   "execution_count": 59,
   "metadata": {},
   "outputs": [],
   "source": [
    "df_train['provincia_top5'] = df_train['provincia'].apply(es_provincia_top5)\n",
    "df_test['provincia_top5'] = df_test['provincia'].apply(es_provincia_top5)"
   ]
  },
  {
   "cell_type": "markdown",
   "metadata": {},
   "source": [
    "##### Encoded según el Tipo de Propiedad"
   ]
  },
  {
   "cell_type": "code",
   "execution_count": 60,
   "metadata": {},
   "outputs": [
    {
     "data": {
      "text/plain": [
       "array(['Apartamento', 'Casa en condominio', 'Casa', 'Terreno',\n",
       "       'Terreno comercial', 'Local Comercial', 'Quinta Vacacional',\n",
       "       'Oficina comercial', 'Edificio', 'Casa uso de suelo',\n",
       "       'Local en centro comercial', 'Bodega comercial', 'Otros', 'Villa',\n",
       "       'Duplex', 'Inmuebles productivos urbanos',\n",
       "       'Departamento Compartido', 'Nave industrial', 'Rancho',\n",
       "       'Terreno industrial', 'Sin datos', 'Huerta', 'Lote', 'Hospedaje',\n",
       "       'Garage'], dtype=object)"
      ]
     },
     "execution_count": 60,
     "metadata": {},
     "output_type": "execute_result"
    }
   ],
   "source": [
    "df_train['tipodepropiedad'].unique()"
   ]
  },
  {
   "cell_type": "code",
   "execution_count": 61,
   "metadata": {},
   "outputs": [],
   "source": [
    "# Lista de TipoPropiedades sin los 'Sin datos'\n",
    "lst_tipos_propiedades = ['Apartamento', 'Casa en condominio', 'Casa', 'Terreno', 'Terreno comercial', 'Local Comercial', \n",
    "                         'Quinta Vacacional', 'Oficina comercial', 'Edificio', 'Casa uso de suelo', 'Local en centro comercial', \n",
    "                         'Bodega comercial', 'Otros', 'Villa', 'Duplex', 'Inmuebles productivos urbanos', 'Departamento Compartido', \n",
    "                         'Nave industrial', 'Rancho', 'Terreno industrial', 'Huerta', 'Lote', 'Hospedaje', 'Garage']\n"
   ]
  },
  {
   "cell_type": "code",
   "execution_count": 62,
   "metadata": {},
   "outputs": [],
   "source": [
    "for un_tipo_prop in lst_tipos_propiedades:\n",
    "    nombre_columna = 'es_' + un_tipo_prop.replace (\" \", \"_\")\n",
    "    df_train[nombre_columna] = df_train['tipodepropiedad'].apply(lambda x: 1 if (x == un_tipo_prop) else 0)\n",
    "    df_test[nombre_columna] = df_test['tipodepropiedad'].apply(lambda x: 1 if (x == un_tipo_prop) else 0)\n"
   ]
  },
  {
   "cell_type": "markdown",
   "metadata": {},
   "source": [
    "##### Palabras en descripcion y titulo"
   ]
  },
  {
   "cell_type": "code",
   "execution_count": 63,
   "metadata": {},
   "outputs": [],
   "source": [
    "lst_palabras_seguridad = ['seguridad', 'seguro', 'tranquilidad', 'tranquilo', 'paz']\n",
    "lst_palabras_moderno = ['modernas', 'modernos', 'moderna', 'moderno', 'modernidad']\n",
    "lst_palabras_hermoso = ['hermoso', 'hermosa', 'hermosos', 'hermosas', 'lindo', 'linda', 'lindos', 'lindas', 'bello', 'bella', 'bellos', 'bellas']\n",
    "lst_palabras_estado = ['excelente', 'excelentes', 'residencial', 'confort']"
   ]
  },
  {
   "cell_type": "code",
   "execution_count": 64,
   "metadata": {},
   "outputs": [],
   "source": [
    "def contar_cantidad_palabras (cadena, lst_palabras_a_buscar):\n",
    "    cantidad_palabras = 0\n",
    "    for una_palabra in cadena.split():\n",
    "        if una_palabra in lst_palabras_a_buscar:\n",
    "            cantidad_palabras += 1\n",
    "    return cantidad_palabras"
   ]
  },
  {
   "cell_type": "code",
   "execution_count": 65,
   "metadata": {},
   "outputs": [],
   "source": [
    "# PALABRAS EN DESCRIPCION\n",
    "df_train['seguridad_descripcion'] = df_train['descripcion'].apply(lambda x: contar_cantidad_palabras(x, lst_palabras_seguridad))\n",
    "df_test['seguridad_descripcion'] = df_test['descripcion'].apply(lambda x: contar_cantidad_palabras(x, lst_palabras_seguridad))\n",
    "\n",
    "df_train['moderno_descripcion'] = df_train['descripcion'].apply(lambda x: contar_cantidad_palabras(x, lst_palabras_moderno))\n",
    "df_test['moderno_descripcion'] = df_test['descripcion'].apply(lambda x: contar_cantidad_palabras(x, lst_palabras_moderno))\n",
    "\n",
    "df_train['hermoso_descripcion'] = df_train['descripcion'].apply(lambda x: contar_cantidad_palabras(x, lst_palabras_hermoso))\n",
    "df_test['hermoso_descripcion'] = df_test['descripcion'].apply(lambda x: contar_cantidad_palabras(x, lst_palabras_hermoso))\n",
    "\n",
    "df_train['estado_descripcion'] = df_train['descripcion'].apply(lambda x: contar_cantidad_palabras(x, lst_palabras_estado))\n",
    "df_test['estado_descripcion'] = df_test['descripcion'].apply(lambda x: contar_cantidad_palabras(x, lst_palabras_estado))"
   ]
  },
  {
   "cell_type": "code",
   "execution_count": 66,
   "metadata": {},
   "outputs": [],
   "source": [
    "# PALABRAS EN TITULO\n",
    "df_train['seguridad_titulo'] = df_train['titulo'].apply(lambda x: contar_cantidad_palabras(x, lst_palabras_seguridad))\n",
    "df_test['seguridad_titulo'] = df_test['titulo'].apply(lambda x: contar_cantidad_palabras(x, lst_palabras_seguridad))\n",
    "\n",
    "df_train['moderno_titulo'] = df_train['titulo'].apply(lambda x: contar_cantidad_palabras(x, lst_palabras_moderno))\n",
    "df_test['moderno_titulo'] = df_test['titulo'].apply(lambda x: contar_cantidad_palabras(x, lst_palabras_moderno))\n",
    "\n",
    "df_train['hermoso_titulo'] = df_train['titulo'].apply(lambda x: contar_cantidad_palabras(x, lst_palabras_hermoso))\n",
    "df_test['hermoso_titulo'] = df_test['titulo'].apply(lambda x: contar_cantidad_palabras(x, lst_palabras_hermoso))\n",
    "\n",
    "df_train['estado_titulo'] = df_train['titulo'].apply(lambda x: contar_cantidad_palabras(x, lst_palabras_estado))\n",
    "df_test['estado_titulo'] = df_test['titulo'].apply(lambda x: contar_cantidad_palabras(x, lst_palabras_estado))"
   ]
  },
  {
   "cell_type": "code",
   "execution_count": 67,
   "metadata": {},
   "outputs": [],
   "source": [
    "def log_palabras (cantidad_palabras, cadena_completa):\n",
    "    long_cadena = len(cadena_completa.split())\n",
    "    if (long_cadena == 0):\n",
    "        return 0\n",
    "    return np.log((cantidad_palabras / long_cadena) + 1)"
   ]
  },
  {
   "cell_type": "code",
   "execution_count": 68,
   "metadata": {},
   "outputs": [],
   "source": [
    "df_train['cantidad_palabras_descripcion'] = df_train['seguridad_descripcion'] + df_train['moderno_descripcion'] + \\\n",
    "                                            df_train['hermoso_descripcion'] + df_train['estado_descripcion']\n",
    "\n",
    "df_test['cantidad_palabras_descripcion'] = df_test['seguridad_descripcion'] + df_test['moderno_descripcion'] + \\\n",
    "                                            df_test['hermoso_descripcion'] + df_test['estado_descripcion']\n",
    "\n",
    "df_train['relacion_palabras_descripcion'] = df_train.cantidad_palabras_descripcion.combine(df_train.descripcion, func=log_palabras)\n",
    "df_test['relacion_palabras_descripcion'] = df_test.cantidad_palabras_descripcion.combine(df_test.descripcion, func=log_palabras)"
   ]
  },
  {
   "cell_type": "markdown",
   "metadata": {},
   "source": [
    "##### Es Avenida"
   ]
  },
  {
   "cell_type": "code",
   "execution_count": 69,
   "metadata": {},
   "outputs": [],
   "source": [
    "lst_palabras_avenida = ['avenida', 'av']\n",
    "\n",
    "def direccion_es_avenida(direccion):\n",
    "    for sinonimo_avenida in lst_palabras_avenida:\n",
    "        if sinonimo_avenida in direccion.split():\n",
    "            return 1\n",
    "    return 0"
   ]
  },
  {
   "cell_type": "code",
   "execution_count": 70,
   "metadata": {},
   "outputs": [],
   "source": [
    "df_train['es_avenida'] = df_train['direccion'].apply(direccion_es_avenida)\n",
    "df_test['es_avenida'] = df_test['direccion'].apply(direccion_es_avenida)"
   ]
  },
  {
   "cell_type": "markdown",
   "metadata": {},
   "source": [
    "##### Es Ciudad Capital"
   ]
  },
  {
   "cell_type": "code",
   "execution_count": 71,
   "metadata": {},
   "outputs": [],
   "source": [
    "dic_estado_capital = {\n",
    "    'Aguascalientes': 'Aguascalientes',\n",
    "    'Baja California Norte': 'Mexicali',\n",
    "    'Baja California Sur': 'La Paz',\n",
    "    'Campeche': 'Campeche',\n",
    "    'Chiapas': 'Tuxtla Gutiérrez',\n",
    "    'Chihuahua': 'Chihuahua',\n",
    "    'Coahuila': 'Saltillo',\n",
    "    'Colima': 'Colima',\n",
    "    'Distrito Federal': 'Ciudad de México',\n",
    "    'Durango': 'Durango',\n",
    "    'Edo. de México': 'Toluca',\n",
    "    'Guanajuato': 'Guanajuato',\n",
    "    'Guerrero': 'Chilpancingo de los Bravo',\n",
    "    'Hidalgo': 'Pachuca',\n",
    "    'Jalisco': 'Guadalajara',\n",
    "    'Michoacán': 'Morelia',\n",
    "    'Morelos': 'Cuernavaca', \n",
    "    'Nayarit': 'Tepic',\n",
    "    'Nuevo León': 'Monterrey',\n",
    "    'Oaxaca': 'Oaxaca de Juárez',\n",
    "    'Puebla': 'Puebla',\n",
    "    'Querétaro': 'Querétaro',\n",
    "    'Quintana Roo': 'Chetumal',\n",
    "    'San luis Potosí': 'San Luis Potosí',\n",
    "    'Sinaloa': 'Culiacán',\n",
    "    'Sonora': 'Hermosillo',\n",
    "    'Tabasco': 'Villahermosa',\n",
    "    'Tamaulipas': 'Ciudad Victoria',\n",
    "    'Tlaxcala': 'Tlaxcala',\n",
    "    'Veracruz': 'Xalapa',\n",
    "    'Yucatán': 'Mérida',\n",
    "    'Zacatecas': 'Zacatecas',\n",
    "    'Sin datos': ''\n",
    "}"
   ]
  },
  {
   "cell_type": "code",
   "execution_count": 72,
   "metadata": {},
   "outputs": [],
   "source": [
    "def ciudad_es_capital_de_provincia(ciudad, provincia):\n",
    "    if (ciudad == dic_estado_capital[provincia]):\n",
    "        return 1\n",
    "    return 0"
   ]
  },
  {
   "cell_type": "code",
   "execution_count": 73,
   "metadata": {},
   "outputs": [],
   "source": [
    "df_train['es_ciudad_capital'] = df_train.ciudad.combine(df_train.provincia, func=ciudad_es_capital_de_provincia)\n",
    "df_test['es_ciudad_capital'] = df_test.ciudad.combine(df_test.provincia, func=ciudad_es_capital_de_provincia)"
   ]
  },
  {
   "cell_type": "markdown",
   "metadata": {},
   "source": [
    "##### TOP15 de Ciudades más turísticas"
   ]
  },
  {
   "cell_type": "code",
   "execution_count": 74,
   "metadata": {},
   "outputs": [],
   "source": [
    "lst_top15_ciudades_turisticas = [\n",
    "    'Ciudad de México', 'Rivera Maya', 'Cancún', 'Los Cabos', 'Guadalajara', 'Puerto Vallarta', 'Monterrey', 'Acapulco', 'Nuevo Vallarta',\n",
    "    'Mazatlán', 'Puebla', 'Querétaro', 'Mérida', 'Veracruz', 'Ixtapa Zihuatanejo'\n",
    "]"
   ]
  },
  {
   "cell_type": "code",
   "execution_count": 75,
   "metadata": {},
   "outputs": [],
   "source": [
    "df_train['ciudad_turistica_top15'] = df_train['ciudad'].apply(lambda x: 1 if (x in lst_top15_ciudades_turisticas) else 0)\n",
    "df_test['ciudad_turistica_top15'] = df_test['ciudad'].apply(lambda x: 1 if (x in lst_top15_ciudades_turisticas) else 0)"
   ]
  },
  {
   "cell_type": "markdown",
   "metadata": {},
   "source": [
    "##### Mes y Año de publicación"
   ]
  },
  {
   "cell_type": "code",
   "execution_count": 76,
   "metadata": {},
   "outputs": [],
   "source": [
    "df_train['fecha'] = pd.to_datetime(df_train['fecha'])\n",
    "df_test['fecha'] = pd.to_datetime(df_test['fecha'])\n",
    "\n",
    "df_train['anio'] = df_train['fecha'].dt.year\n",
    "df_test['anio'] = df_test['fecha'].dt.year\n",
    "\n",
    "df_train['mes'] = df_train['fecha'].dt.month\n",
    "df_test['mes'] = df_test['fecha'].dt.month"
   ]
  },
  {
   "cell_type": "code",
   "execution_count": 93,
   "metadata": {},
   "outputs": [
    {
     "data": {
      "text/plain": [
       "Index(['id', 'titulo', 'descripcion', 'tipodepropiedad', 'direccion', 'ciudad',\n",
       "       'provincia', 'antiguedad', 'habitaciones', 'garages', 'banos',\n",
       "       'metroscubiertos', 'metrostotales', 'idzona', 'lat', 'lng', 'fecha',\n",
       "       'gimnasio', 'usosmultiples', 'piscina', 'escuelascercanas',\n",
       "       'centroscomercialescercanos', 'precio', 'cantidad_amenities',\n",
       "       'cantidad_servicios', 'relacion_metros', 'metros_por_habitacion',\n",
       "       'metros_por_bano', 'metros_por_amenities', 'bano_por_habitacion',\n",
       "       'garages_por_habitacion', 'precio_prom_ciudad', 'precio_prom_propiedad',\n",
       "       'provincia_top5', 'es_Apartamento', 'es_Casa_en_condominio', 'es_Casa',\n",
       "       'es_Terreno', 'es_Terreno_comercial', 'es_Local_Comercial',\n",
       "       'es_Quinta_Vacacional', 'es_Oficina_comercial', 'es_Edificio',\n",
       "       'es_Casa_uso_de_suelo', 'es_Local_en_centro_comercial',\n",
       "       'es_Bodega_comercial', 'es_Otros', 'es_Villa', 'es_Duplex',\n",
       "       'es_Inmuebles_productivos_urbanos', 'es_Departamento_Compartido',\n",
       "       'es_Nave_industrial', 'es_Rancho', 'es_Terreno_industrial', 'es_Huerta',\n",
       "       'es_Lote', 'es_Hospedaje', 'es_Garage', 'seguridad_descripcion',\n",
       "       'moderno_descripcion', 'hermoso_descripcion', 'estado_descripcion',\n",
       "       'seguridad_titulo', 'moderno_titulo', 'hermoso_titulo', 'estado_titulo',\n",
       "       'cantidad_palabras_descripcion', 'relacion_palabras_descripcion',\n",
       "       'es_avenida', 'es_ciudad_capital', 'ciudad_turistica_top15', 'anio',\n",
       "       'mes'],\n",
       "      dtype='object')"
      ]
     },
     "execution_count": 93,
     "metadata": {},
     "output_type": "execute_result"
    }
   ],
   "source": [
    "df_train.columns"
   ]
  },
  {
   "cell_type": "markdown",
   "metadata": {},
   "source": [
    "-------------------------------------------------------------------------------------------------------------------------------------"
   ]
  },
  {
   "cell_type": "markdown",
   "metadata": {},
   "source": [
    "### Guardo Features generados"
   ]
  },
  {
   "cell_type": "code",
   "execution_count": 94,
   "metadata": {},
   "outputs": [],
   "source": [
    "df_train.to_csv('../data/train_con_features.csv')\n",
    "df_test.to_csv('../data/test_con_features.csv')"
   ]
  },
  {
   "cell_type": "markdown",
   "metadata": {},
   "source": [
    "##### Por idzona"
   ]
  },
  {
   "cell_type": "code",
   "execution_count": 77,
   "metadata": {},
   "outputs": [],
   "source": [
    "#from sklearn.dummy import DummyRegressor"
   ]
  },
  {
   "cell_type": "code",
   "execution_count": 78,
   "metadata": {},
   "outputs": [],
   "source": [
    "#dummies_idzona_train = pd.get_dummies(df_train['idzona'], dummy_na=False)\n",
    "#dummies_idzona_test = pd.get_dummies(df_test['idzona'], dummy_na=False)"
   ]
  },
  {
   "cell_type": "code",
   "execution_count": 79,
   "metadata": {},
   "outputs": [],
   "source": [
    "#df_train = df_train.join(dummies_idzona_train)\n",
    "#df_test = df_test.join(dummies_idzona_test)"
   ]
  },
  {
   "cell_type": "code",
   "execution_count": 80,
   "metadata": {},
   "outputs": [],
   "source": [
    "#df_train.columns"
   ]
  },
  {
   "cell_type": "markdown",
   "metadata": {},
   "source": [
    "##### Cotización dolar según fecha"
   ]
  },
  {
   "cell_type": "code",
   "execution_count": 81,
   "metadata": {},
   "outputs": [],
   "source": [
    "#df_dolar = pd.read_csv('../data/valor_historico_dolar_pesomexicano.csv')\n",
    "#df_dolar['fecha_cotizacion'] = pd.to_datetime(df_dolar['fecha_cotizacion'])\n",
    "#display(df_dolar.head())"
   ]
  },
  {
   "cell_type": "code",
   "execution_count": 82,
   "metadata": {},
   "outputs": [],
   "source": [
    "#firstDay = pd.Timestamp(2012, 1, 1)\n",
    "#lastDay = pd.Timestamp(2016, 12, 31)"
   ]
  },
  {
   "cell_type": "code",
   "execution_count": 83,
   "metadata": {},
   "outputs": [],
   "source": [
    "#from datetime import timedelta\n",
    "#lst_fechas = [firstDay + timedelta(days=d) for d in range((lastDay - firstDay).days + 1)]\n",
    "#dt_fechas_completas = pd.DataFrame(lst_fechas).rename(columns={0: 'fecha'})\n",
    "#dt_fechas_completas.head()"
   ]
  },
  {
   "cell_type": "code",
   "execution_count": 84,
   "metadata": {},
   "outputs": [],
   "source": [
    "#df_join_fecha = pd.merge(dt_fechas_completas, df_dolar, how='left', left_on='fecha', right_on='fecha_cotizacion')\n",
    "#df_join_fecha = df_join_fecha.sort_values(['fecha'])\n",
    "#df_join_fecha.head()"
   ]
  },
  {
   "cell_type": "code",
   "execution_count": 85,
   "metadata": {},
   "outputs": [],
   "source": [
    "#lst_fechas_nulos = df_join_fecha.loc[df_join_fecha['valor'].isnull()].index\n",
    "#lst_fechas_nulos"
   ]
  },
  {
   "cell_type": "code",
   "execution_count": 86,
   "metadata": {},
   "outputs": [],
   "source": [
    "#def convertir_str_float(valor):\n",
    "#    if type(valor) == float:\n",
    "#        return 0\n",
    "#    return float(valor.replace(',', '.'))"
   ]
  },
  {
   "cell_type": "code",
   "execution_count": 87,
   "metadata": {},
   "outputs": [],
   "source": [
    "#df_join_fecha['valor'] = df_join_fecha['valor'].apply(convertir_str_float)"
   ]
  },
  {
   "cell_type": "code",
   "execution_count": 88,
   "metadata": {},
   "outputs": [],
   "source": [
    "#for idx_fecha_nula in lst_fechas_nulos:\n",
    "#    idx_anterior = idx_fecha_nula - 1\n",
    "#    idx_posterior = idx_fecha_nula + 1\n",
    "#    if (idx_fecha_nula == 0):\n",
    "#        idx_anterior = idx_fecha_nula + 1\n",
    "#    if (idx_fecha_nula == 1826):\n",
    "#        idx_posterior = idx_fecha_nula - 1\n",
    "#    valor_anterior = df_join_fecha.xs(idx_anterior)['valor']\n",
    "#    valor_posterior = df_join_fecha.xs(idx_posterior)['valor']\n",
    "#    if (valor_posterior == 0):\n",
    "#        df_join_fecha.loc[idx_fecha_nula,'valor'] = valor_anterior\n",
    "#    else:\n",
    "#        df_join_fecha.loc[idx_fecha_nula,'valor'] = (valor_anterior + valor_posterior) / 2    \n",
    "        "
   ]
  },
  {
   "cell_type": "code",
   "execution_count": 89,
   "metadata": {},
   "outputs": [],
   "source": [
    "#def obtener_cotizacion (fecha):\n",
    "#    return df_join_fecha.loc[df_join_fecha['fecha'] == fecha]['valor']"
   ]
  },
  {
   "cell_type": "code",
   "execution_count": 90,
   "metadata": {},
   "outputs": [],
   "source": [
    "#df_train['valor_dolar'] = df_train['fecha'].apply(obtener_cotizacion)"
   ]
  },
  {
   "cell_type": "code",
   "execution_count": 91,
   "metadata": {},
   "outputs": [],
   "source": [
    "#df_train['valor_dolar'].value_counts()"
   ]
  },
  {
   "cell_type": "code",
   "execution_count": 92,
   "metadata": {},
   "outputs": [],
   "source": [
    "#df_join_fecha['valor'].value_counts()"
   ]
  }
 ],
 "metadata": {
  "kernelspec": {
   "display_name": "Python 3",
   "language": "python",
   "name": "python3"
  },
  "language_info": {
   "codemirror_mode": {
    "name": "ipython",
    "version": 3
   },
   "file_extension": ".py",
   "mimetype": "text/x-python",
   "name": "python",
   "nbconvert_exporter": "python",
   "pygments_lexer": "ipython3",
   "version": "3.7.3"
  }
 },
 "nbformat": 4,
 "nbformat_minor": 2
}
