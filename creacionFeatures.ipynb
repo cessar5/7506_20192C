{
 "cells": [
  {
   "cell_type": "code",
   "execution_count": 1,
   "metadata": {},
   "outputs": [],
   "source": [
    "import pandas as pd\n",
    "import numpy as np\n",
    "import calendar\n",
    "from datetime import datetime\n",
    "from sklearn.impute import SimpleImputer\n",
    "imp_mean = SimpleImputer(missing_values=np.nan, strategy='mean')"
   ]
  },
  {
   "cell_type": "markdown",
   "metadata": {},
   "source": [
    "## Notebook para limpiar datos y generar Features"
   ]
  },
  {
   "cell_type": "code",
   "execution_count": 2,
   "metadata": {},
   "outputs": [],
   "source": [
    "df_train = pd.read_csv('../data/train.csv')\n",
    "df_test = pd.read_csv('../data/test.csv')"
   ]
  },
  {
   "cell_type": "code",
   "execution_count": 3,
   "metadata": {},
   "outputs": [
    {
     "data": {
      "text/plain": [
       "Index(['id', 'titulo', 'descripcion', 'tipodepropiedad', 'direccion', 'ciudad',\n",
       "       'provincia', 'antiguedad', 'habitaciones', 'garages', 'banos',\n",
       "       'metroscubiertos', 'metrostotales', 'idzona', 'lat', 'lng', 'fecha',\n",
       "       'gimnasio', 'usosmultiples', 'piscina', 'escuelascercanas',\n",
       "       'centroscomercialescercanos', 'precio'],\n",
       "      dtype='object')"
      ]
     },
     "execution_count": 3,
     "metadata": {},
     "output_type": "execute_result"
    }
   ],
   "source": [
    "df_train.columns"
   ]
  },
  {
   "cell_type": "code",
   "execution_count": 4,
   "metadata": {},
   "outputs": [
    {
     "name": "stdout",
     "output_type": "stream",
     "text": [
      "Cantidad nulos en Tipo Propiedad: 46\n"
     ]
    },
    {
     "data": {
      "text/plain": [
       "Casa                             141717\n",
       "Apartamento                       57341\n",
       "Casa en condominio                19297\n",
       "Terreno                            9945\n",
       "Local Comercial                    3055\n",
       "Oficina comercial                  1741\n",
       "Bodega comercial                   1406\n",
       "Edificio                           1396\n",
       "Terreno comercial                  1326\n",
       "Casa uso de suelo                   708\n",
       "Quinta Vacacional                   395\n",
       "Duplex                              343\n",
       "Villa                               340\n",
       "Inmuebles productivos urbanos       200\n",
       "Rancho                              170\n",
       "Local en centro comercial           165\n",
       "Departamento Compartido             141\n",
       "Otros                               134\n",
       "Nave industrial                      76\n",
       "Terreno industrial                   31\n",
       "Huerta                               20\n",
       "Lote                                  5\n",
       "Garage                                1\n",
       "Hospedaje                             1\n",
       "Name: tipodepropiedad, dtype: int64"
      ]
     },
     "execution_count": 4,
     "metadata": {},
     "output_type": "execute_result"
    }
   ],
   "source": [
    "print('Cantidad nulos en Tipo Propiedad:', df_train.tipodepropiedad.isnull().sum())\n",
    "df_train.tipodepropiedad.value_counts()"
   ]
  },
  {
   "cell_type": "code",
   "execution_count": 5,
   "metadata": {},
   "outputs": [
    {
     "name": "stdout",
     "output_type": "stream",
     "text": [
      "Cantidad nulos en Ciudad: 372\n"
     ]
    },
    {
     "data": {
      "text/plain": [
       "Querétaro                              12646\n",
       "Benito Juárez                          11014\n",
       "Zapopan                                10360\n",
       "San Luis Potosí                         7925\n",
       "Mérida                                  7162\n",
       "Monterrey                               6946\n",
       "Alvaro Obregón                          6633\n",
       "Cuauhtémoc                              6614\n",
       "Naucalpan de Juárez                     6554\n",
       "Miguel Hidalgo                          5795\n",
       "Atizapán de Zaragoza                    5783\n",
       "Tlalpan                                 5721\n",
       "Huixquilucan                            5718\n",
       "Coyoacán                                5293\n",
       "Puebla                                  4636\n",
       "Guadalajara                             4006\n",
       "San Andrés Cholula                      3805\n",
       "Cancún                                  3779\n",
       "Cuernavaca                              3775\n",
       "Chihuahua                               3757\n",
       "Tlalnepantla de Baz                     3588\n",
       "Cuautitlán Izcalli                      3408\n",
       "Tlajomulco de Zúñiga                    3254\n",
       "Gustavo A. Madero                       3141\n",
       "Iztapalapa                              3093\n",
       "Cuajimalpa de Morelos                   3020\n",
       "Tijuana                                 2863\n",
       "Hermosillo                              2590\n",
       "Acapulco de Juárez                      2454\n",
       "Ecatepec de Morelos                     2159\n",
       "                                       ...  \n",
       "Cocula                                     1\n",
       "Zimatlán de Alvarez                        1\n",
       "Cacalchén                                  1\n",
       "Ixtaczoquitlán                             1\n",
       "Concordia                                  1\n",
       "Tolcayuca                                  1\n",
       "Purépero                                   1\n",
       "El Mante                                   1\n",
       "Oluta                                      1\n",
       "Axapusco                                   1\n",
       "Cuautitlán de García Barragán              1\n",
       "Salinas                                    1\n",
       "Atengo                                     1\n",
       "Cuaxomulco                                 1\n",
       "Nanacamilpa de Mariano Arista              1\n",
       "Escárcega                                  1\n",
       "Texcaltitlán                               1\n",
       "Coahuayana                                 1\n",
       "Elota                                      1\n",
       "Tetela del Volcán                          1\n",
       "Axochiapan                                 1\n",
       "Ixhuatlancillo                             1\n",
       "Reyes Etla                                 1\n",
       "Almoloya del Río                           1\n",
       "Chilchotla                                 1\n",
       "Tangancícuaro                              1\n",
       "Heroica Ciudad de Huajuapan de León        1\n",
       "Bella Vista                                1\n",
       "Palizada                                   1\n",
       "Yaxkukul                                   1\n",
       "Name: ciudad, Length: 875, dtype: int64"
      ]
     },
     "execution_count": 5,
     "metadata": {},
     "output_type": "execute_result"
    }
   ],
   "source": [
    "print('Cantidad nulos en Ciudad:', df_train.ciudad.isnull().sum())\n",
    "df_train.ciudad.value_counts()"
   ]
  },
  {
   "cell_type": "code",
   "execution_count": 6,
   "metadata": {},
   "outputs": [
    {
     "name": "stdout",
     "output_type": "stream",
     "text": [
      "Cantidad nulos en Provincia: 155\n"
     ]
    },
    {
     "data": {
      "text/plain": [
       "Distrito Federal         58790\n",
       "Edo. de México           41607\n",
       "Jalisco                  21238\n",
       "Querétaro                16988\n",
       "Nuevo León               15324\n",
       "Puebla                   10421\n",
       "San luis Potosí           8447\n",
       "Yucatán                   7928\n",
       "Morelos                   7337\n",
       "Veracruz                  5762\n",
       "Quintana Roo              4756\n",
       "Chihuahua                 4590\n",
       "Coahuila                  3695\n",
       "Baja California Norte     3220\n",
       "Sonora                    2988\n",
       "Guanajuato                2860\n",
       "Guerrero                  2678\n",
       "Hidalgo                   2521\n",
       "Michoacán                 2471\n",
       "Tamaulipas                2303\n",
       "Durango                   2275\n",
       "Sinaloa                   1806\n",
       "Aguascalientes            1753\n",
       "Baja California Sur       1700\n",
       "Nayarit                   1352\n",
       "Chiapas                   1126\n",
       "Colima                    1008\n",
       "Tabasco                    994\n",
       "Tlaxcala                   839\n",
       "Oaxaca                     711\n",
       "Campeche                   263\n",
       "Zacatecas                   94\n",
       "Name: provincia, dtype: int64"
      ]
     },
     "execution_count": 6,
     "metadata": {},
     "output_type": "execute_result"
    }
   ],
   "source": [
    "print('Cantidad nulos en Provincia:', df_train.provincia.isnull().sum())\n",
    "df_train.provincia.value_counts()"
   ]
  },
  {
   "cell_type": "code",
   "execution_count": 7,
   "metadata": {},
   "outputs": [
    {
     "name": "stdout",
     "output_type": "stream",
     "text": [
      "Cantidad nulos en Habitaciones: 22471\n"
     ]
    },
    {
     "data": {
      "text/plain": [
       "3.0     121887\n",
       "2.0      57808\n",
       "4.0      25068\n",
       "1.0       5069\n",
       "5.0       4596\n",
       "6.0       1669\n",
       "7.0        539\n",
       "8.0        398\n",
       "10.0       316\n",
       "9.0        179\n",
       "Name: habitaciones, dtype: int64"
      ]
     },
     "execution_count": 7,
     "metadata": {},
     "output_type": "execute_result"
    }
   ],
   "source": [
    "print('Cantidad nulos en Habitaciones:', df_train.habitaciones.isnull().sum())\n",
    "df_train.habitaciones.value_counts()"
   ]
  },
  {
   "cell_type": "code",
   "execution_count": 8,
   "metadata": {},
   "outputs": [
    {
     "name": "stdout",
     "output_type": "stream",
     "text": [
      "Cantidad nulos en Garages: 37765\n"
     ]
    },
    {
     "data": {
      "text/plain": [
       "2.0    94167\n",
       "1.0    59464\n",
       "0.0    26926\n",
       "3.0    21678\n",
       "Name: garages, dtype: int64"
      ]
     },
     "execution_count": 8,
     "metadata": {},
     "output_type": "execute_result"
    }
   ],
   "source": [
    "print('Cantidad nulos en Garages:', df_train.garages.isnull().sum())\n",
    "df_train.garages.value_counts()"
   ]
  },
  {
   "cell_type": "code",
   "execution_count": 9,
   "metadata": {},
   "outputs": [
    {
     "name": "stdout",
     "output_type": "stream",
     "text": [
      "Cantidad nulos en Antiguedad: 43555\n"
     ]
    },
    {
     "data": {
      "text/plain": [
       "0.0     50335\n",
       "5.0     33268\n",
       "10.0    28844\n",
       "20.0    19904\n",
       "1.0     12353\n",
       "4.0      7944\n",
       "3.0      5616\n",
       "2.0      5059\n",
       "15.0     3965\n",
       "6.0      3169\n",
       "30.0     3055\n",
       "8.0      2418\n",
       "25.0     2297\n",
       "7.0      2046\n",
       "12.0     1492\n",
       "11.0     1434\n",
       "40.0     1347\n",
       "50.0     1193\n",
       "9.0      1065\n",
       "35.0      938\n",
       "18.0      908\n",
       "21.0      742\n",
       "16.0      700\n",
       "14.0      616\n",
       "13.0      577\n",
       "17.0      529\n",
       "22.0      448\n",
       "28.0      396\n",
       "26.0      369\n",
       "45.0      329\n",
       "        ...  \n",
       "47.0       40\n",
       "55.0       38\n",
       "48.0       36\n",
       "46.0       31\n",
       "70.0       29\n",
       "41.0       27\n",
       "80.0       27\n",
       "53.0       17\n",
       "49.0       17\n",
       "65.0       17\n",
       "52.0       11\n",
       "58.0       10\n",
       "54.0        9\n",
       "75.0        6\n",
       "66.0        5\n",
       "59.0        5\n",
       "69.0        5\n",
       "67.0        4\n",
       "57.0        4\n",
       "63.0        4\n",
       "62.0        3\n",
       "56.0        3\n",
       "74.0        2\n",
       "68.0        2\n",
       "79.0        2\n",
       "61.0        2\n",
       "76.0        2\n",
       "71.0        1\n",
       "77.0        1\n",
       "64.0        1\n",
       "Name: antiguedad, Length: 78, dtype: int64"
      ]
     },
     "execution_count": 9,
     "metadata": {},
     "output_type": "execute_result"
    }
   ],
   "source": [
    "print('Cantidad nulos en Antiguedad:', df_train.antiguedad.isnull().sum())\n",
    "df_train.antiguedad.value_counts()"
   ]
  },
  {
   "cell_type": "code",
   "execution_count": 10,
   "metadata": {},
   "outputs": [
    {
     "name": "stdout",
     "output_type": "stream",
     "text": [
      "Cantidad nulos en Baños: 26221\n"
     ]
    },
    {
     "data": {
      "text/plain": [
       "2.0    87683\n",
       "1.0    58173\n",
       "3.0    49365\n",
       "4.0    18558\n",
       "Name: banos, dtype: int64"
      ]
     },
     "execution_count": 10,
     "metadata": {},
     "output_type": "execute_result"
    }
   ],
   "source": [
    "print('Cantidad nulos en Baños:', df_train.banos.isnull().sum())\n",
    "df_train.banos.value_counts()"
   ]
  },
  {
   "cell_type": "code",
   "execution_count": 11,
   "metadata": {},
   "outputs": [
    {
     "name": "stdout",
     "output_type": "stream",
     "text": [
      "Cantidad nulos en Metros Cubiertos: 17400\n"
     ]
    },
    {
     "data": {
      "text/plain": [
       "200.0    4984\n",
       "120.0    4290\n",
       "60.0     4217\n",
       "90.0     4204\n",
       "300.0    3920\n",
       "100.0    3892\n",
       "180.0    3780\n",
       "80.0     3716\n",
       "150.0    3543\n",
       "250.0    3521\n",
       "160.0    3502\n",
       "70.0     3231\n",
       "140.0    2931\n",
       "65.0     2747\n",
       "220.0    2728\n",
       "110.0    2695\n",
       "400.0    2434\n",
       "130.0    2420\n",
       "240.0    2358\n",
       "350.0    2197\n",
       "75.0     2153\n",
       "170.0    2121\n",
       "280.0    1989\n",
       "190.0    1890\n",
       "50.0     1836\n",
       "230.0    1730\n",
       "260.0    1728\n",
       "210.0    1653\n",
       "85.0     1652\n",
       "320.0    1574\n",
       "         ... \n",
       "421.0      58\n",
       "381.0      55\n",
       "437.0      55\n",
       "373.0      55\n",
       "439.0      54\n",
       "34.0       53\n",
       "422.0      52\n",
       "431.0      50\n",
       "427.0      47\n",
       "379.0      47\n",
       "25.0       47\n",
       "399.0      46\n",
       "403.0      46\n",
       "433.0      46\n",
       "413.0      43\n",
       "31.0       39\n",
       "429.0      36\n",
       "15.0       30\n",
       "28.0       30\n",
       "27.0       23\n",
       "24.0       22\n",
       "23.0       21\n",
       "16.0       18\n",
       "29.0       16\n",
       "26.0       14\n",
       "18.0       13\n",
       "22.0       12\n",
       "19.0       10\n",
       "21.0        9\n",
       "17.0        8\n",
       "Name: metroscubiertos, Length: 425, dtype: int64"
      ]
     },
     "execution_count": 11,
     "metadata": {},
     "output_type": "execute_result"
    }
   ],
   "source": [
    "print('Cantidad nulos en Metros Cubiertos:', df_train.metroscubiertos.isnull().sum())\n",
    "df_train.metroscubiertos.value_counts()"
   ]
  },
  {
   "cell_type": "code",
   "execution_count": 12,
   "metadata": {},
   "outputs": [
    {
     "name": "stdout",
     "output_type": "stream",
     "text": [
      "Cantidad nulos en Metros Totales: 51467\n"
     ]
    },
    {
     "data": {
      "text/plain": [
       "90.0     7042\n",
       "200.0    6957\n",
       "160.0    6026\n",
       "120.0    5687\n",
       "300.0    4837\n",
       "250.0    4360\n",
       "140.0    3314\n",
       "180.0    3304\n",
       "60.0     3165\n",
       "105.0    3051\n",
       "150.0    2837\n",
       "100.0    2815\n",
       "80.0     2401\n",
       "400.0    2001\n",
       "70.0     1888\n",
       "130.0    1871\n",
       "110.0    1754\n",
       "128.0    1746\n",
       "240.0    1660\n",
       "220.0    1654\n",
       "144.0    1595\n",
       "170.0    1567\n",
       "96.0     1542\n",
       "65.0     1445\n",
       "75.0     1337\n",
       "72.0     1271\n",
       "126.0    1172\n",
       "112.0    1170\n",
       "350.0    1151\n",
       "210.0    1095\n",
       "         ... \n",
       "439.0      54\n",
       "381.0      53\n",
       "20.0       52\n",
       "379.0      52\n",
       "38.0       51\n",
       "394.0      51\n",
       "39.0       50\n",
       "423.0      47\n",
       "421.0      46\n",
       "433.0      42\n",
       "25.0       40\n",
       "393.0      40\n",
       "429.0      39\n",
       "34.0       36\n",
       "31.0       34\n",
       "33.0       34\n",
       "15.0       32\n",
       "37.0       28\n",
       "28.0       28\n",
       "27.0       28\n",
       "26.0       22\n",
       "24.0       21\n",
       "16.0       19\n",
       "29.0       18\n",
       "22.0       17\n",
       "18.0       14\n",
       "21.0       14\n",
       "17.0       13\n",
       "23.0       10\n",
       "19.0        8\n",
       "Name: metrostotales, Length: 425, dtype: int64"
      ]
     },
     "execution_count": 12,
     "metadata": {},
     "output_type": "execute_result"
    }
   ],
   "source": [
    "print('Cantidad nulos en Metros Totales:', df_train.metrostotales.isnull().sum())\n",
    "df_train.metrostotales.value_counts()"
   ]
  },
  {
   "cell_type": "code",
   "execution_count": 13,
   "metadata": {},
   "outputs": [
    {
     "name": "stdout",
     "output_type": "stream",
     "text": [
      "Cantidad nulos en Gimnasio: 0\n"
     ]
    },
    {
     "data": {
      "text/plain": [
       "0.0    225006\n",
       "1.0     14994\n",
       "Name: gimnasio, dtype: int64"
      ]
     },
     "execution_count": 13,
     "metadata": {},
     "output_type": "execute_result"
    }
   ],
   "source": [
    "print('Cantidad nulos en Gimnasio:', df_train.gimnasio.isnull().sum())\n",
    "df_train.gimnasio.value_counts()"
   ]
  },
  {
   "cell_type": "code",
   "execution_count": 14,
   "metadata": {},
   "outputs": [
    {
     "name": "stdout",
     "output_type": "stream",
     "text": [
      "Cantidad nulos en SUM: 0\n"
     ]
    },
    {
     "data": {
      "text/plain": [
       "0.0    226778\n",
       "1.0     13222\n",
       "Name: usosmultiples, dtype: int64"
      ]
     },
     "execution_count": 14,
     "metadata": {},
     "output_type": "execute_result"
    }
   ],
   "source": [
    "print('Cantidad nulos en SUM:', df_train.usosmultiples.isnull().sum())\n",
    "df_train.usosmultiples.value_counts()"
   ]
  },
  {
   "cell_type": "code",
   "execution_count": 15,
   "metadata": {},
   "outputs": [
    {
     "name": "stdout",
     "output_type": "stream",
     "text": [
      "Cantidad nulos en Piscina: 0\n"
     ]
    },
    {
     "data": {
      "text/plain": [
       "0.0    219028\n",
       "1.0     20972\n",
       "Name: piscina, dtype: int64"
      ]
     },
     "execution_count": 15,
     "metadata": {},
     "output_type": "execute_result"
    }
   ],
   "source": [
    "print('Cantidad nulos en Piscina:', df_train.piscina.isnull().sum())\n",
    "df_train.piscina.value_counts()"
   ]
  },
  {
   "cell_type": "code",
   "execution_count": 16,
   "metadata": {},
   "outputs": [
    {
     "name": "stdout",
     "output_type": "stream",
     "text": [
      "Cantidad nulos en Escuelas Cercanas: 0\n"
     ]
    },
    {
     "data": {
      "text/plain": [
       "0.0    133406\n",
       "1.0    106594\n",
       "Name: escuelascercanas, dtype: int64"
      ]
     },
     "execution_count": 16,
     "metadata": {},
     "output_type": "execute_result"
    }
   ],
   "source": [
    "print('Cantidad nulos en Escuelas Cercanas:', df_train.escuelascercanas.isnull().sum())\n",
    "df_train.escuelascercanas.value_counts()"
   ]
  },
  {
   "cell_type": "code",
   "execution_count": 17,
   "metadata": {},
   "outputs": [
    {
     "name": "stdout",
     "output_type": "stream",
     "text": [
      "Cantidad nulos en Centros Comerciales Cercanos: 0\n"
     ]
    },
    {
     "data": {
      "text/plain": [
       "0.0    144832\n",
       "1.0     95168\n",
       "Name: centroscomercialescercanos, dtype: int64"
      ]
     },
     "execution_count": 17,
     "metadata": {},
     "output_type": "execute_result"
    }
   ],
   "source": [
    "print('Cantidad nulos en Centros Comerciales Cercanos:', df_train.centroscomercialescercanos.isnull().sum())\n",
    "df_train.centroscomercialescercanos.value_counts()"
   ]
  },
  {
   "cell_type": "markdown",
   "metadata": {},
   "source": [
    "-------------------------------------------------------------------------------------------------------------------------------------"
   ]
  },
  {
   "cell_type": "markdown",
   "metadata": {},
   "source": [
    "### Reemplazo de Nulos"
   ]
  },
  {
   "cell_type": "code",
   "execution_count": 18,
   "metadata": {},
   "outputs": [],
   "source": [
    "# Imputamos los NaNs\n",
    "df_train['metroscubiertos'] = imp_mean.fit_transform(df_train[['metroscubiertos']])\n",
    "df_test['metroscubiertos'] = imp_mean.transform(df_test[['metroscubiertos']])"
   ]
  },
  {
   "cell_type": "code",
   "execution_count": 19,
   "metadata": {},
   "outputs": [],
   "source": [
    "# Imputamos los NaNs\n",
    "df_train['metrostotales'] = imp_mean.fit_transform(df_train[['metrostotales']])\n",
    "df_test['metrostotales'] = imp_mean.transform(df_test[['metrostotales']])"
   ]
  },
  {
   "cell_type": "code",
   "execution_count": 20,
   "metadata": {},
   "outputs": [],
   "source": [
    "# Imputamos los NaNs\n",
    "df_train['banos'] = imp_mean.fit_transform(df_train[['banos']])\n",
    "df_test['banos'] = imp_mean.transform(df_test[['banos']])"
   ]
  },
  {
   "cell_type": "code",
   "execution_count": 21,
   "metadata": {},
   "outputs": [],
   "source": [
    "# Imputamos los NaNs\n",
    "df_train['antiguedad'] = imp_mean.fit_transform(df_train[['antiguedad']])\n",
    "df_test['antiguedad'] = imp_mean.transform(df_test[['antiguedad']])"
   ]
  },
  {
   "cell_type": "code",
   "execution_count": 22,
   "metadata": {},
   "outputs": [],
   "source": [
    "# Imputamos los NaNs\n",
    "df_train['garages'] = imp_mean.fit_transform(df_train[['garages']])\n",
    "df_test['garages'] = imp_mean.transform(df_test[['garages']])"
   ]
  },
  {
   "cell_type": "code",
   "execution_count": 23,
   "metadata": {},
   "outputs": [],
   "source": [
    "# Imputamos los NaNs\n",
    "df_train['habitaciones'] = imp_mean.fit_transform(df_train[['habitaciones']])\n",
    "df_test['habitaciones'] = imp_mean.transform(df_test[['habitaciones']])"
   ]
  },
  {
   "cell_type": "code",
   "execution_count": 24,
   "metadata": {},
   "outputs": [],
   "source": [
    "# Imputamos los Nulos\n",
    "df_train['tipodepropiedad'].fillna(\"Sin datos\", inplace = True)\n",
    "df_test['tipodepropiedad'].fillna(\"Sin datos\", inplace = True)"
   ]
  },
  {
   "cell_type": "code",
   "execution_count": 25,
   "metadata": {},
   "outputs": [],
   "source": [
    "# Imputamos los Nulos\n",
    "df_train['ciudad'].fillna(\"Sin datos\", inplace = True)\n",
    "df_test['ciudad'].fillna(\"Sin datos\", inplace = True)"
   ]
  },
  {
   "cell_type": "code",
   "execution_count": 26,
   "metadata": {},
   "outputs": [],
   "source": [
    "# Imputamos los Nulos\n",
    "df_train['provincia'].fillna(\"Sin datos\", inplace = True)\n",
    "df_test['provincia'].fillna(\"Sin datos\", inplace = True)"
   ]
  },
  {
   "cell_type": "code",
   "execution_count": 27,
   "metadata": {},
   "outputs": [],
   "source": [
    "# Imputamos los Nulos\n",
    "df_train['descripcion'].fillna(\"Sin datos\", inplace = True)\n",
    "df_test['descripcion'].fillna(\"Sin datos\", inplace = True)"
   ]
  },
  {
   "cell_type": "code",
   "execution_count": 28,
   "metadata": {},
   "outputs": [],
   "source": [
    "# Imputamos los Nulos\n",
    "df_train['titulo'].fillna(\"Sin datos\", inplace = True)\n",
    "df_test['titulo'].fillna(\"Sin datos\", inplace = True)"
   ]
  },
  {
   "cell_type": "markdown",
   "metadata": {},
   "source": [
    "-------------------------------------------------------------------------------------------------------------------------------------"
   ]
  },
  {
   "cell_type": "markdown",
   "metadata": {},
   "source": [
    "### Creación de nuevos Features"
   ]
  },
  {
   "cell_type": "code",
   "execution_count": 29,
   "metadata": {},
   "outputs": [],
   "source": [
    "def relacion_metros(cantidad_metros_cuadrados, otra_variable):\n",
    "    if (otra_variable == 0):\n",
    "        return 0\n",
    "    return (cantidad_metros_cuadrados / otra_variable)"
   ]
  },
  {
   "cell_type": "markdown",
   "metadata": {},
   "source": [
    "##### Cantidad total de Amenities"
   ]
  },
  {
   "cell_type": "code",
   "execution_count": 30,
   "metadata": {},
   "outputs": [],
   "source": [
    "df_train['cantidad_amenities'] = df_train['gimnasio'] + df_train['usosmultiples'] + df_train['piscina']\n",
    "df_test['cantidad_amenities'] = df_test['gimnasio'] + df_test['usosmultiples'] + df_test['piscina']"
   ]
  },
  {
   "cell_type": "markdown",
   "metadata": {},
   "source": [
    "##### Cantidad total de Servicios (escuales/comercios cercanos)"
   ]
  },
  {
   "cell_type": "code",
   "execution_count": 31,
   "metadata": {},
   "outputs": [],
   "source": [
    "df_train['cantidad_servicios'] = df_train['escuelascercanas'] + df_train['centroscomercialescercanos']\n",
    "df_test['cantidad_servicios'] =  df_test['escuelascercanas'] + df_test['centroscomercialescercanos']"
   ]
  },
  {
   "cell_type": "markdown",
   "metadata": {},
   "source": [
    "##### Relación entre Metros Cubiertos sobre Metros Totales"
   ]
  },
  {
   "cell_type": "code",
   "execution_count": 32,
   "metadata": {},
   "outputs": [],
   "source": [
    "df_train['relacion_metros'] = df_train['metroscubiertos'] / df_train['metrostotales']\n",
    "df_test['relacion_metros'] = df_test['metroscubiertos'] / df_test['metrostotales']"
   ]
  },
  {
   "cell_type": "markdown",
   "metadata": {},
   "source": [
    "##### Metros Cuadrados Cubiertos por Habitación"
   ]
  },
  {
   "cell_type": "code",
   "execution_count": 33,
   "metadata": {},
   "outputs": [],
   "source": [
    "df_train['metros_por_habitacion'] = df_train.metroscubiertos.combine(df_train.habitaciones, func=relacion_metros)\n",
    "df_test['metros_por_habitacion'] = df_test.metroscubiertos.combine(df_test.habitaciones, func=relacion_metros)"
   ]
  },
  {
   "cell_type": "markdown",
   "metadata": {},
   "source": [
    "##### Metros cuadrados cubiertos por Baño"
   ]
  },
  {
   "cell_type": "code",
   "execution_count": 34,
   "metadata": {},
   "outputs": [],
   "source": [
    "df_train['metros_por_bano'] = df_train.metroscubiertos.combine(df_train.banos, func=relacion_metros)\n",
    "df_test['metros_por_bano'] = df_test.metroscubiertos.combine(df_test.banos, func=relacion_metros)"
   ]
  },
  {
   "cell_type": "markdown",
   "metadata": {},
   "source": [
    "##### Metros cuadrados por cantidad total de Amenities"
   ]
  },
  {
   "cell_type": "code",
   "execution_count": 35,
   "metadata": {},
   "outputs": [],
   "source": [
    "df_train['metros_por_amenities'] = df_train.metroscubiertos.combine(df_train.cantidad_amenities, func=relacion_metros)\n",
    "df_test['metros_por_amenities'] = df_test.metroscubiertos.combine(df_test.cantidad_amenities, func=relacion_metros)"
   ]
  },
  {
   "cell_type": "markdown",
   "metadata": {},
   "source": [
    "##### Pertenece al TOP5 de Provincias más caras"
   ]
  },
  {
   "cell_type": "code",
   "execution_count": 36,
   "metadata": {},
   "outputs": [],
   "source": [
    "TOP5_provincias_caras = ['Distrito Federal', 'Edo. de México', 'Nuevo León', 'Guerrero', 'Quintana Roo']\n",
    "\n",
    "def es_provincia_top5 (ciudad):\n",
    "    if (ciudad in TOP5_provincias_caras):\n",
    "        return 1\n",
    "    return 0"
   ]
  },
  {
   "cell_type": "code",
   "execution_count": 37,
   "metadata": {},
   "outputs": [],
   "source": [
    "df_train['provincia_top5'] = df_train['provincia'].apply(es_provincia_top5)\n",
    "df_test['provincia_top5'] = df_test['provincia'].apply(es_provincia_top5)"
   ]
  },
  {
   "cell_type": "markdown",
   "metadata": {},
   "source": [
    "##### Encoded según el Tipo de Propiedad"
   ]
  },
  {
   "cell_type": "code",
   "execution_count": 38,
   "metadata": {},
   "outputs": [
    {
     "data": {
      "text/plain": [
       "array(['Apartamento', 'Casa en condominio', 'Casa', 'Terreno',\n",
       "       'Terreno comercial', 'Local Comercial', 'Quinta Vacacional',\n",
       "       'Oficina comercial', 'Edificio', 'Casa uso de suelo',\n",
       "       'Local en centro comercial', 'Bodega comercial', 'Otros', 'Villa',\n",
       "       'Duplex', 'Inmuebles productivos urbanos',\n",
       "       'Departamento Compartido', 'Nave industrial', 'Rancho',\n",
       "       'Terreno industrial', 'Sin datos', 'Huerta', 'Lote', 'Hospedaje',\n",
       "       'Garage'], dtype=object)"
      ]
     },
     "execution_count": 38,
     "metadata": {},
     "output_type": "execute_result"
    }
   ],
   "source": [
    "df_train['tipodepropiedad'].unique()"
   ]
  },
  {
   "cell_type": "code",
   "execution_count": 39,
   "metadata": {},
   "outputs": [],
   "source": [
    "# Lista de TipoPropiedades sin los 'Sin datos'\n",
    "lst_tipos_propiedades = ['Apartamento', 'Casa en condominio', 'Casa', 'Terreno', 'Terreno comercial', 'Local Comercial', \n",
    "                         'Quinta Vacacional', 'Oficina comercial', 'Edificio', 'Casa uso de suelo', 'Local en centro comercial', \n",
    "                         'Bodega comercial', 'Otros', 'Villa', 'Duplex', 'Inmuebles productivos urbanos', 'Departamento Compartido', \n",
    "                         'Nave industrial', 'Rancho', 'Terreno industrial', 'Huerta', 'Lote', 'Hospedaje', 'Garage']\n"
   ]
  },
  {
   "cell_type": "code",
   "execution_count": 40,
   "metadata": {},
   "outputs": [],
   "source": [
    "for un_tipo_prop in lst_tipos_propiedades:\n",
    "    nombre_columna = 'es_' + un_tipo_prop.replace (\" \", \"_\")\n",
    "    df_train[nombre_columna] = df_train['tipodepropiedad'].apply(lambda x: 1 if (x == un_tipo_prop) else 0)\n",
    "    df_test[nombre_columna] = df_test['tipodepropiedad'].apply(lambda x: 1 if (x == un_tipo_prop) else 0)\n"
   ]
  },
  {
   "cell_type": "markdown",
   "metadata": {},
   "source": [
    "-------------------------------------------------------------------------------------------------------------------------------------"
   ]
  },
  {
   "cell_type": "markdown",
   "metadata": {},
   "source": [
    "### Guardo Features generados"
   ]
  },
  {
   "cell_type": "code",
   "execution_count": 41,
   "metadata": {},
   "outputs": [],
   "source": [
    "df_train.to_csv('../data/train_con_features.csv')\n",
    "df_test.to_csv('../data/test_con_features.csv')"
   ]
  },
  {
   "cell_type": "code",
   "execution_count": null,
   "metadata": {},
   "outputs": [],
   "source": []
  }
 ],
 "metadata": {
  "kernelspec": {
   "display_name": "Python 3",
   "language": "python",
   "name": "python3"
  },
  "language_info": {
   "codemirror_mode": {
    "name": "ipython",
    "version": 3
   },
   "file_extension": ".py",
   "mimetype": "text/x-python",
   "name": "python",
   "nbconvert_exporter": "python",
   "pygments_lexer": "ipython3",
   "version": "3.7.3"
  }
 },
 "nbformat": 4,
 "nbformat_minor": 2
}
